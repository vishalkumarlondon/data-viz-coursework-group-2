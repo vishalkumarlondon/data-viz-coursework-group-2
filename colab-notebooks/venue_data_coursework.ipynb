{
  "nbformat": 4,
  "nbformat_minor": 0,
  "metadata": {
    "colab": {
      "name": "venue_data_coursework.ipynb",
      "provenance": [],
      "collapsed_sections": [],
      "authorship_tag": "ABX9TyNGxm+Wqyx3aGTp9AsO08CC",
      "include_colab_link": true
    },
    "kernelspec": {
      "name": "python3",
      "display_name": "Python 3"
    }
  },
  "cells": [
    {
      "cell_type": "markdown",
      "metadata": {
        "id": "view-in-github",
        "colab_type": "text"
      },
      "source": [
        "<a href=\"https://colab.research.google.com/github/vishalkumarlondon/data-viz-coursework-group-2/blob/master/colab-notebooks/venue_data_coursework.ipynb\" target=\"_parent\"><img src=\"https://colab.research.google.com/assets/colab-badge.svg\" alt=\"Open In Colab\"/></a>"
      ]
    },
    {
      "cell_type": "code",
      "metadata": {
        "id": "MgUZKYgNFeCp",
        "colab_type": "code",
        "colab": {}
      },
      "source": [
        "# #get Google Place API responses for each city\n",
        "# !wget https://storage.cloud.google.com/public-data-data_viz-2/fw19_placesapi_reponse_clean.csv"
      ],
      "execution_count": 0,
      "outputs": []
    },
    {
      "cell_type": "code",
      "metadata": {
        "id": "thWZ23B1F85z",
        "colab_type": "code",
        "colab": {}
      },
      "source": [
        "# #get Foursquare Place API responses for each city\n",
        "# !wget https://storage.cloud.google.com/public-data-data_viz-2/fw19_foursquareapi_reponse_clean.csv"
      ],
      "execution_count": 0,
      "outputs": []
    },
    {
      "cell_type": "code",
      "metadata": {
        "id": "HEEWIIechLwF",
        "colab_type": "code",
        "outputId": "78ca5852-5e79-4c9d-fe4f-ee5a11f03f51",
        "colab": {
          "base_uri": "https://localhost:8080/",
          "height": 486
        }
      },
      "source": [
        "!pip install geopandas"
      ],
      "execution_count": 0,
      "outputs": [
        {
          "output_type": "stream",
          "text": [
            "Collecting geopandas\n",
            "\u001b[?25l  Downloading https://files.pythonhosted.org/packages/83/c5/3cf9cdc39a6f2552922f79915f36b45a95b71fd343cfc51170a5b6ddb6e8/geopandas-0.7.0-py2.py3-none-any.whl (928kB)\n",
            "\u001b[K     |████████████████████████████████| 931kB 2.8MB/s \n",
            "\u001b[?25hCollecting fiona\n",
            "\u001b[?25l  Downloading https://files.pythonhosted.org/packages/ec/20/4e63bc5c6e62df889297b382c3ccd4a7a488b00946aaaf81a118158c6f09/Fiona-1.8.13.post1-cp36-cp36m-manylinux1_x86_64.whl (14.7MB)\n",
            "\u001b[K     |████████████████████████████████| 14.7MB 285kB/s \n",
            "\u001b[?25hRequirement already satisfied: shapely in /usr/local/lib/python3.6/dist-packages (from geopandas) (1.7.0)\n",
            "Collecting pyproj>=2.2.0\n",
            "\u001b[?25l  Downloading https://files.pythonhosted.org/packages/ce/37/705ee471f71130d4ceee41bbcb06f3b52175cb89273cbb5755ed5e6374e0/pyproj-2.6.0-cp36-cp36m-manylinux2010_x86_64.whl (10.4MB)\n",
            "\u001b[K     |████████████████████████████████| 10.4MB 44.5MB/s \n",
            "\u001b[?25hRequirement already satisfied: pandas>=0.23.0 in /usr/local/lib/python3.6/dist-packages (from geopandas) (1.0.3)\n",
            "Requirement already satisfied: attrs>=17 in /usr/local/lib/python3.6/dist-packages (from fiona->geopandas) (19.3.0)\n",
            "Requirement already satisfied: click<8,>=4.0 in /usr/local/lib/python3.6/dist-packages (from fiona->geopandas) (7.1.1)\n",
            "Collecting cligj>=0.5\n",
            "  Downloading https://files.pythonhosted.org/packages/e4/be/30a58b4b0733850280d01f8bd132591b4668ed5c7046761098d665ac2174/cligj-0.5.0-py3-none-any.whl\n",
            "Requirement already satisfied: six>=1.7 in /usr/local/lib/python3.6/dist-packages (from fiona->geopandas) (1.12.0)\n",
            "Collecting munch\n",
            "  Downloading https://files.pythonhosted.org/packages/cc/ab/85d8da5c9a45e072301beb37ad7f833cd344e04c817d97e0cc75681d248f/munch-2.5.0-py2.py3-none-any.whl\n",
            "Collecting click-plugins>=1.0\n",
            "  Downloading https://files.pythonhosted.org/packages/e9/da/824b92d9942f4e472702488857914bdd50f73021efea15b4cad9aca8ecef/click_plugins-1.1.1-py2.py3-none-any.whl\n",
            "Requirement already satisfied: pytz>=2017.2 in /usr/local/lib/python3.6/dist-packages (from pandas>=0.23.0->geopandas) (2018.9)\n",
            "Requirement already satisfied: python-dateutil>=2.6.1 in /usr/local/lib/python3.6/dist-packages (from pandas>=0.23.0->geopandas) (2.8.1)\n",
            "Requirement already satisfied: numpy>=1.13.3 in /usr/local/lib/python3.6/dist-packages (from pandas>=0.23.0->geopandas) (1.18.3)\n",
            "Installing collected packages: cligj, munch, click-plugins, fiona, pyproj, geopandas\n",
            "Successfully installed click-plugins-1.1.1 cligj-0.5.0 fiona-1.8.13.post1 geopandas-0.7.0 munch-2.5.0 pyproj-2.6.0\n"
          ],
          "name": "stdout"
        }
      ]
    },
    {
      "cell_type": "code",
      "metadata": {
        "id": "DroVits9hLA2",
        "colab_type": "code",
        "colab": {}
      },
      "source": [
        "import geopandas as gpd"
      ],
      "execution_count": 0,
      "outputs": []
    },
    {
      "cell_type": "code",
      "metadata": {
        "id": "mDWGVlEZGP8D",
        "colab_type": "code",
        "outputId": "a12996aa-be17-4f08-efc2-b314d9406302",
        "colab": {
          "base_uri": "https://localhost:8080/",
          "height": 34
        }
      },
      "source": [
        "import pandas as pd\n",
        "\n",
        "google = pd.read_csv('https://raw.githubusercontent.com/vishalkumarlondon/data-viz-coursework-group-2/master/data/fw19_placesapi_reponse_clean.csv')\n",
        "foursquare = pd.read_csv('https://raw.githubusercontent.com/vishalkumarlondon/data-viz-coursework-group-2/master/data/fw19_foursquareapi_reponse_clean.csv')\n",
        "\n",
        "print(google.shape, foursquare.shape)"
      ],
      "execution_count": 0,
      "outputs": [
        {
          "output_type": "stream",
          "text": [
            "(8456, 10) (12661, 9)\n"
          ],
          "name": "stdout"
        }
      ]
    },
    {
      "cell_type": "code",
      "metadata": {
        "id": "yyVnoLQGQF9m",
        "colab_type": "code",
        "colab": {}
      },
      "source": [
        "google.drop('Unnamed: 0', axis=1, inplace=True)\n",
        "foursquare.drop('Unnamed: 0', axis=1, inplace=True)"
      ],
      "execution_count": 0,
      "outputs": []
    },
    {
      "cell_type": "code",
      "metadata": {
        "id": "RPn2ZarmHkLw",
        "colab_type": "code",
        "outputId": "cc264faf-1906-4e14-c7c0-7a235371b0b6",
        "colab": {
          "base_uri": "https://localhost:8080/",
          "height": 189
        }
      },
      "source": [
        "google.head()"
      ],
      "execution_count": 0,
      "outputs": [
        {
          "output_type": "execute_result",
          "data": {
            "text/html": [
              "<div>\n",
              "<style scoped>\n",
              "    .dataframe tbody tr th:only-of-type {\n",
              "        vertical-align: middle;\n",
              "    }\n",
              "\n",
              "    .dataframe tbody tr th {\n",
              "        vertical-align: top;\n",
              "    }\n",
              "\n",
              "    .dataframe thead th {\n",
              "        text-align: right;\n",
              "    }\n",
              "</style>\n",
              "<table border=\"1\" class=\"dataframe\">\n",
              "  <thead>\n",
              "    <tr style=\"text-align: right;\">\n",
              "      <th></th>\n",
              "      <th>Neighborhood</th>\n",
              "      <th>city</th>\n",
              "      <th>name</th>\n",
              "      <th>address</th>\n",
              "      <th>rating</th>\n",
              "      <th>user_ratings_total</th>\n",
              "      <th>types</th>\n",
              "      <th>lat</th>\n",
              "      <th>long</th>\n",
              "    </tr>\n",
              "  </thead>\n",
              "  <tbody>\n",
              "    <tr>\n",
              "      <th>0</th>\n",
              "      <td>Louvre</td>\n",
              "      <td>Paris</td>\n",
              "      <td>Paris</td>\n",
              "      <td>Paris</td>\n",
              "      <td>NaN</td>\n",
              "      <td>NaN</td>\n",
              "      <td>['lodging', 'point_of_interest', 'establishment']</td>\n",
              "      <td>48.856614</td>\n",
              "      <td>2.352222</td>\n",
              "    </tr>\n",
              "    <tr>\n",
              "      <th>1</th>\n",
              "      <td>Louvre</td>\n",
              "      <td>Paris</td>\n",
              "      <td>Hôtel Ducs de Bourgogne</td>\n",
              "      <td>19 Rue du Pont Neuf, Paris</td>\n",
              "      <td>4.6</td>\n",
              "      <td>104.0</td>\n",
              "      <td>['lodging', 'point_of_interest', 'establishment']</td>\n",
              "      <td>48.860348</td>\n",
              "      <td>2.344054</td>\n",
              "    </tr>\n",
              "    <tr>\n",
              "      <th>2</th>\n",
              "      <td>Louvre</td>\n",
              "      <td>Paris</td>\n",
              "      <td>Hotel Relais Du Louvre</td>\n",
              "      <td>19 Rue des Prêtres Saint-Germain l'Auxerrois, ...</td>\n",
              "      <td>4.2</td>\n",
              "      <td>329.0</td>\n",
              "      <td>['lodging', 'point_of_interest', 'establishment']</td>\n",
              "      <td>48.859246</td>\n",
              "      <td>2.341005</td>\n",
              "    </tr>\n",
              "    <tr>\n",
              "      <th>3</th>\n",
              "      <td>Louvre</td>\n",
              "      <td>Paris</td>\n",
              "      <td>L'Empire Paris</td>\n",
              "      <td>48 Rue de l'Arbre Sec, Paris</td>\n",
              "      <td>4.5</td>\n",
              "      <td>111.0</td>\n",
              "      <td>['lodging', 'point_of_interest', 'establishment']</td>\n",
              "      <td>48.860725</td>\n",
              "      <td>2.342583</td>\n",
              "    </tr>\n",
              "    <tr>\n",
              "      <th>4</th>\n",
              "      <td>Louvre</td>\n",
              "      <td>Paris</td>\n",
              "      <td>Hôtel 3 étoiles de la Place du Louvre Paris 1e...</td>\n",
              "      <td>21 Rue des Prêtres Saint-Germain l'Auxerrois, ...</td>\n",
              "      <td>4.0</td>\n",
              "      <td>233.0</td>\n",
              "      <td>['lodging', 'point_of_interest', 'establishment']</td>\n",
              "      <td>48.859222</td>\n",
              "      <td>2.340905</td>\n",
              "    </tr>\n",
              "  </tbody>\n",
              "</table>\n",
              "</div>"
            ],
            "text/plain": [
              "  Neighborhood   city  ...        lat      long\n",
              "0       Louvre  Paris  ...  48.856614  2.352222\n",
              "1       Louvre  Paris  ...  48.860348  2.344054\n",
              "2       Louvre  Paris  ...  48.859246  2.341005\n",
              "3       Louvre  Paris  ...  48.860725  2.342583\n",
              "4       Louvre  Paris  ...  48.859222  2.340905\n",
              "\n",
              "[5 rows x 9 columns]"
            ]
          },
          "metadata": {
            "tags": []
          },
          "execution_count": 13
        }
      ]
    },
    {
      "cell_type": "code",
      "metadata": {
        "id": "1j27ahsTE1g2",
        "colab_type": "code",
        "outputId": "281304f4-9610-402b-fbd5-9845a05f1ec2",
        "colab": {
          "base_uri": "https://localhost:8080/",
          "height": 214
        }
      },
      "source": [
        "google.types.value_counts()[:10]"
      ],
      "execution_count": 0,
      "outputs": [
        {
          "output_type": "execute_result",
          "data": {
            "text/plain": [
              "['point_of_interest', 'establishment']                                  953\n",
              "['lodging', 'point_of_interest', 'establishment']                       710\n",
              "['restaurant', 'food', 'point_of_interest', 'establishment']            301\n",
              "['doctor', 'health', 'point_of_interest', 'establishment']              207\n",
              "['bar', 'restaurant', 'food', 'point_of_interest', 'establishment']     173\n",
              "['health', 'point_of_interest', 'establishment']                        139\n",
              "['church', 'place_of_worship', 'point_of_interest', 'establishment']    108\n",
              "['point_of_interest', 'store', 'establishment']                         101\n",
              "['real_estate_agency', 'point_of_interest', 'establishment']             81\n",
              "['dentist', 'health', 'point_of_interest', 'establishment']              64\n",
              "Name: types, dtype: int64"
            ]
          },
          "metadata": {
            "tags": []
          },
          "execution_count": 14
        }
      ]
    },
    {
      "cell_type": "code",
      "metadata": {
        "id": "biUS_2vAKyJE",
        "colab_type": "code",
        "colab": {}
      },
      "source": [
        "google.columns = ['neighborhood', 'city', 'venue_name', 'venue_address', 'venue_rating',\n",
        "       'user_ratings_total', 'venue_types', 'venue_latitude', 'venue_longitude']"
      ],
      "execution_count": 0,
      "outputs": []
    },
    {
      "cell_type": "code",
      "metadata": {
        "id": "sPpODvyMEkHm",
        "colab_type": "code",
        "outputId": "3cee545e-45c1-4d24-96be-7afa1bf83bbb",
        "colab": {
          "base_uri": "https://localhost:8080/",
          "height": 189
        }
      },
      "source": [
        "foursquare.head()"
      ],
      "execution_count": 0,
      "outputs": [
        {
          "output_type": "execute_result",
          "data": {
            "text/html": [
              "<div>\n",
              "<style scoped>\n",
              "    .dataframe tbody tr th:only-of-type {\n",
              "        vertical-align: middle;\n",
              "    }\n",
              "\n",
              "    .dataframe tbody tr th {\n",
              "        vertical-align: top;\n",
              "    }\n",
              "\n",
              "    .dataframe thead th {\n",
              "        text-align: right;\n",
              "    }\n",
              "</style>\n",
              "<table border=\"1\" class=\"dataframe\">\n",
              "  <thead>\n",
              "    <tr style=\"text-align: right;\">\n",
              "      <th></th>\n",
              "      <th>neighborhood</th>\n",
              "      <th>neighborhood_latitude</th>\n",
              "      <th>neighborhood_longitude</th>\n",
              "      <th>venue_name</th>\n",
              "      <th>venue_category</th>\n",
              "      <th>venue_latitude</th>\n",
              "      <th>venue_longitude</th>\n",
              "      <th>city</th>\n",
              "    </tr>\n",
              "  </thead>\n",
              "  <tbody>\n",
              "    <tr>\n",
              "      <th>0</th>\n",
              "      <td>Louvre</td>\n",
              "      <td>48.861</td>\n",
              "      <td>2.339</td>\n",
              "      <td>Musée du Louvre</td>\n",
              "      <td>Art Museum</td>\n",
              "      <td>48.860847</td>\n",
              "      <td>2.336440</td>\n",
              "      <td>Paris</td>\n",
              "    </tr>\n",
              "    <tr>\n",
              "      <th>1</th>\n",
              "      <td>Louvre</td>\n",
              "      <td>48.861</td>\n",
              "      <td>2.339</td>\n",
              "      <td>Monument de l'amiral Gaspard de Coligny</td>\n",
              "      <td>Outdoor Sculpture</td>\n",
              "      <td>48.861216</td>\n",
              "      <td>2.339395</td>\n",
              "      <td>Paris</td>\n",
              "    </tr>\n",
              "    <tr>\n",
              "      <th>2</th>\n",
              "      <td>Louvre</td>\n",
              "      <td>48.861</td>\n",
              "      <td>2.339</td>\n",
              "      <td>UGC Ciné Cité Les Halles</td>\n",
              "      <td>Multiplex</td>\n",
              "      <td>48.862607</td>\n",
              "      <td>2.343531</td>\n",
              "      <td>Paris</td>\n",
              "    </tr>\n",
              "    <tr>\n",
              "      <th>3</th>\n",
              "      <td>Louvre</td>\n",
              "      <td>48.861</td>\n",
              "      <td>2.339</td>\n",
              "      <td>Comédie-Française</td>\n",
              "      <td>Theater</td>\n",
              "      <td>48.863088</td>\n",
              "      <td>2.336612</td>\n",
              "      <td>Paris</td>\n",
              "    </tr>\n",
              "    <tr>\n",
              "      <th>4</th>\n",
              "      <td>Louvre</td>\n",
              "      <td>48.861</td>\n",
              "      <td>2.339</td>\n",
              "      <td>Intersport</td>\n",
              "      <td>Sporting Goods Shop</td>\n",
              "      <td>48.860796</td>\n",
              "      <td>2.341252</td>\n",
              "      <td>Paris</td>\n",
              "    </tr>\n",
              "  </tbody>\n",
              "</table>\n",
              "</div>"
            ],
            "text/plain": [
              "  neighborhood  neighborhood_latitude  ...  venue_longitude   city\n",
              "0       Louvre                 48.861  ...         2.336440  Paris\n",
              "1       Louvre                 48.861  ...         2.339395  Paris\n",
              "2       Louvre                 48.861  ...         2.343531  Paris\n",
              "3       Louvre                 48.861  ...         2.336612  Paris\n",
              "4       Louvre                 48.861  ...         2.341252  Paris\n",
              "\n",
              "[5 rows x 8 columns]"
            ]
          },
          "metadata": {
            "tags": []
          },
          "execution_count": 24
        }
      ]
    },
    {
      "cell_type": "code",
      "metadata": {
        "id": "yKXAjesmEl5E",
        "colab_type": "code",
        "colab": {}
      },
      "source": [
        "foursquare.columns = ['neighborhood', 'neighborhood_latitude', 'neighborhood_longitude',\n",
        "       'venue_name', 'venue_category', 'venue_latitude', 'venue_longitude',\n",
        "       'city']"
      ],
      "execution_count": 0,
      "outputs": []
    },
    {
      "cell_type": "code",
      "metadata": {
        "id": "2hJAtyYYg3TV",
        "colab_type": "code",
        "outputId": "3d569ace-a0b1-405f-d0a6-961c82a03dec",
        "colab": {
          "base_uri": "https://localhost:8080/",
          "height": 34
        }
      },
      "source": [
        "## Transform pandas dataframe into geopandas df! \n",
        "foursquare_geojson = gpd.GeoDataFrame(foursquare, geometry=gpd.points_from_xy(foursquare.venue_longitude, foursquare.venue_latitude), crs=\"EPSG:4326\")\n",
        "type(foursquare)"
      ],
      "execution_count": 0,
      "outputs": [
        {
          "output_type": "execute_result",
          "data": {
            "text/plain": [
              "pandas.core.frame.DataFrame"
            ]
          },
          "metadata": {
            "tags": []
          },
          "execution_count": 61
        }
      ]
    },
    {
      "cell_type": "code",
      "metadata": {
        "id": "QPmJcfUKh6g-",
        "colab_type": "code",
        "colab": {}
      },
      "source": [
        "# foursquare_geojson"
      ],
      "execution_count": 0,
      "outputs": []
    },
    {
      "cell_type": "code",
      "metadata": {
        "id": "t1GlcnLwg5Rx",
        "colab_type": "code",
        "outputId": "3ac3ae54-5861-4bcf-c79c-b1d7c416c17f",
        "colab": {
          "base_uri": "https://localhost:8080/",
          "height": 114
        }
      },
      "source": [
        "foursquare_geojson.plot()"
      ],
      "execution_count": 0,
      "outputs": [
        {
          "output_type": "execute_result",
          "data": {
            "text/plain": [
              "<matplotlib.axes._subplots.AxesSubplot at 0x7f5057a7bda0>"
            ]
          },
          "metadata": {
            "tags": []
          },
          "execution_count": 62
        },
        {
          "output_type": "display_data",
          "data": {
            "image/png": "[encoded data removed]",
            "text/plain": [
              "<Figure size 432x288 with 1 Axes>"
            ]
          },
          "metadata": {
            "tags": [],
            "needs_background": "light"
          }
        }
      ]
    },
    {
      "cell_type": "code",
      "metadata": {
        "id": "up1ZvDMig9-a",
        "colab_type": "code",
        "colab": {}
      },
      "source": [
        "# save the data into google bucket!\n",
        "foursquare_geojson.to_crs(epsg=4326).to_file(\"foursquare.geojson\", driver='GeoJSON')"
      ],
      "execution_count": 0,
      "outputs": []
    },
    {
      "cell_type": "code",
      "metadata": {
        "id": "3wnarmCzdz2r",
        "colab_type": "code",
        "colab": {}
      },
      "source": [
        "google['venue_name'] = google['venue_name'].str.lower()\n",
        "foursquare['venue_name'] = foursquare['venue_name'].str.lower()"
      ],
      "execution_count": 0,
      "outputs": []
    },
    {
      "cell_type": "code",
      "metadata": {
        "id": "0oKQbHK3K1EK",
        "colab_type": "code",
        "colab": {}
      },
      "source": [
        "venue_data = pd.concat([google,foursquare])"
      ],
      "execution_count": 0,
      "outputs": []
    },
    {
      "cell_type": "code",
      "metadata": {
        "id": "4Jzccb3kdDm5",
        "colab_type": "code",
        "outputId": "aadfaf33-0c81-4429-cc88-3e3a9ed9ef21",
        "colab": {
          "base_uri": "https://localhost:8080/",
          "height": 34
        }
      },
      "source": [
        "venue_data.shape"
      ],
      "execution_count": 0,
      "outputs": [
        {
          "output_type": "execute_result",
          "data": {
            "text/plain": [
              "(21117, 12)"
            ]
          },
          "metadata": {
            "tags": []
          },
          "execution_count": 42
        }
      ]
    },
    {
      "cell_type": "code",
      "metadata": {
        "id": "rMClwzA6dGtn",
        "colab_type": "code",
        "outputId": "777a64c8-f3cd-48d6-df53-a04ff7e2f04a",
        "colab": {
          "base_uri": "https://localhost:8080/",
          "height": 407
        }
      },
      "source": [
        "venue_data.head()"
      ],
      "execution_count": 0,
      "outputs": [
        {
          "output_type": "execute_result",
          "data": {
            "text/html": [
              "<div>\n",
              "<style scoped>\n",
              "    .dataframe tbody tr th:only-of-type {\n",
              "        vertical-align: middle;\n",
              "    }\n",
              "\n",
              "    .dataframe tbody tr th {\n",
              "        vertical-align: top;\n",
              "    }\n",
              "\n",
              "    .dataframe thead th {\n",
              "        text-align: right;\n",
              "    }\n",
              "</style>\n",
              "<table border=\"1\" class=\"dataframe\">\n",
              "  <thead>\n",
              "    <tr style=\"text-align: right;\">\n",
              "      <th></th>\n",
              "      <th>neighborhood</th>\n",
              "      <th>city</th>\n",
              "      <th>venue_name</th>\n",
              "      <th>venue_address</th>\n",
              "      <th>venue_rating</th>\n",
              "      <th>user_ratings_total</th>\n",
              "      <th>venue_types</th>\n",
              "      <th>venue_latitude</th>\n",
              "      <th>venue_longitude</th>\n",
              "      <th>neighborhood_latitude</th>\n",
              "      <th>neighborhood_longitude</th>\n",
              "      <th>venue_category</th>\n",
              "    </tr>\n",
              "  </thead>\n",
              "  <tbody>\n",
              "    <tr>\n",
              "      <th>0</th>\n",
              "      <td>Louvre</td>\n",
              "      <td>Paris</td>\n",
              "      <td>paris</td>\n",
              "      <td>Paris</td>\n",
              "      <td>NaN</td>\n",
              "      <td>NaN</td>\n",
              "      <td>['lodging', 'point_of_interest', 'establishment']</td>\n",
              "      <td>48.856614</td>\n",
              "      <td>2.352222</td>\n",
              "      <td>NaN</td>\n",
              "      <td>NaN</td>\n",
              "      <td>NaN</td>\n",
              "    </tr>\n",
              "    <tr>\n",
              "      <th>1</th>\n",
              "      <td>Louvre</td>\n",
              "      <td>Paris</td>\n",
              "      <td>hôtel ducs de bourgogne</td>\n",
              "      <td>19 Rue du Pont Neuf, Paris</td>\n",
              "      <td>4.6</td>\n",
              "      <td>104.0</td>\n",
              "      <td>['lodging', 'point_of_interest', 'establishment']</td>\n",
              "      <td>48.860348</td>\n",
              "      <td>2.344054</td>\n",
              "      <td>NaN</td>\n",
              "      <td>NaN</td>\n",
              "      <td>NaN</td>\n",
              "    </tr>\n",
              "    <tr>\n",
              "      <th>2</th>\n",
              "      <td>Louvre</td>\n",
              "      <td>Paris</td>\n",
              "      <td>hotel relais du louvre</td>\n",
              "      <td>19 Rue des Prêtres Saint-Germain l'Auxerrois, ...</td>\n",
              "      <td>4.2</td>\n",
              "      <td>329.0</td>\n",
              "      <td>['lodging', 'point_of_interest', 'establishment']</td>\n",
              "      <td>48.859246</td>\n",
              "      <td>2.341005</td>\n",
              "      <td>NaN</td>\n",
              "      <td>NaN</td>\n",
              "      <td>NaN</td>\n",
              "    </tr>\n",
              "    <tr>\n",
              "      <th>3</th>\n",
              "      <td>Louvre</td>\n",
              "      <td>Paris</td>\n",
              "      <td>l'empire paris</td>\n",
              "      <td>48 Rue de l'Arbre Sec, Paris</td>\n",
              "      <td>4.5</td>\n",
              "      <td>111.0</td>\n",
              "      <td>['lodging', 'point_of_interest', 'establishment']</td>\n",
              "      <td>48.860725</td>\n",
              "      <td>2.342583</td>\n",
              "      <td>NaN</td>\n",
              "      <td>NaN</td>\n",
              "      <td>NaN</td>\n",
              "    </tr>\n",
              "    <tr>\n",
              "      <th>4</th>\n",
              "      <td>Louvre</td>\n",
              "      <td>Paris</td>\n",
              "      <td>hôtel 3 étoiles de la place du louvre paris 1e...</td>\n",
              "      <td>21 Rue des Prêtres Saint-Germain l'Auxerrois, ...</td>\n",
              "      <td>4.0</td>\n",
              "      <td>233.0</td>\n",
              "      <td>['lodging', 'point_of_interest', 'establishment']</td>\n",
              "      <td>48.859222</td>\n",
              "      <td>2.340905</td>\n",
              "      <td>NaN</td>\n",
              "      <td>NaN</td>\n",
              "      <td>NaN</td>\n",
              "    </tr>\n",
              "  </tbody>\n",
              "</table>\n",
              "</div>"
            ],
            "text/plain": [
              "  neighborhood   city  ... neighborhood_longitude venue_category\n",
              "0       Louvre  Paris  ...                    NaN            NaN\n",
              "1       Louvre  Paris  ...                    NaN            NaN\n",
              "2       Louvre  Paris  ...                    NaN            NaN\n",
              "3       Louvre  Paris  ...                    NaN            NaN\n",
              "4       Louvre  Paris  ...                    NaN            NaN\n",
              "\n",
              "[5 rows x 12 columns]"
            ]
          },
          "metadata": {
            "tags": []
          },
          "execution_count": 43
        }
      ]
    },
    {
      "cell_type": "code",
      "metadata": {
        "id": "CwE0IfaeeRto",
        "colab_type": "code",
        "outputId": "e4078681-fbc0-49db-dc4f-29ee6fed87d9",
        "colab": {
          "base_uri": "https://localhost:8080/",
          "height": 394
        }
      },
      "source": [
        "venue_data.venue_name.value_counts()[:20]"
      ],
      "execution_count": 0,
      "outputs": [
        {
          "output_type": "execute_result",
          "data": {
            "text/plain": [
              "london                          221\n",
              "new york                        194\n",
              "brooklyn                         46\n",
              "queens                           46\n",
              "lambeth                          26\n",
              "william hill                     25\n",
              "ladbrokes                        24\n",
              "west bronx                       21\n",
              "paris                            20\n",
              "subway                           17\n",
              "united states postal service     17\n",
              "east bronx                       15\n",
              "walgreens                        13\n",
              "staten island                    11\n",
              "upper manhattan                  11\n",
              "western union                    10\n",
              "lloyds bank                       9\n",
              "jd sports                         9\n",
              "baskin-robbins                    8\n",
              "rite aid                          8\n",
              "Name: venue_name, dtype: int64"
            ]
          },
          "metadata": {
            "tags": []
          },
          "execution_count": 50
        }
      ]
    },
    {
      "cell_type": "code",
      "metadata": {
        "id": "XGF1SrTPdJWz",
        "colab_type": "code",
        "colab": {}
      },
      "source": [
        "venue_data2 = google.merge(foursquare, how='inner', on='venue_name')"
      ],
      "execution_count": 0,
      "outputs": []
    },
    {
      "cell_type": "code",
      "metadata": {
        "id": "8mcYJ8hbdSuz",
        "colab_type": "code",
        "outputId": "a78c9163-114b-4140-803f-bb4f51064e69",
        "colab": {
          "base_uri": "https://localhost:8080/",
          "height": 34
        }
      },
      "source": [
        "venue_data2.shape"
      ],
      "execution_count": 0,
      "outputs": [
        {
          "output_type": "execute_result",
          "data": {
            "text/plain": [
              "(479, 16)"
            ]
          },
          "metadata": {
            "tags": []
          },
          "execution_count": 47
        }
      ]
    },
    {
      "cell_type": "code",
      "metadata": {
        "id": "IO2tmrOMdiY9",
        "colab_type": "code",
        "outputId": "294f63df-6fae-4038-e2ff-a6f6e67ea8cf",
        "colab": {
          "base_uri": "https://localhost:8080/",
          "height": 357
        }
      },
      "source": [
        "venue_data2.head()"
      ],
      "execution_count": 0,
      "outputs": [
        {
          "output_type": "execute_result",
          "data": {
            "text/html": [
              "<div>\n",
              "<style scoped>\n",
              "    .dataframe tbody tr th:only-of-type {\n",
              "        vertical-align: middle;\n",
              "    }\n",
              "\n",
              "    .dataframe tbody tr th {\n",
              "        vertical-align: top;\n",
              "    }\n",
              "\n",
              "    .dataframe thead th {\n",
              "        text-align: right;\n",
              "    }\n",
              "</style>\n",
              "<table border=\"1\" class=\"dataframe\">\n",
              "  <thead>\n",
              "    <tr style=\"text-align: right;\">\n",
              "      <th></th>\n",
              "      <th>neighborhood_x</th>\n",
              "      <th>city_x</th>\n",
              "      <th>venue_name</th>\n",
              "      <th>venue_address</th>\n",
              "      <th>venue_rating</th>\n",
              "      <th>user_ratings_total</th>\n",
              "      <th>venue_types</th>\n",
              "      <th>venue_latitude_x</th>\n",
              "      <th>venue_longitude_x</th>\n",
              "      <th>neighborhood_y</th>\n",
              "      <th>neighborhood_latitude</th>\n",
              "      <th>neighborhood_longitude</th>\n",
              "      <th>venue_category</th>\n",
              "      <th>venue_latitude_y</th>\n",
              "      <th>venue_longitude_y</th>\n",
              "      <th>city_y</th>\n",
              "    </tr>\n",
              "  </thead>\n",
              "  <tbody>\n",
              "    <tr>\n",
              "      <th>0</th>\n",
              "      <td>Popincourt</td>\n",
              "      <td>Paris</td>\n",
              "      <td>white dream</td>\n",
              "      <td>38 Rue des Ormeaux, Paris</td>\n",
              "      <td>NaN</td>\n",
              "      <td>NaN</td>\n",
              "      <td>NaN</td>\n",
              "      <td>48.851479</td>\n",
              "      <td>2.400690</td>\n",
              "      <td>Ménilmontant</td>\n",
              "      <td>48.854000</td>\n",
              "      <td>2.406000</td>\n",
              "      <td>Hookah Bar</td>\n",
              "      <td>48.851420</td>\n",
              "      <td>2.401073</td>\n",
              "      <td>Paris</td>\n",
              "    </tr>\n",
              "    <tr>\n",
              "      <th>1</th>\n",
              "      <td>Buttes-Chaumont</td>\n",
              "      <td>Paris</td>\n",
              "      <td>l'étoile</td>\n",
              "      <td>144 Avenue Jean Jaurès, Paris</td>\n",
              "      <td>4.3</td>\n",
              "      <td>43.0</td>\n",
              "      <td>['bank', 'atm', 'finance', 'insurance_agency',...</td>\n",
              "      <td>48.886817</td>\n",
              "      <td>2.386671</td>\n",
              "      <td>Buttes-Chaumont</td>\n",
              "      <td>48.884000</td>\n",
              "      <td>2.390000</td>\n",
              "      <td>Brewery</td>\n",
              "      <td>48.887236</td>\n",
              "      <td>2.386600</td>\n",
              "      <td>Paris</td>\n",
              "    </tr>\n",
              "    <tr>\n",
              "      <th>2</th>\n",
              "      <td>Vaugirard</td>\n",
              "      <td>Paris</td>\n",
              "      <td>pmu</td>\n",
              "      <td>2 Rue du Professeur Florian Delbarre, Paris</td>\n",
              "      <td>3.1</td>\n",
              "      <td>55.0</td>\n",
              "      <td>['point_of_interest', 'establishment']</td>\n",
              "      <td>48.839957</td>\n",
              "      <td>2.271355</td>\n",
              "      <td>Panthéon</td>\n",
              "      <td>48.846000</td>\n",
              "      <td>2.361000</td>\n",
              "      <td>General Entertainment</td>\n",
              "      <td>48.848139</td>\n",
              "      <td>2.354402</td>\n",
              "      <td>NaN</td>\n",
              "    </tr>\n",
              "    <tr>\n",
              "      <th>3</th>\n",
              "      <td>Reuilly</td>\n",
              "      <td>Paris</td>\n",
              "      <td>hippodrome de vincennes</td>\n",
              "      <td>2 Route de la Ferme, Paris</td>\n",
              "      <td>NaN</td>\n",
              "      <td>NaN</td>\n",
              "      <td>['parking', 'point_of_interest', 'establishment']</td>\n",
              "      <td>48.821151</td>\n",
              "      <td>2.451674</td>\n",
              "      <td>Reuilly</td>\n",
              "      <td>48.824000</td>\n",
              "      <td>2.456000</td>\n",
              "      <td>Racecourse</td>\n",
              "      <td>48.821474</td>\n",
              "      <td>2.451110</td>\n",
              "      <td>Paris</td>\n",
              "    </tr>\n",
              "    <tr>\n",
              "      <th>4</th>\n",
              "      <td>Streatham South</td>\n",
              "      <td>London</td>\n",
              "      <td>london</td>\n",
              "      <td>London</td>\n",
              "      <td>NaN</td>\n",
              "      <td>NaN</td>\n",
              "      <td>['general_contractor', 'point_of_interest', 's...</td>\n",
              "      <td>51.507351</td>\n",
              "      <td>-0.127758</td>\n",
              "      <td>Coldharbour</td>\n",
              "      <td>51.463724</td>\n",
              "      <td>-0.108506</td>\n",
              "      <td>Beach Bar</td>\n",
              "      <td>51.464175</td>\n",
              "      <td>-0.114580</td>\n",
              "      <td>NaN</td>\n",
              "    </tr>\n",
              "  </tbody>\n",
              "</table>\n",
              "</div>"
            ],
            "text/plain": [
              "    neighborhood_x  city_x  ... venue_longitude_y city_y\n",
              "0       Popincourt   Paris  ...          2.401073  Paris\n",
              "1  Buttes-Chaumont   Paris  ...          2.386600  Paris\n",
              "2        Vaugirard   Paris  ...          2.354402    NaN\n",
              "3          Reuilly   Paris  ...          2.451110  Paris\n",
              "4  Streatham South  London  ...         -0.114580    NaN\n",
              "\n",
              "[5 rows x 16 columns]"
            ]
          },
          "metadata": {
            "tags": []
          },
          "execution_count": 48
        }
      ]
    },
    {
      "cell_type": "code",
      "metadata": {
        "id": "-h42JhsXdni6",
        "colab_type": "code",
        "colab": {}
      },
      "source": [
        ""
      ],
      "execution_count": 0,
      "outputs": []
    }
  ]
}