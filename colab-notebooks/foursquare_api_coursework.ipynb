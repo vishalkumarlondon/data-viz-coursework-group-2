{
  "nbformat": 4,
  "nbformat_minor": 0,
  "metadata": {
    "kernelspec": {
      "display_name": "Python 3",
      "language": "python",
      "name": "python3"
    },
    "language_info": {
      "codemirror_mode": {
        "name": "ipython",
        "version": 3
      },
      "file_extension": ".py",
      "mimetype": "text/x-python",
      "name": "python",
      "nbconvert_exporter": "python",
      "pygments_lexer": "ipython3",
      "version": "3.7.2"
    },
    "colab": {
      "name": "foursquare_api_coursework.ipynb",
      "provenance": [],
      "collapsed_sections": [],
      "toc_visible": true,
      "include_colab_link": true
    }
  },
  "cells": [
    {
      "cell_type": "markdown",
      "metadata": {
        "id": "view-in-github",
        "colab_type": "text"
      },
      "source": [
        "<a href=\"https://colab.research.google.com/github/vishalkumarlondon/data-viz-coursework-group-2/blob/master/colab-notebooks/foursquare_api_coursework.ipynb\" target=\"_parent\"><img src=\"https://colab.research.google.com/assets/colab-badge.svg\" alt=\"Open In Colab\"/></a>"
      ]
    },
    {
      "cell_type": "markdown",
      "metadata": {
        "id": "B_d7dSzNa0bQ",
        "colab_type": "text"
      },
      "source": [
        "# Get data from Foursquare\n",
        "\n",
        "Code credits from Michael Cascio were very helpful - https://github.com/cascio/IBM_Data_Science_Capstone"
      ]
    },
    {
      "cell_type": "markdown",
      "metadata": {
        "id": "2u3LD4BIa0bT",
        "colab_type": "text"
      },
      "source": [
        "### Import Required Python Packages"
      ]
    },
    {
      "cell_type": "code",
      "metadata": {
        "id": "m1EEjPVSa0bU",
        "colab_type": "code",
        "colab": {}
      },
      "source": [
        "from sklearn.cluster import KMeans\n",
        "from pandas.io.json import json_normalize\n",
        "\n",
        "import folium\n",
        "import json\n",
        "import math\n",
        "import matplotlib.pyplot as plt\n",
        "import numpy as np\n",
        "import pandas as pd\n",
        "import requests\n",
        "import urllib"
      ],
      "execution_count": 0,
      "outputs": []
    },
    {
      "cell_type": "markdown",
      "metadata": {
        "id": "md8rg3Dna0bY",
        "colab_type": "text"
      },
      "source": [
        "### Set Foursquare API Credentials"
      ]
    },
    {
      "cell_type": "code",
      "metadata": {
        "id": "g433-i43a0bY",
        "colab_type": "code",
        "colab": {}
      },
      "source": [
        "CLIENT_ID = '' # your Foursquare ID\n",
        "CLIENT_SECRET = '' # your Foursquare Secret\n",
        "VERSION = '' # Foursquare API version"
      ],
      "execution_count": 0,
      "outputs": []
    },
    {
      "cell_type": "markdown",
      "metadata": {
        "id": "jsmYeLk6a0bc",
        "colab_type": "text"
      },
      "source": [
        "### Import London, New York, Paris Neighborhood Name & Location Centroid Data"
      ]
    },
    {
      "cell_type": "code",
      "metadata": {
        "id": "NvwAqaUoZqao",
        "colab_type": "code",
        "outputId": "20cb751e-ccce-4a75-baa8-242ebf079b64",
        "colab": {
          "base_uri": "https://localhost:8080/",
          "height": 66
        }
      },
      "source": [
        "#pull data down\n",
        "!gsutil cp gs://public-data-data_viz-2/fashion_week_cities_location_search_Q2_2020.csv fashion_week_cities_location_search_Q2_2020.csv"
      ],
      "execution_count": 0,
      "outputs": [
        {
          "output_type": "stream",
          "text": [
            "Copying gs://public-data-data_viz-2/fashion_week_cities_location_search_Q2_2020.csv...\n",
            "- [1 files][  6.1 MiB/  6.1 MiB]                                                \n",
            "Operation completed over 1 objects/6.1 MiB.                                      \n"
          ],
          "name": "stdout"
        }
      ]
    },
    {
      "cell_type": "code",
      "metadata": {
        "id": "PyATA9XIZ1yS",
        "colab_type": "code",
        "colab": {}
      },
      "source": [
        "city_neighborhoods = pd.read_csv('fashion_week_cities_location_search_Q2_2020.csv')\n",
        "\n",
        "city_neighborhoods = city_neighborhoods.loc[:, ['Borough', 'Neighborhood', 'Latitude','Longitude']]"
      ],
      "execution_count": 0,
      "outputs": []
    },
    {
      "cell_type": "code",
      "metadata": {
        "id": "VDqwC8FlgAk5",
        "colab_type": "code",
        "outputId": "3be7e39e-ab68-40d1-cab4-3caec55e5aeb",
        "colab": {
          "base_uri": "https://localhost:8080/",
          "height": 33
        }
      },
      "source": [
        "city_neighborhoods.shape"
      ],
      "execution_count": 0,
      "outputs": [
        {
          "output_type": "execute_result",
          "data": {
            "text/plain": [
              "(516, 4)"
            ]
          },
          "metadata": {
            "tags": []
          },
          "execution_count": 7
        }
      ]
    },
    {
      "cell_type": "code",
      "metadata": {
        "id": "wZiUX2P4aN9h",
        "colab_type": "code",
        "outputId": "f3694e81-10e8-4239-ccbd-8190bdfc8d34",
        "colab": {
          "base_uri": "https://localhost:8080/",
          "height": 189
        }
      },
      "source": [
        "city_neighborhoods.head()"
      ],
      "execution_count": 0,
      "outputs": [
        {
          "output_type": "execute_result",
          "data": {
            "text/html": [
              "<div>\n",
              "<style scoped>\n",
              "    .dataframe tbody tr th:only-of-type {\n",
              "        vertical-align: middle;\n",
              "    }\n",
              "\n",
              "    .dataframe tbody tr th {\n",
              "        vertical-align: top;\n",
              "    }\n",
              "\n",
              "    .dataframe thead th {\n",
              "        text-align: right;\n",
              "    }\n",
              "</style>\n",
              "<table border=\"1\" class=\"dataframe\">\n",
              "  <thead>\n",
              "    <tr style=\"text-align: right;\">\n",
              "      <th></th>\n",
              "      <th>Borough</th>\n",
              "      <th>Neighborhood</th>\n",
              "      <th>Latitude</th>\n",
              "      <th>Longitude</th>\n",
              "    </tr>\n",
              "  </thead>\n",
              "  <tbody>\n",
              "    <tr>\n",
              "      <th>0</th>\n",
              "      <td>1er Ardt</td>\n",
              "      <td>Louvre</td>\n",
              "      <td>48.861</td>\n",
              "      <td>2.339</td>\n",
              "    </tr>\n",
              "    <tr>\n",
              "      <th>1</th>\n",
              "      <td>1er Ardt</td>\n",
              "      <td>Louvre</td>\n",
              "      <td>48.862</td>\n",
              "      <td>2.338</td>\n",
              "    </tr>\n",
              "    <tr>\n",
              "      <th>2</th>\n",
              "      <td>1er Ardt</td>\n",
              "      <td>Louvre</td>\n",
              "      <td>48.858</td>\n",
              "      <td>2.342</td>\n",
              "    </tr>\n",
              "    <tr>\n",
              "      <th>3</th>\n",
              "      <td>1er Ardt</td>\n",
              "      <td>Louvre</td>\n",
              "      <td>48.859</td>\n",
              "      <td>2.340</td>\n",
              "    </tr>\n",
              "    <tr>\n",
              "      <th>4</th>\n",
              "      <td>1er Ardt</td>\n",
              "      <td>Louvre</td>\n",
              "      <td>48.864</td>\n",
              "      <td>2.333</td>\n",
              "    </tr>\n",
              "  </tbody>\n",
              "</table>\n",
              "</div>"
            ],
            "text/plain": [
              "    Borough Neighborhood  Latitude  Longitude\n",
              "0  1er Ardt       Louvre    48.861      2.339\n",
              "1  1er Ardt       Louvre    48.862      2.338\n",
              "2  1er Ardt       Louvre    48.858      2.342\n",
              "3  1er Ardt       Louvre    48.859      2.340\n",
              "4  1er Ardt       Louvre    48.864      2.333"
            ]
          },
          "metadata": {
            "tags": []
          },
          "execution_count": 8
        }
      ]
    },
    {
      "cell_type": "markdown",
      "metadata": {
        "id": "sjV5H5jia0bk",
        "colab_type": "text"
      },
      "source": [
        "### Retrieve Relevant Venue Data From Foursquare"
      ]
    },
    {
      "cell_type": "markdown",
      "metadata": {
        "id": "ZH4LBgSva0bl",
        "colab_type": "text"
      },
      "source": [
        "#### Foursquare Relevant Venue CategoryIDs\n",
        "\n",
        "https://developer.foursquare.com/docs/build-with-foursquare/categories/"
      ]
    },
    {
      "cell_type": "markdown",
      "metadata": {
        "id": "gPPDDshca0bl",
        "colab_type": "text"
      },
      "source": [
        "*   '4d4b7104d754a06370d81259', #Arts & Entertainment\n",
        "*   '4d4b7105d754a06373d81259', #Event'\n",
        "*   '4d4b7105d754a06376d81259', #Nightlife Spot\n",
        "*   '56aa371be4b08b9a8d5734cf', #Ballroom\n",
        "*   '4bf58dd8d48988d103951735', #Clothing Store\n",
        "*   '4bf58dd8d48988d1ff931735', #Convention Center\n",
        "*   '52e81612bcbc57f1066b7a35', #Club House\n",
        "*   '52e81612bcbc57f1066b7a32', #Cultural Center\n",
        "*   '4bf58dd8d48988d171941735' #Event Space\n"
      ]
    },
    {
      "cell_type": "markdown",
      "metadata": {
        "id": "kFfFoHPda0bm",
        "colab_type": "text"
      },
      "source": [
        "#### Function To Create API Url"
      ]
    },
    {
      "cell_type": "code",
      "metadata": {
        "id": "JA3fZYTLa0bn",
        "colab_type": "code",
        "colab": {}
      },
      "source": [
        "def createURL(endpoint, CLIENT_ID, CLIENT_SECRET, VERSION, lat, lng, radius, categoryId, limit):\n",
        "    url = '{}&client_id={}&client_secret={}&v={}&ll={},{}&radius={}&categoryId={}&limit={}'.format(\n",
        "            endpoint,\n",
        "            CLIENT_ID,\n",
        "            CLIENT_SECRET,\n",
        "            VERSION,\n",
        "            lat,\n",
        "            lng,\n",
        "            radius,\n",
        "            categoryId,\n",
        "            limit\n",
        "        )\n",
        "    return url\n",
        "\n",
        "endpoint = 'https://api.foursquare.com/v2/venues/search?'\n",
        "\n",
        "# https://developer.foursquare.com/docs/build-with-foursquare/categories/\n",
        "categoryIds = [\n",
        "               '4d4b7104d754a06370d81259', #Arts & Entertainment\n",
        "               '4d4b7105d754a06373d81259', #Event\n",
        "               '4d4b7105d754a06376d81259', #Nightlife Spot\n",
        "               '56aa371be4b08b9a8d5734cf', #Ballroom\n",
        "               '4bf58dd8d48988d103951735', #Clothing Store\n",
        "               '4bf58dd8d48988d1ff931735', #Convention Center\n",
        "               '52e81612bcbc57f1066b7a35', #Club House\n",
        "               '52e81612bcbc57f1066b7a32', #Cultural Center\n",
        "               '4bf58dd8d48988d171941735' #Event Space\n",
        "              ]\n",
        "\n",
        "\n",
        "categoryId = ','.join(categoryIds)\n",
        "limit = 50"
      ],
      "execution_count": 0,
      "outputs": []
    },
    {
      "cell_type": "markdown",
      "metadata": {
        "id": "PIVTQRMpa0br",
        "colab_type": "text"
      },
      "source": [
        "#### Function To Retrieve All Relevant Venues Per Neighborhood"
      ]
    },
    {
      "cell_type": "code",
      "metadata": {
        "id": "PRvcKaxQa0bs",
        "colab_type": "code",
        "colab": {}
      },
      "source": [
        "\n",
        "def getNearbyMusicVenues(neighborhoods, latitudes, longitudes, radius=1000):\n",
        "    endpoint = 'https://api.foursquare.com/v2/venues/search?'\n",
        "    venues_list = []   \n",
        "    \n",
        "    for hood_name, lat, lng in zip(neighborhoods, latitudes, longitudes):\n",
        "    \n",
        "        url = createURL(endpoint, CLIENT_ID, CLIENT_SECRET, VERSION, lat, lng, radius, categoryId, limit)\n",
        "        \n",
        "        results = requests.get(url).json()['response']['venues']\n",
        "\n",
        "        for item in results:\n",
        "            venue_name = item['name']\n",
        "            venue_category = item['categories'][0]['name']\n",
        "            venue_lat = item['location']['lat']\n",
        "            venue_lng = item['location']['lng']\n",
        "            try:\n",
        "                venue_city = item['location']['city']\n",
        "            except:\n",
        "                venue_city = 'N/A'\n",
        "            \n",
        "            venues_list.append([(hood_name,\n",
        "                                lat,\n",
        "                                lng,\n",
        "                                venue_name,\n",
        "                                venue_category,\n",
        "                                venue_lat,\n",
        "                                venue_lng,\n",
        "                                venue_city\n",
        "                               )])\n",
        "            \n",
        "    nearby_venues = pd.DataFrame([item for venue_list in venues_list for item in venue_list])\n",
        "    nearby_venues.columns = ['Neighborhood',\n",
        "                             'Neighborhood Latitude',\n",
        "                             'Neighborhood Longitude',\n",
        "                             'Venue Name',\n",
        "                             'Venue Category',\n",
        "                             'Venue Latitude',\n",
        "                             'Venue Longitude',\n",
        "                             'Venue City'\n",
        "                            ]\n",
        "    return nearby_venues\n",
        "\n",
        "prelim_venue_data = getNearbyMusicVenues(city_neighborhoods['Neighborhood'],\n",
        "                                         city_neighborhoods['Latitude'],\n",
        "                                         city_neighborhoods['Longitude'],\n",
        "                                         radius = 500\n",
        "                                        )\n"
      ],
      "execution_count": 0,
      "outputs": []
    },
    {
      "cell_type": "markdown",
      "metadata": {
        "id": "hqjKG07Wa0bv",
        "colab_type": "text"
      },
      "source": [
        "#### How Many Venues Did We Retrieve?"
      ]
    },
    {
      "cell_type": "code",
      "metadata": {
        "id": "gr3pT6UGa0bv",
        "colab_type": "code",
        "outputId": "8de445f6-d845-45b6-de5e-2edf81f1fd27",
        "colab": {
          "base_uri": "https://localhost:8080/",
          "height": 255
        }
      },
      "source": [
        "\n",
        "print(prelim_venue_data.shape)\n",
        "prelim_venue_data.head(5)\n"
      ],
      "execution_count": 0,
      "outputs": [
        {
          "output_type": "stream",
          "text": [
            "(15985, 8)\n"
          ],
          "name": "stdout"
        },
        {
          "output_type": "execute_result",
          "data": {
            "text/html": [
              "<div>\n",
              "<style scoped>\n",
              "    .dataframe tbody tr th:only-of-type {\n",
              "        vertical-align: middle;\n",
              "    }\n",
              "\n",
              "    .dataframe tbody tr th {\n",
              "        vertical-align: top;\n",
              "    }\n",
              "\n",
              "    .dataframe thead th {\n",
              "        text-align: right;\n",
              "    }\n",
              "</style>\n",
              "<table border=\"1\" class=\"dataframe\">\n",
              "  <thead>\n",
              "    <tr style=\"text-align: right;\">\n",
              "      <th></th>\n",
              "      <th>Neighborhood</th>\n",
              "      <th>Neighborhood Latitude</th>\n",
              "      <th>Neighborhood Longitude</th>\n",
              "      <th>Venue Name</th>\n",
              "      <th>Venue Category</th>\n",
              "      <th>Venue Latitude</th>\n",
              "      <th>Venue Longitude</th>\n",
              "      <th>Venue City</th>\n",
              "    </tr>\n",
              "  </thead>\n",
              "  <tbody>\n",
              "    <tr>\n",
              "      <th>0</th>\n",
              "      <td>Louvre</td>\n",
              "      <td>48.861</td>\n",
              "      <td>2.339</td>\n",
              "      <td>Musée du Louvre</td>\n",
              "      <td>Art Museum</td>\n",
              "      <td>48.860847</td>\n",
              "      <td>2.336440</td>\n",
              "      <td>Paris</td>\n",
              "    </tr>\n",
              "    <tr>\n",
              "      <th>1</th>\n",
              "      <td>Louvre</td>\n",
              "      <td>48.861</td>\n",
              "      <td>2.339</td>\n",
              "      <td>Monument de l'amiral Gaspard de Coligny</td>\n",
              "      <td>Outdoor Sculpture</td>\n",
              "      <td>48.861216</td>\n",
              "      <td>2.339395</td>\n",
              "      <td>Paris</td>\n",
              "    </tr>\n",
              "    <tr>\n",
              "      <th>2</th>\n",
              "      <td>Louvre</td>\n",
              "      <td>48.861</td>\n",
              "      <td>2.339</td>\n",
              "      <td>UGC Ciné Cité Les Halles</td>\n",
              "      <td>Multiplex</td>\n",
              "      <td>48.862607</td>\n",
              "      <td>2.343531</td>\n",
              "      <td>Paris</td>\n",
              "    </tr>\n",
              "    <tr>\n",
              "      <th>3</th>\n",
              "      <td>Louvre</td>\n",
              "      <td>48.861</td>\n",
              "      <td>2.339</td>\n",
              "      <td>Comédie-Française</td>\n",
              "      <td>Theater</td>\n",
              "      <td>48.863088</td>\n",
              "      <td>2.336612</td>\n",
              "      <td>Paris</td>\n",
              "    </tr>\n",
              "    <tr>\n",
              "      <th>4</th>\n",
              "      <td>Louvre</td>\n",
              "      <td>48.861</td>\n",
              "      <td>2.339</td>\n",
              "      <td>Intersport</td>\n",
              "      <td>Sporting Goods Shop</td>\n",
              "      <td>48.860796</td>\n",
              "      <td>2.341252</td>\n",
              "      <td>Paris</td>\n",
              "    </tr>\n",
              "  </tbody>\n",
              "</table>\n",
              "</div>"
            ],
            "text/plain": [
              "  Neighborhood  Neighborhood Latitude  ...  Venue Longitude Venue City\n",
              "0       Louvre                 48.861  ...         2.336440      Paris\n",
              "1       Louvre                 48.861  ...         2.339395      Paris\n",
              "2       Louvre                 48.861  ...         2.343531      Paris\n",
              "3       Louvre                 48.861  ...         2.336612      Paris\n",
              "4       Louvre                 48.861  ...         2.341252      Paris\n",
              "\n",
              "[5 rows x 8 columns]"
            ]
          },
          "metadata": {
            "tags": []
          },
          "execution_count": 11
        }
      ]
    },
    {
      "cell_type": "markdown",
      "metadata": {
        "id": "AkgI2-NXa0by",
        "colab_type": "text"
      },
      "source": [
        "#### Save DataFrame As CSV To Avoid Further API Calls"
      ]
    },
    {
      "cell_type": "code",
      "metadata": {
        "id": "McvLTccGaz_3",
        "colab_type": "code",
        "outputId": "dbe15015-8bc7-4c96-8554-13a1f7c3efb8",
        "colab": {
          "base_uri": "https://localhost:8080/",
          "height": 66
        }
      },
      "source": [
        "# save the data into google bucket!\n",
        "prelim_venue_data.to_csv('fw19_foursquareapi_reponse.csv')\n",
        "!gsutil cp  'fw19_foursquareapi_reponse.csv' gs://public-data-data_viz-2/fw19_foursquareapi_reponse.csv"
      ],
      "execution_count": 0,
      "outputs": [
        {
          "output_type": "stream",
          "text": [
            "Copying file://fw19_foursquareapi_reponse.csv [Content-Type=text/csv]...\n",
            "-\n",
            "Operation completed over 1 objects/1.8 MiB.                                      \n"
          ],
          "name": "stdout"
        }
      ]
    },
    {
      "cell_type": "markdown",
      "metadata": {
        "id": "OwX33hEs58_1",
        "colab_type": "text"
      },
      "source": [
        "#### Remove duplicates and Save DataFrame As CSV"
      ]
    },
    {
      "cell_type": "code",
      "metadata": {
        "id": "tsvXEhCB02cW",
        "colab_type": "code",
        "colab": {}
      },
      "source": [
        "#drop duplicates\n",
        "prelim_venue_data.drop_duplicates(subset=['Venue Name', 'Venue City'], inplace=True)"
      ],
      "execution_count": 0,
      "outputs": []
    },
    {
      "cell_type": "code",
      "metadata": {
        "id": "uJne9GXD2ec9",
        "colab_type": "code",
        "outputId": "99937f21-b622-49fc-c38f-99821e9d4f65",
        "colab": {
          "base_uri": "https://localhost:8080/",
          "height": 66
        }
      },
      "source": [
        "# save the data into google bucket!\n",
        "prelim_venue_data.to_csv('fw19_foursquareapi_reponse_clean.csv')\n",
        "!gsutil cp  'fw19_foursquareapi_reponse_clean.csv' gs://public-data-data_viz-2/fw19_foursquareapi_reponse.csv"
      ],
      "execution_count": 0,
      "outputs": [
        {
          "output_type": "stream",
          "text": [
            "Copying file://fw19_foursquareapi_reponse_clean.csv [Content-Type=text/csv]...\n",
            "-\n",
            "Operation completed over 1 objects/1.5 MiB.                                      \n"
          ],
          "name": "stdout"
        }
      ]
    }
  ]
}