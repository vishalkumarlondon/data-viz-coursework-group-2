{
  "cells": [
    {
      "metadata": {
        "id": "view-in-github",
        "colab_type": "text"
      },
      "cell_type": "markdown",
      "source": "<a href=\"https://colab.research.google.com/github/vishalkumarlondon/data-viz-coursework-group-2/blob/master/data_collection_and_cleaning.ipynb\" target=\"_parent\"><img src=\"https://colab.research.google.com/assets/colab-badge.svg\" alt=\"Open In Colab\"/></a>"
    },
    {
      "metadata": {
        "id": "xz32eAgujlVR",
        "colab_type": "code",
        "outputId": "3685749e-ba6e-4596-bf98-aa046e429551",
        "colab": {
          "base_uri": "https://localhost:8080/",
          "height": 198
        },
        "trusted": true
      },
      "cell_type": "code",
      "source": "!wget https://storage.googleapis.com/public-data-data_viz-2/fashionweeks-2019-instagram-geospatial-clean.csv",
      "execution_count": 1,
      "outputs": [
        {
          "output_type": "stream",
          "text": "--2020-04-08 09:19:19--  https://storage.googleapis.com/public-data-data_viz-2/fashionweeks-2019-instagram-geospatial-clean.csv\nResolving webproxy (webproxy)... 10.36.35.1\nConnecting to webproxy (webproxy)|10.36.35.1|:3128... connected.\nProxy request sent, awaiting response... 200 OK\nLength: 3254549 (3.1M) [text/csv]\nSaving to: ‘fashionweeks-2019-instagram-geospatial-clean.csv’\n\nfashionweeks-2019-i 100%[===================>]   3.10M   914KB/s    in 3.7s    \n\n2020-04-08 09:19:24 (868 KB/s) - ‘fashionweeks-2019-instagram-geospatial-clean.csv’ saved [3254549/3254549]\n\n",
          "name": "stdout"
        }
      ]
    },
    {
      "metadata": {
        "id": "G09hAXm5ln_-",
        "colab_type": "code",
        "outputId": "02ee84fa-e76b-46c6-b221-e48b5a87c1ad",
        "colab": {
          "base_uri": "https://localhost:8080/",
          "height": 33
        },
        "trusted": true
      },
      "cell_type": "code",
      "source": "import pandas as pd\n\nfashion_weeks_19 = pd.read_csv('fashionweeks-2019-instagram-geospatial-clean.csv')\nprint(fashion_weeks_19.shape)",
      "execution_count": 3,
      "outputs": [
        {
          "output_type": "stream",
          "text": "(22752, 16)\n",
          "name": "stdout"
        }
      ]
    },
    {
      "metadata": {
        "id": "zgtEu_ejlzMX",
        "colab_type": "code",
        "outputId": "e878eec2-230f-4a29-8481-34b3d592aaff",
        "colab": {
          "base_uri": "https://localhost:8080/",
          "height": 189
        },
        "trusted": true
      },
      "cell_type": "code",
      "source": "#show the fashion week 2019 dataframe\nfashion_weeks_19.head()",
      "execution_count": 4,
      "outputs": [
        {
          "output_type": "execute_result",
          "execution_count": 4,
          "data": {
            "text/html": "<div>\n<table border=\"1\" class=\"dataframe\">\n  <thead>\n    <tr style=\"text-align: right;\">\n      <th></th>\n      <th>date</th>\n      <th>time</th>\n      <th>year</th>\n      <th>month</th>\n      <th>day</th>\n      <th>hour</th>\n      <th>minute</th>\n      <th>second</th>\n      <th>from_user</th>\n      <th>filename</th>\n      <th>compound_sentiment</th>\n      <th>city_name</th>\n      <th>zipcode</th>\n      <th>streetaddress</th>\n      <th>latitude</th>\n      <th>longitude</th>\n    </tr>\n  </thead>\n  <tbody>\n    <tr>\n      <th>0</th>\n      <td>2019-09-16</td>\n      <td>2019-09-16 13:39:38</td>\n      <td>2019</td>\n      <td>9</td>\n      <td>16</td>\n      <td>13</td>\n      <td>39</td>\n      <td>38</td>\n      <td>3074052310</td>\n      <td>nyfw2019</td>\n      <td>0.0000</td>\n      <td>New York, New York</td>\n      <td>11201</td>\n      <td>60 Furman St</td>\n      <td>40.702285</td>\n      <td>-73.995583</td>\n    </tr>\n    <tr>\n      <th>1</th>\n      <td>2019-01-06</td>\n      <td>2019-01-06 18:12:42</td>\n      <td>2019</td>\n      <td>1</td>\n      <td>6</td>\n      <td>18</td>\n      <td>12</td>\n      <td>42</td>\n      <td>4351091948</td>\n      <td>nyfw2019</td>\n      <td>0.2732</td>\n      <td>New York, New York</td>\n      <td>10001</td>\n      <td>401 7th  33rd St</td>\n      <td>40.749904</td>\n      <td>-73.991040</td>\n    </tr>\n    <tr>\n      <th>2</th>\n      <td>2019-09-05</td>\n      <td>2019-09-05 15:40:45</td>\n      <td>2019</td>\n      <td>9</td>\n      <td>5</td>\n      <td>15</td>\n      <td>40</td>\n      <td>45</td>\n      <td>1389389979</td>\n      <td>nyfw2019</td>\n      <td>0.0000</td>\n      <td>New York, New York</td>\n      <td>10013</td>\n      <td>Spring Studios</td>\n      <td>40.720873</td>\n      <td>-74.006004</td>\n    </tr>\n    <tr>\n      <th>3</th>\n      <td>2019-12-31</td>\n      <td>2019-12-31 12:56:12</td>\n      <td>2019</td>\n      <td>12</td>\n      <td>31</td>\n      <td>12</td>\n      <td>56</td>\n      <td>12</td>\n      <td>11041582436</td>\n      <td>nyfw2019</td>\n      <td>0.0000</td>\n      <td>New York, New York</td>\n      <td>10013</td>\n      <td>Spring Studios</td>\n      <td>40.720873</td>\n      <td>-74.006004</td>\n    </tr>\n    <tr>\n      <th>4</th>\n      <td>2019-12-31</td>\n      <td>2019-12-31 03:37:39</td>\n      <td>2019</td>\n      <td>12</td>\n      <td>31</td>\n      <td>3</td>\n      <td>37</td>\n      <td>39</td>\n      <td>13338516028</td>\n      <td>nyfw2019</td>\n      <td>0.0000</td>\n      <td>New York, New York</td>\n      <td>10013</td>\n      <td>6 St Johns Lane</td>\n      <td>40.720839</td>\n      <td>-74.005973</td>\n    </tr>\n  </tbody>\n</table>\n</div>",
            "text/plain": "         date                 time  year  month  day  hour  minute  second  \\\n0  2019-09-16  2019-09-16 13:39:38  2019      9   16    13      39      38   \n1  2019-01-06  2019-01-06 18:12:42  2019      1    6    18      12      42   \n2  2019-09-05  2019-09-05 15:40:45  2019      9    5    15      40      45   \n3  2019-12-31  2019-12-31 12:56:12  2019     12   31    12      56      12   \n4  2019-12-31  2019-12-31 03:37:39  2019     12   31     3      37      39   \n\n     from_user  filename  compound_sentiment           city_name zipcode  \\\n0   3074052310  nyfw2019              0.0000  New York, New York   11201   \n1   4351091948  nyfw2019              0.2732  New York, New York   10001   \n2   1389389979  nyfw2019              0.0000  New York, New York   10013   \n3  11041582436  nyfw2019              0.0000  New York, New York   10013   \n4  13338516028  nyfw2019              0.0000  New York, New York   10013   \n\n      streetaddress   latitude  longitude  \n0      60 Furman St  40.702285 -73.995583  \n1  401 7th  33rd St  40.749904 -73.991040  \n2    Spring Studios  40.720873 -74.006004  \n3    Spring Studios  40.720873 -74.006004  \n4   6 St Johns Lane  40.720839 -74.005973  "
          },
          "metadata": {}
        }
      ]
    },
    {
      "metadata": {
        "id": "mhCnpWNRl1tv",
        "colab_type": "code",
        "outputId": "9e2bb1f2-00e7-4ba7-df78-01c500811c3a",
        "colab": {
          "base_uri": "https://localhost:8080/",
          "height": 82
        },
        "trusted": true
      },
      "cell_type": "code",
      "source": "#show the number of posts per city\nfashion_weeks_19.filename.value_counts()",
      "execution_count": 5,
      "outputs": [
        {
          "output_type": "execute_result",
          "execution_count": 5,
          "data": {
            "text/plain": "nyfw2019    18918\npfw2019      2052\nlfw2019      1782\nName: filename, dtype: int64"
          },
          "metadata": {}
        }
      ]
    },
    {
      "metadata": {
        "id": "PlAgkbtwl3_s",
        "colab_type": "code",
        "colab": {},
        "trusted": false
      },
      "cell_type": "code",
      "source": "",
      "execution_count": 0,
      "outputs": []
    }
  ],
  "metadata": {
    "colab": {
      "name": "data-collection-and-cleaning.ipynb",
      "provenance": [],
      "collapsed_sections": [],
      "authorship_tag": "ABX9TyOuELhKBWKo1hqKKdm3XCow",
      "include_colab_link": true
    },
    "kernelspec": {
      "name": "python3",
      "display_name": "Python 3",
      "language": "python"
    }
  },
  "nbformat": 4,
  "nbformat_minor": 1
}