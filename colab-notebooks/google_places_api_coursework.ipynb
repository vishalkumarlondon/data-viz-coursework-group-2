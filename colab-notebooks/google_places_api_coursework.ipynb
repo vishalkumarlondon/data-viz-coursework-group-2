{
  "nbformat": 4,
  "nbformat_minor": 0,
  "metadata": {
    "colab": {
      "name": "google_places_api_coursework.ipynb",
      "provenance": [],
      "collapsed_sections": [],
      "toc_visible": true,
      "include_colab_link": true
    },
    "kernelspec": {
      "display_name": "Python 3",
      "language": "python",
      "name": "python3"
    },
    "language_info": {
      "codemirror_mode": {
        "name": "ipython",
        "version": 3
      },
      "file_extension": ".py",
      "mimetype": "text/x-python",
      "name": "python",
      "nbconvert_exporter": "python",
      "pygments_lexer": "ipython3",
      "version": "3.7.3"
    }
  },
  "cells": [
    {
      "cell_type": "markdown",
      "metadata": {
        "id": "view-in-github",
        "colab_type": "text"
      },
      "source": [
        "<a href=\"https://colab.research.google.com/github/vishalkumarlondon/data-viz-coursework-group-2/blob/master/colab-notebooks/google_places_api_coursework.ipynb\" target=\"_parent\"><img src=\"https://colab.research.google.com/assets/colab-badge.svg\" alt=\"Open In Colab\"/></a>"
      ]
    },
    {
      "cell_type": "markdown",
      "metadata": {
        "colab_type": "text",
        "id": "aTL7ZIxrYRUc"
      },
      "source": [
        "#### Necessary Library"
      ]
    },
    {
      "cell_type": "code",
      "metadata": {
        "colab_type": "code",
        "id": "VegpbBFuXV7i",
        "colab": {}
      },
      "source": [
        "!pip install pygsheets\n",
        "!pip install --upgrade -q pygsheets\n",
        "!pip install clean-text[gpl]"
      ],
      "execution_count": 0,
      "outputs": []
    },
    {
      "cell_type": "code",
      "metadata": {
        "colab_type": "code",
        "id": "PRaKWy4-Ylss",
        "colab": {}
      },
      "source": [
        "!pip install geopandas"
      ],
      "execution_count": 0,
      "outputs": []
    },
    {
      "cell_type": "code",
      "metadata": {
        "colab_type": "code",
        "id": "Wkp1sVjtmrvd",
        "colab": {}
      },
      "source": [
        "!pip install python-sld"
      ],
      "execution_count": 0,
      "outputs": []
    },
    {
      "cell_type": "markdown",
      "metadata": {
        "colab_type": "text",
        "id": "vc9hNIXrYtCF"
      },
      "source": [
        "#### Authentification Google"
      ]
    },
    {
      "cell_type": "code",
      "metadata": {
        "colab_type": "code",
        "id": "5RGkLd-5YykO",
        "colab": {}
      },
      "source": [
        "# Authentification with google drive and colab\n",
        "from google.colab import auth\n",
        "auth.authenticate_user()\n",
        "\n",
        "# Read google sheet\n",
        "import gspread\n",
        "from oauth2client.client import GoogleCredentials\n",
        "gc = gspread.authorize(GoogleCredentials.get_application_default())"
      ],
      "execution_count": 0,
      "outputs": []
    },
    {
      "cell_type": "code",
      "metadata": {
        "id": "E1_N_enr09_r",
        "colab_type": "code",
        "outputId": "63cc44de-f779-4270-d7a9-6a6f46720747",
        "colab": {
          "base_uri": "https://localhost:8080/",
          "height": 115
        }
      },
      "source": [
        "project_id = '' #add your Google Cloud Project ID\n",
        "!gcloud config set project {project_id}"
      ],
      "execution_count": 0,
      "outputs": [
        {
          "output_type": "stream",
          "text": [
            "Updated property [core/project].\n",
            "\n",
            "\n",
            "To take a quick anonymous survey, run:\n",
            "  $ gcloud survey\n",
            "\n"
          ],
          "name": "stdout"
        }
      ]
    },
    {
      "cell_type": "markdown",
      "metadata": {
        "colab_type": "text",
        "id": "mCjC4TBWdjyw"
      },
      "source": [
        "### Data Preparation"
      ]
    },
    {
      "cell_type": "code",
      "metadata": {
        "colab_type": "code",
        "id": "K3v1GVLbYXj8",
        "outputId": "7ffdee82-edfa-4167-9e61-41f2b5c357b1",
        "colab": {
          "base_uri": "https://localhost:8080/",
          "height": 69
        }
      },
      "source": [
        "# import the necessary library\n",
        "import pandas as pd\n",
        "import geopandas as gpd\n",
        "from shapely import wkt\n",
        "import numpy as np \n",
        "import os\n",
        "import ast\n",
        "\n",
        "from datetime import datetime\n",
        "import re\n",
        "import string\n",
        "from pprint import pprint\n",
        "from cleantext import clean\n",
        "\n",
        "import seaborn as sns\n",
        "import matplotlib.pyplot as plt\n",
        "\n",
        "import pygsheets\n",
        "\n",
        "import warnings\n",
        "warnings.filterwarnings(\"ignore\")"
      ],
      "execution_count": 0,
      "outputs": [
        {
          "output_type": "stream",
          "text": [
            "/usr/local/lib/python3.6/dist-packages/statsmodels/tools/_testing.py:19: FutureWarning: pandas.util.testing is deprecated. Use the functions in the public API at pandas.testing instead.\n",
            "  import pandas.util.testing as tm\n"
          ],
          "name": "stderr"
        }
      ]
    },
    {
      "cell_type": "markdown",
      "metadata": {
        "colab_type": "text",
        "id": "_degHMfodo8H"
      },
      "source": [
        "### Step0 - Get London, New York and Paris boundary data for boroughs and neighbourhoods\n",
        "\n",
        "- Data source: http://download.geofabrik.de/europe/great-britain/england/greater-london.html\n",
        "\n"
      ]
    },
    {
      "cell_type": "code",
      "metadata": {
        "id": "soEd3D9lmk0k",
        "colab_type": "code",
        "colab": {}
      },
      "source": [
        "# London\n",
        "\n",
        "!wget https://data.london.gov.uk/download/statistical-gis-boundary-files-london/9ba8c833-6370-4b11-abdc-314aa020d5e0/statistical-gis-boundaries-london.zip\n",
        "!unzip statistical-gis-boundaries-london.zip"
      ],
      "execution_count": 0,
      "outputs": []
    },
    {
      "cell_type": "code",
      "metadata": {
        "id": "FxaPZiCwso_l",
        "colab_type": "code",
        "colab": {}
      },
      "source": [
        "# New York\n",
        "\n",
        "!wget https://www1.nyc.gov/assets/planning/download/zip/data-maps/open-data/nynta_20a.zip\n",
        "!unzip nynta_20a.zip"
      ],
      "execution_count": 0,
      "outputs": []
    },
    {
      "cell_type": "markdown",
      "metadata": {
        "colab_type": "text",
        "id": "7VEq9ix15oHL"
      },
      "source": [
        "#### open shapefile in geopandas dataframe"
      ]
    },
    {
      "cell_type": "code",
      "metadata": {
        "colab_type": "code",
        "id": "DpJS1s6_doaP",
        "colab": {}
      },
      "source": [
        "london_path = '/content/statistical-gis-boundaries-london/ESRI/London_Ward.shp'\n",
        "london = gpd.read_file(london_path)\n",
        "\n",
        "newyork_path = '/content/nynta_20a/nynta.shp'\n",
        "newyork = gpd.read_file(newyork_path)\n",
        "\n",
        "paris = gpd.read_file(\"https://opendata.paris.fr/explore/dataset/arrondissements/download/?format=shp&timezone=Europe/London&lang=fr\")\n",
        "\n",
        "london = london.to_crs('EPSG:4326')\n",
        "newyork = newyork.to_crs('EPSG:4326')\n",
        "paris = paris.to_crs('EPSG:4326')"
      ],
      "execution_count": 0,
      "outputs": []
    },
    {
      "cell_type": "code",
      "metadata": {
        "id": "EIvyRnDUtnvx",
        "colab_type": "code",
        "outputId": "a0496e04-300e-45e9-8084-2e9b177b5213",
        "colab": {
          "base_uri": "https://localhost:8080/",
          "height": 103
        }
      },
      "source": [
        "london.head(2)"
      ],
      "execution_count": 0,
      "outputs": [
        {
          "output_type": "execute_result",
          "data": {
            "text/html": [
              "<div>\n",
              "<style scoped>\n",
              "    .dataframe tbody tr th:only-of-type {\n",
              "        vertical-align: middle;\n",
              "    }\n",
              "\n",
              "    .dataframe tbody tr th {\n",
              "        vertical-align: top;\n",
              "    }\n",
              "\n",
              "    .dataframe thead th {\n",
              "        text-align: right;\n",
              "    }\n",
              "</style>\n",
              "<table border=\"1\" class=\"dataframe\">\n",
              "  <thead>\n",
              "    <tr style=\"text-align: right;\">\n",
              "      <th></th>\n",
              "      <th>NAME</th>\n",
              "      <th>GSS_CODE</th>\n",
              "      <th>HECTARES</th>\n",
              "      <th>NONLD_AREA</th>\n",
              "      <th>LB_GSS_CD</th>\n",
              "      <th>BOROUGH</th>\n",
              "      <th>POLY_ID</th>\n",
              "      <th>geometry</th>\n",
              "    </tr>\n",
              "  </thead>\n",
              "  <tbody>\n",
              "    <tr>\n",
              "      <th>0</th>\n",
              "      <td>Chessington South</td>\n",
              "      <td>E05000405</td>\n",
              "      <td>755.173</td>\n",
              "      <td>0.0</td>\n",
              "      <td>E09000021</td>\n",
              "      <td>Kingston upon Thames</td>\n",
              "      <td>50840</td>\n",
              "      <td>POLYGON ((-0.33068 51.32901, -0.33059 51.32909...</td>\n",
              "    </tr>\n",
              "    <tr>\n",
              "      <th>1</th>\n",
              "      <td>Tolworth and Hook Rise</td>\n",
              "      <td>E05000414</td>\n",
              "      <td>259.464</td>\n",
              "      <td>0.0</td>\n",
              "      <td>E09000021</td>\n",
              "      <td>Kingston upon Thames</td>\n",
              "      <td>117160</td>\n",
              "      <td>POLYGON ((-0.30846 51.37586, -0.30834 51.37606...</td>\n",
              "    </tr>\n",
              "  </tbody>\n",
              "</table>\n",
              "</div>"
            ],
            "text/plain": [
              "                     NAME  ...                                           geometry\n",
              "0       Chessington South  ...  POLYGON ((-0.33068 51.32901, -0.33059 51.32909...\n",
              "1  Tolworth and Hook Rise  ...  POLYGON ((-0.30846 51.37586, -0.30834 51.37606...\n",
              "\n",
              "[2 rows x 8 columns]"
            ]
          },
          "metadata": {
            "tags": []
          },
          "execution_count": 90
        }
      ]
    },
    {
      "cell_type": "code",
      "metadata": {
        "id": "F4vTnPUZTNI7",
        "colab_type": "code",
        "outputId": "7cb81f41-fd5f-4fe4-82ad-bac3ddeaa160",
        "colab": {
          "base_uri": "https://localhost:8080/",
          "height": 103
        }
      },
      "source": [
        "newyork.head(2)"
      ],
      "execution_count": 0,
      "outputs": [
        {
          "output_type": "execute_result",
          "data": {
            "text/html": [
              "<div>\n",
              "<style scoped>\n",
              "    .dataframe tbody tr th:only-of-type {\n",
              "        vertical-align: middle;\n",
              "    }\n",
              "\n",
              "    .dataframe tbody tr th {\n",
              "        vertical-align: top;\n",
              "    }\n",
              "\n",
              "    .dataframe thead th {\n",
              "        text-align: right;\n",
              "    }\n",
              "</style>\n",
              "<table border=\"1\" class=\"dataframe\">\n",
              "  <thead>\n",
              "    <tr style=\"text-align: right;\">\n",
              "      <th></th>\n",
              "      <th>BoroCode</th>\n",
              "      <th>BoroName</th>\n",
              "      <th>CountyFIPS</th>\n",
              "      <th>NTACode</th>\n",
              "      <th>NTAName</th>\n",
              "      <th>Shape_Leng</th>\n",
              "      <th>Shape_Area</th>\n",
              "      <th>geometry</th>\n",
              "    </tr>\n",
              "  </thead>\n",
              "  <tbody>\n",
              "    <tr>\n",
              "      <th>0</th>\n",
              "      <td>3</td>\n",
              "      <td>Brooklyn</td>\n",
              "      <td>047</td>\n",
              "      <td>BK88</td>\n",
              "      <td>Borough Park</td>\n",
              "      <td>39247.227831</td>\n",
              "      <td>5.400502e+07</td>\n",
              "      <td>POLYGON ((-73.97605 40.63128, -73.97717 40.630...</td>\n",
              "    </tr>\n",
              "    <tr>\n",
              "      <th>1</th>\n",
              "      <td>4</td>\n",
              "      <td>Queens</td>\n",
              "      <td>081</td>\n",
              "      <td>QN51</td>\n",
              "      <td>Murray Hill</td>\n",
              "      <td>33266.904797</td>\n",
              "      <td>5.248828e+07</td>\n",
              "      <td>POLYGON ((-73.80379 40.77561, -73.80099 40.775...</td>\n",
              "    </tr>\n",
              "  </tbody>\n",
              "</table>\n",
              "</div>"
            ],
            "text/plain": [
              "   BoroCode  ...                                           geometry\n",
              "0         3  ...  POLYGON ((-73.97605 40.63128, -73.97717 40.630...\n",
              "1         4  ...  POLYGON ((-73.80379 40.77561, -73.80099 40.775...\n",
              "\n",
              "[2 rows x 8 columns]"
            ]
          },
          "metadata": {
            "tags": []
          },
          "execution_count": 91
        }
      ]
    },
    {
      "cell_type": "code",
      "metadata": {
        "id": "zQEzs9lJfAs6",
        "colab_type": "code",
        "outputId": "5ebcfad9-9b62-4d1b-ae30-b2c4481993fe",
        "colab": {
          "base_uri": "https://localhost:8080/",
          "height": 103
        }
      },
      "source": [
        "paris.head(2)"
      ],
      "execution_count": 0,
      "outputs": [
        {
          "output_type": "execute_result",
          "data": {
            "text/html": [
              "<div>\n",
              "<style scoped>\n",
              "    .dataframe tbody tr th:only-of-type {\n",
              "        vertical-align: middle;\n",
              "    }\n",
              "\n",
              "    .dataframe tbody tr th {\n",
              "        vertical-align: top;\n",
              "    }\n",
              "\n",
              "    .dataframe thead th {\n",
              "        text-align: right;\n",
              "    }\n",
              "</style>\n",
              "<table border=\"1\" class=\"dataframe\">\n",
              "  <thead>\n",
              "    <tr style=\"text-align: right;\">\n",
              "      <th></th>\n",
              "      <th>n_sq_ar</th>\n",
              "      <th>c_ar</th>\n",
              "      <th>c_arinsee</th>\n",
              "      <th>l_ar</th>\n",
              "      <th>l_aroff</th>\n",
              "      <th>n_sq_co</th>\n",
              "      <th>surface</th>\n",
              "      <th>perimetre</th>\n",
              "      <th>objectid</th>\n",
              "      <th>longueur</th>\n",
              "      <th>geometry</th>\n",
              "    </tr>\n",
              "  </thead>\n",
              "  <tbody>\n",
              "    <tr>\n",
              "      <th>0</th>\n",
              "      <td>750000001.0</td>\n",
              "      <td>1.0</td>\n",
              "      <td>75101.0</td>\n",
              "      <td>1er Ardt</td>\n",
              "      <td>Louvre</td>\n",
              "      <td>750001537.0</td>\n",
              "      <td>1.824613e+06</td>\n",
              "      <td>6054.936862</td>\n",
              "      <td>1.0</td>\n",
              "      <td>6054.680862</td>\n",
              "      <td>POLYGON ((2.32801 48.86992, 2.32997 48.86851, ...</td>\n",
              "    </tr>\n",
              "    <tr>\n",
              "      <th>1</th>\n",
              "      <td>750000002.0</td>\n",
              "      <td>2.0</td>\n",
              "      <td>75102.0</td>\n",
              "      <td>2ème Ardt</td>\n",
              "      <td>Bourse</td>\n",
              "      <td>750001537.0</td>\n",
              "      <td>9.911537e+05</td>\n",
              "      <td>4554.104360</td>\n",
              "      <td>2.0</td>\n",
              "      <td>4553.938764</td>\n",
              "      <td>POLYGON ((2.35152 48.86443, 2.35095 48.86341, ...</td>\n",
              "    </tr>\n",
              "  </tbody>\n",
              "</table>\n",
              "</div>"
            ],
            "text/plain": [
              "       n_sq_ar  ...                                           geometry\n",
              "0  750000001.0  ...  POLYGON ((2.32801 48.86992, 2.32997 48.86851, ...\n",
              "1  750000002.0  ...  POLYGON ((2.35152 48.86443, 2.35095 48.86341, ...\n",
              "\n",
              "[2 rows x 11 columns]"
            ]
          },
          "metadata": {
            "tags": []
          },
          "execution_count": 92
        }
      ]
    },
    {
      "cell_type": "markdown",
      "metadata": {
        "id": "Q9MzxhfyBtTz",
        "colab_type": "text"
      },
      "source": [
        "#### limit shapefile to inner areas"
      ]
    },
    {
      "cell_type": "code",
      "metadata": {
        "id": "W6JQA0exzIL2",
        "colab_type": "code",
        "outputId": "5e94ff46-2069-4106-a827-0376977aa658",
        "colab": {
          "base_uri": "https://localhost:8080/",
          "height": 49
        }
      },
      "source": [
        "#limit London to Inner London Boroughs\n",
        "INNER_LONDON = ['Camden', \n",
        "                'Greenwich', \n",
        "                'Hackney', \n",
        "                'Hammersmith and Fulham', \n",
        "                'Islington',\n",
        "                'Kensington and Chelsea',\n",
        "                'Lambeth',\n",
        "                'Lewisham',\n",
        "                'Southwark',\n",
        "                'Tower Hamlets',\n",
        "                'Wandsworth',\n",
        "                'Westminster']\n",
        "\n",
        "print(london.shape)\n",
        "\n",
        "london = london[london['BOROUGH'].isin(INNER_LONDON)]\n",
        "\n",
        "print(london.shape)"
      ],
      "execution_count": 0,
      "outputs": [
        {
          "output_type": "stream",
          "text": [
            "(649, 8)\n",
            "(221, 8)\n"
          ],
          "name": "stdout"
        }
      ]
    },
    {
      "cell_type": "code",
      "metadata": {
        "id": "YNo_wZbRg_RA",
        "colab_type": "code",
        "outputId": "a9305914-cded-4a0e-8f40-0a7e7d67046e",
        "colab": {
          "base_uri": "https://localhost:8080/",
          "height": 148
        }
      },
      "source": [
        "print(newyork.BoroName.value_counts())\n",
        "print(newyork.NTAName.nunique())\n",
        "print(newyork.shape)\n",
        "\n",
        "#limit New York to Manhattan\n",
        "# newyork = newyork[newyork.BoroName == 'Manhattan']\n",
        "# print(newyork.shape)"
      ],
      "execution_count": 0,
      "outputs": [
        {
          "output_type": "stream",
          "text": [
            "Queens           58\n",
            "Brooklyn         51\n",
            "Bronx            38\n",
            "Manhattan        29\n",
            "Staten Island    19\n",
            "Name: BoroName, dtype: int64\n",
            "195\n",
            "(195, 8)\n"
          ],
          "name": "stdout"
        }
      ]
    },
    {
      "cell_type": "markdown",
      "metadata": {
        "id": "q4hC5oZACtrQ",
        "colab_type": "text"
      },
      "source": [
        "#### expand Paris neighbourhoods"
      ]
    },
    {
      "cell_type": "code",
      "metadata": {
        "id": "QqMr9_AGNh7x",
        "colab_type": "code",
        "colab": {}
      },
      "source": [
        "'''\n",
        "Generate five random points inside of each of the 20 boroughs of Paris to make 100 points\n",
        "similar to London and New York\n",
        "\n",
        "# https://gis.stackexchange.com/questions/294394/randomly-sample-from-geopandas-dataframe-in-python\n",
        "\n",
        "'''\n",
        "\n",
        "from shapely.geometry import Point\n",
        "import geopandas as gpd\n",
        "import random\n",
        "\n",
        "######\n",
        "def random_points_in_polygon(number, polygon):\n",
        "    points = []\n",
        "    min_x, min_y, max_x, max_y = polygon.bounds\n",
        "    i= 0\n",
        "    while i < number:\n",
        "        point = Point(random.uniform(min_x, max_x), random.uniform(min_y, max_y))\n",
        "        if polygon.contains(point):\n",
        "            points.append(point)\n",
        "            i += 1\n",
        "    return points  # returns list of shapely point\n",
        "######\n",
        "\n",
        "def Get_RandomPoints_df(dataframe):\n",
        "\n",
        "  allindex_list = []\n",
        "  alllatitude_list = []\n",
        "  alllongitude_list = []\n",
        "\n",
        "  for row in range(len(paris)):  \n",
        "      # get inside the api reponse\n",
        "      points = random_points_in_polygon(5, paris.geometry[row])\n",
        "\n",
        "      #properties\n",
        "      index_list = []\n",
        "      latitude_list = []\n",
        "      longitude_list = []\n",
        "\n",
        "      for j, point in enumerate(points):\n",
        "        # get the index from the dataframe - merge, join for later\n",
        "         data_index = row\n",
        "         index_list.append(data_index)\n",
        "\n",
        "         try:\n",
        "           latitude = np.around(point.x, decimals=3)\n",
        "           latitude_list.append(latitude)\n",
        "\n",
        "           longitude = np.around(point.y, decimals=3)\n",
        "           longitude_list.append(longitude)\n",
        "\n",
        "         except:\n",
        "           latitude = 'NaN'\n",
        "           latitude_list.append(latitude)\n",
        "\n",
        "           longitude = 'NaN'\n",
        "           longitude_list.append(longitude)\n",
        "\n",
        "      #append all result to final list\n",
        "      allindex_list.append(index_list)\n",
        "      alllatitude_list.append(latitude_list)\n",
        "      alllongitude_list.append(longitude_list)\n",
        "\n",
        "  dict_df = {'data_index':allindex_list,\n",
        "             'lat':alllatitude_list,\n",
        "             'long':alllongitude_list\n",
        "             }\n",
        "\n",
        "  apirep_df = pd.DataFrame(dict_df)\n",
        "  return apirep_df"
      ],
      "execution_count": 0,
      "outputs": []
    },
    {
      "cell_type": "code",
      "metadata": {
        "id": "kKS_J_J8OohG",
        "colab_type": "code",
        "colab": {}
      },
      "source": [
        "paris_points = Get_RandomPoints_df(paris)"
      ],
      "execution_count": 0,
      "outputs": []
    },
    {
      "cell_type": "code",
      "metadata": {
        "id": "GdgDq0UoPBNy",
        "colab_type": "code",
        "outputId": "cc7bdd28-469e-4f49-8b7f-7b371b2a0055",
        "colab": {
          "base_uri": "https://localhost:8080/",
          "height": 33
        }
      },
      "source": [
        "print(paris.shape, paris_points.shape)"
      ],
      "execution_count": 0,
      "outputs": [
        {
          "output_type": "stream",
          "text": [
            "(20, 11) (20, 3)\n"
          ],
          "name": "stdout"
        }
      ]
    },
    {
      "cell_type": "code",
      "metadata": {
        "colab_type": "code",
        "id": "4jZuqCcCSNrZ",
        "colab": {}
      },
      "source": [
        "#make a new dataframe\n",
        "paris_expanded = pd.concat([paris, paris_points], axis=1)"
      ],
      "execution_count": 0,
      "outputs": []
    },
    {
      "cell_type": "code",
      "metadata": {
        "colab_type": "code",
        "id": "IkEgESOHSNrf",
        "colab": {}
      },
      "source": [
        "#drop all duplicate rows by the neighbourhood column in the Ward dataframe\n",
        "paris_expanded = paris_expanded.drop_duplicates(subset='l_ar')"
      ],
      "execution_count": 0,
      "outputs": []
    },
    {
      "cell_type": "code",
      "metadata": {
        "id": "8G3leXxmTGCQ",
        "colab_type": "code",
        "colab": {}
      },
      "source": [
        "#limit the new dataframe by the neighbourhood index, lat and long coordinates\n",
        "paris_expanded = paris_expanded.loc[:, ['l_ar', 'lat', 'long']]"
      ],
      "execution_count": 0,
      "outputs": []
    },
    {
      "cell_type": "code",
      "metadata": {
        "colab_type": "code",
        "outputId": "0c4a0f1f-4368-46d5-b74d-7af15baf2f06",
        "id": "wgH-3FZSSNrh",
        "colab": {
          "base_uri": "https://localhost:8080/",
          "height": 616
        }
      },
      "source": [
        "paris_expanded"
      ],
      "execution_count": 0,
      "outputs": [
        {
          "output_type": "execute_result",
          "data": {
            "text/html": [
              "<div>\n",
              "<style scoped>\n",
              "    .dataframe tbody tr th:only-of-type {\n",
              "        vertical-align: middle;\n",
              "    }\n",
              "\n",
              "    .dataframe tbody tr th {\n",
              "        vertical-align: top;\n",
              "    }\n",
              "\n",
              "    .dataframe thead th {\n",
              "        text-align: right;\n",
              "    }\n",
              "</style>\n",
              "<table border=\"1\" class=\"dataframe\">\n",
              "  <thead>\n",
              "    <tr style=\"text-align: right;\">\n",
              "      <th></th>\n",
              "      <th>l_ar</th>\n",
              "      <th>lat</th>\n",
              "      <th>long</th>\n",
              "    </tr>\n",
              "  </thead>\n",
              "  <tbody>\n",
              "    <tr>\n",
              "      <th>0</th>\n",
              "      <td>1er Ardt</td>\n",
              "      <td>[2.339, 2.338, 2.342, 2.34, 2.333]</td>\n",
              "      <td>[48.861, 48.862, 48.858, 48.859, 48.864]</td>\n",
              "    </tr>\n",
              "    <tr>\n",
              "      <th>1</th>\n",
              "      <td>2ème Ardt</td>\n",
              "      <td>[2.346, 2.329, 2.345, 2.341, 2.351]</td>\n",
              "      <td>[48.867, 48.87, 48.87, 48.871, 48.864]</td>\n",
              "    </tr>\n",
              "    <tr>\n",
              "      <th>2</th>\n",
              "      <td>17ème Ardt</td>\n",
              "      <td>[2.318, 2.318, 2.291, 2.311, 2.325]</td>\n",
              "      <td>[48.896, 48.891, 48.878, 48.89, 48.892]</td>\n",
              "    </tr>\n",
              "    <tr>\n",
              "      <th>3</th>\n",
              "      <td>14ème Ardt</td>\n",
              "      <td>[2.333, 2.326, 2.336, 2.338, 2.331]</td>\n",
              "      <td>[48.82, 48.833, 48.839, 48.822, 48.835]</td>\n",
              "    </tr>\n",
              "    <tr>\n",
              "      <th>4</th>\n",
              "      <td>20ème Ardt</td>\n",
              "      <td>[2.412, 2.405, 2.406, 2.415, 2.401]</td>\n",
              "      <td>[48.87, 48.865, 48.854, 48.855, 48.871]</td>\n",
              "    </tr>\n",
              "    <tr>\n",
              "      <th>5</th>\n",
              "      <td>7ème Ardt</td>\n",
              "      <td>[2.32, 2.315, 2.299, 2.296, 2.312]</td>\n",
              "      <td>[48.856, 48.857, 48.86, 48.86, 48.86]</td>\n",
              "    </tr>\n",
              "    <tr>\n",
              "      <th>6</th>\n",
              "      <td>11ème Ardt</td>\n",
              "      <td>[2.398, 2.384, 2.369, 2.389, 2.385]</td>\n",
              "      <td>[48.85, 48.864, 48.859, 48.854, 48.86]</td>\n",
              "    </tr>\n",
              "    <tr>\n",
              "      <th>7</th>\n",
              "      <td>13ème Ardt</td>\n",
              "      <td>[2.346, 2.345, 2.344, 2.361, 2.356]</td>\n",
              "      <td>[48.823, 48.82, 48.817, 48.83, 48.818]</td>\n",
              "    </tr>\n",
              "    <tr>\n",
              "      <th>8</th>\n",
              "      <td>4ème Ardt</td>\n",
              "      <td>[2.345, 2.351, 2.355, 2.353, 2.348]</td>\n",
              "      <td>[48.854, 48.854, 48.858, 48.858, 48.857]</td>\n",
              "    </tr>\n",
              "    <tr>\n",
              "      <th>9</th>\n",
              "      <td>8ème Ardt</td>\n",
              "      <td>[2.306, 2.316, 2.32, 2.309, 2.309]</td>\n",
              "      <td>[48.87, 48.87, 48.871, 48.873, 48.878]</td>\n",
              "    </tr>\n",
              "    <tr>\n",
              "      <th>10</th>\n",
              "      <td>18ème Ardt</td>\n",
              "      <td>[2.342, 2.353, 2.356, 2.35, 2.367]</td>\n",
              "      <td>[48.895, 48.887, 48.898, 48.899, 48.895]</td>\n",
              "    </tr>\n",
              "    <tr>\n",
              "      <th>11</th>\n",
              "      <td>9ème Ardt</td>\n",
              "      <td>[2.333, 2.342, 2.33, 2.33, 2.348]</td>\n",
              "      <td>[48.881, 48.876, 48.872, 48.881, 48.883]</td>\n",
              "    </tr>\n",
              "    <tr>\n",
              "      <th>12</th>\n",
              "      <td>19ème Ardt</td>\n",
              "      <td>[2.39, 2.387, 2.37, 2.388, 2.379]</td>\n",
              "      <td>[48.884, 48.897, 48.885, 48.885, 48.873]</td>\n",
              "    </tr>\n",
              "    <tr>\n",
              "      <th>13</th>\n",
              "      <td>15ème Ardt</td>\n",
              "      <td>[2.274, 2.28, 2.275, 2.299, 2.278]</td>\n",
              "      <td>[48.843, 48.839, 48.846, 48.835, 48.843]</td>\n",
              "    </tr>\n",
              "    <tr>\n",
              "      <th>14</th>\n",
              "      <td>3ème Ardt</td>\n",
              "      <td>[2.363, 2.361, 2.358, 2.366, 2.355]</td>\n",
              "      <td>[48.861, 48.861, 48.868, 48.86, 48.864]</td>\n",
              "    </tr>\n",
              "    <tr>\n",
              "      <th>15</th>\n",
              "      <td>5ème Ardt</td>\n",
              "      <td>[2.346, 2.362, 2.349, 2.361, 2.346]</td>\n",
              "      <td>[48.847, 48.844, 48.852, 48.846, 48.848]</td>\n",
              "    </tr>\n",
              "    <tr>\n",
              "      <th>16</th>\n",
              "      <td>6ème Ardt</td>\n",
              "      <td>[2.33, 2.341, 2.336, 2.32, 2.328]</td>\n",
              "      <td>[48.852, 48.851, 48.855, 48.846, 48.851]</td>\n",
              "    </tr>\n",
              "    <tr>\n",
              "      <th>17</th>\n",
              "      <td>12ème Ardt</td>\n",
              "      <td>[2.456, 2.425, 2.466, 2.384, 2.43]</td>\n",
              "      <td>[48.824, 48.825, 48.836, 48.832, 48.831]</td>\n",
              "    </tr>\n",
              "    <tr>\n",
              "      <th>18</th>\n",
              "      <td>10ème Ardt</td>\n",
              "      <td>[2.358, 2.354, 2.36, 2.349, 2.351]</td>\n",
              "      <td>[48.88, 48.88, 48.873, 48.874, 48.872]</td>\n",
              "    </tr>\n",
              "    <tr>\n",
              "      <th>19</th>\n",
              "      <td>16ème Ardt</td>\n",
              "      <td>[2.269, 2.25, 2.229, 2.256, 2.284]</td>\n",
              "      <td>[48.853, 48.853, 48.858, 48.843, 48.857]</td>\n",
              "    </tr>\n",
              "  </tbody>\n",
              "</table>\n",
              "</div>"
            ],
            "text/plain": [
              "          l_ar  ...                                      long\n",
              "0     1er Ardt  ...  [48.861, 48.862, 48.858, 48.859, 48.864]\n",
              "1    2ème Ardt  ...    [48.867, 48.87, 48.87, 48.871, 48.864]\n",
              "2   17ème Ardt  ...   [48.896, 48.891, 48.878, 48.89, 48.892]\n",
              "3   14ème Ardt  ...   [48.82, 48.833, 48.839, 48.822, 48.835]\n",
              "4   20ème Ardt  ...   [48.87, 48.865, 48.854, 48.855, 48.871]\n",
              "5    7ème Ardt  ...     [48.856, 48.857, 48.86, 48.86, 48.86]\n",
              "6   11ème Ardt  ...    [48.85, 48.864, 48.859, 48.854, 48.86]\n",
              "7   13ème Ardt  ...    [48.823, 48.82, 48.817, 48.83, 48.818]\n",
              "8    4ème Ardt  ...  [48.854, 48.854, 48.858, 48.858, 48.857]\n",
              "9    8ème Ardt  ...    [48.87, 48.87, 48.871, 48.873, 48.878]\n",
              "10  18ème Ardt  ...  [48.895, 48.887, 48.898, 48.899, 48.895]\n",
              "11   9ème Ardt  ...  [48.881, 48.876, 48.872, 48.881, 48.883]\n",
              "12  19ème Ardt  ...  [48.884, 48.897, 48.885, 48.885, 48.873]\n",
              "13  15ème Ardt  ...  [48.843, 48.839, 48.846, 48.835, 48.843]\n",
              "14   3ème Ardt  ...   [48.861, 48.861, 48.868, 48.86, 48.864]\n",
              "15   5ème Ardt  ...  [48.847, 48.844, 48.852, 48.846, 48.848]\n",
              "16   6ème Ardt  ...  [48.852, 48.851, 48.855, 48.846, 48.851]\n",
              "17  12ème Ardt  ...  [48.824, 48.825, 48.836, 48.832, 48.831]\n",
              "18  10ème Ardt  ...    [48.88, 48.88, 48.873, 48.874, 48.872]\n",
              "19  16ème Ardt  ...  [48.853, 48.853, 48.858, 48.843, 48.857]\n",
              "\n",
              "[20 rows x 3 columns]"
            ]
          },
          "metadata": {
            "tags": []
          },
          "execution_count": 101
        }
      ]
    },
    {
      "cell_type": "code",
      "metadata": {
        "colab_type": "code",
        "id": "-efXvZKaSNr1",
        "colab": {}
      },
      "source": [
        "# Explode the multiple list-like columns for each neighbourhood\n",
        "# https://stackoverflow.com/questions/45846765/efficient-way-to-unnest-explode-multiple-list-columns-in-a-pandas-dataframe\n",
        "\n",
        "p = (paris_expanded.set_index('l_ar')\n",
        "   .apply(lambda x: x.apply(pd.Series).stack())\n",
        "   .reset_index()\n",
        "   .drop('level_1', 1))"
      ],
      "execution_count": 0,
      "outputs": []
    },
    {
      "cell_type": "code",
      "metadata": {
        "colab_type": "code",
        "outputId": "0817dd25-74fa-4d91-f612-2339a9a49186",
        "id": "L58q5tXTSNr3",
        "colab": {
          "base_uri": "https://localhost:8080/",
          "height": 33
        }
      },
      "source": [
        "p.shape"
      ],
      "execution_count": 0,
      "outputs": [
        {
          "output_type": "execute_result",
          "data": {
            "text/plain": [
              "(100, 3)"
            ]
          },
          "metadata": {
            "tags": []
          },
          "execution_count": 103
        }
      ]
    },
    {
      "cell_type": "code",
      "metadata": {
        "id": "r0sy-_1uSzOp",
        "colab_type": "code",
        "colab": {}
      },
      "source": [
        "paris = paris.merge(p, on='l_ar', how='inner')"
      ],
      "execution_count": 0,
      "outputs": []
    },
    {
      "cell_type": "code",
      "metadata": {
        "id": "uOG2LMhOSMak",
        "colab_type": "code",
        "outputId": "9c839cc0-f2d6-4e88-ee99-2c4363576a0a",
        "colab": {
          "base_uri": "https://localhost:8080/",
          "height": 91
        }
      },
      "source": [
        "print(paris.shape)\n",
        "paris.head(1)"
      ],
      "execution_count": 0,
      "outputs": [
        {
          "output_type": "stream",
          "text": [
            "(100, 13)\n"
          ],
          "name": "stdout"
        },
        {
          "output_type": "execute_result",
          "data": {
            "text/html": [
              "<div>\n",
              "<style scoped>\n",
              "    .dataframe tbody tr th:only-of-type {\n",
              "        vertical-align: middle;\n",
              "    }\n",
              "\n",
              "    .dataframe tbody tr th {\n",
              "        vertical-align: top;\n",
              "    }\n",
              "\n",
              "    .dataframe thead th {\n",
              "        text-align: right;\n",
              "    }\n",
              "</style>\n",
              "<table border=\"1\" class=\"dataframe\">\n",
              "  <thead>\n",
              "    <tr style=\"text-align: right;\">\n",
              "      <th></th>\n",
              "      <th>n_sq_ar</th>\n",
              "      <th>c_ar</th>\n",
              "      <th>c_arinsee</th>\n",
              "      <th>l_ar</th>\n",
              "      <th>l_aroff</th>\n",
              "      <th>n_sq_co</th>\n",
              "      <th>surface</th>\n",
              "      <th>perimetre</th>\n",
              "      <th>objectid</th>\n",
              "      <th>longueur</th>\n",
              "      <th>geometry</th>\n",
              "      <th>lat</th>\n",
              "      <th>long</th>\n",
              "    </tr>\n",
              "  </thead>\n",
              "  <tbody>\n",
              "    <tr>\n",
              "      <th>0</th>\n",
              "      <td>750000001.0</td>\n",
              "      <td>1.0</td>\n",
              "      <td>75101.0</td>\n",
              "      <td>1er Ardt</td>\n",
              "      <td>Louvre</td>\n",
              "      <td>750001537.0</td>\n",
              "      <td>1.824613e+06</td>\n",
              "      <td>6054.936862</td>\n",
              "      <td>1.0</td>\n",
              "      <td>6054.680862</td>\n",
              "      <td>POLYGON ((2.32801 48.86992, 2.32997 48.86851, ...</td>\n",
              "      <td>2.339</td>\n",
              "      <td>48.861</td>\n",
              "    </tr>\n",
              "  </tbody>\n",
              "</table>\n",
              "</div>"
            ],
            "text/plain": [
              "       n_sq_ar  c_ar  ...    lat    long\n",
              "0  750000001.0   1.0  ...  2.339  48.861\n",
              "\n",
              "[1 rows x 13 columns]"
            ]
          },
          "metadata": {
            "tags": []
          },
          "execution_count": 105
        }
      ]
    },
    {
      "cell_type": "markdown",
      "metadata": {
        "id": "c59JZDx-C160",
        "colab_type": "text"
      },
      "source": [
        "#### join & create cendriods LDN, NYC, PAR"
      ]
    },
    {
      "cell_type": "code",
      "metadata": {
        "id": "lge3N17diKfR",
        "colab_type": "code",
        "colab": {}
      },
      "source": [
        "'''\n",
        "start with London and New York because we already have \n",
        "five random points inside the centre of Paris Boroughs\n",
        "\n",
        "'''\n",
        "\n",
        "london = london.loc[:, ['BOROUGH', 'NAME', 'geometry']]\n",
        "newyork = newyork.loc[:, ['BoroName', 'NTAName', 'geometry']]\n",
        "\n",
        "london.columns = ['Borough',\t'Neighborhood', 'geometry']\n",
        "newyork.columns = ['Borough',\t'Neighborhood', 'geometry']\n",
        "\n",
        "london['city'] = 'London'\n",
        "newyork['city'] = 'New York'\n",
        "\n",
        "gdf_cities = pd.concat([london, newyork])"
      ],
      "execution_count": 0,
      "outputs": []
    },
    {
      "cell_type": "code",
      "metadata": {
        "id": "XvNyZSkLil-K",
        "colab_type": "code",
        "outputId": "38054052-06fe-43b8-89de-cca9671e0f52",
        "colab": {
          "base_uri": "https://localhost:8080/",
          "height": 189
        }
      },
      "source": [
        "gdf_cities.head()"
      ],
      "execution_count": 0,
      "outputs": [
        {
          "output_type": "execute_result",
          "data": {
            "text/html": [
              "<div>\n",
              "<style scoped>\n",
              "    .dataframe tbody tr th:only-of-type {\n",
              "        vertical-align: middle;\n",
              "    }\n",
              "\n",
              "    .dataframe tbody tr th {\n",
              "        vertical-align: top;\n",
              "    }\n",
              "\n",
              "    .dataframe thead th {\n",
              "        text-align: right;\n",
              "    }\n",
              "</style>\n",
              "<table border=\"1\" class=\"dataframe\">\n",
              "  <thead>\n",
              "    <tr style=\"text-align: right;\">\n",
              "      <th></th>\n",
              "      <th>Borough</th>\n",
              "      <th>Neighborhood</th>\n",
              "      <th>geometry</th>\n",
              "      <th>city</th>\n",
              "    </tr>\n",
              "  </thead>\n",
              "  <tbody>\n",
              "    <tr>\n",
              "      <th>208</th>\n",
              "      <td>Lambeth</td>\n",
              "      <td>Streatham South</td>\n",
              "      <td>POLYGON ((-0.13785 51.42111, -0.13758 51.42057...</td>\n",
              "      <td>London</td>\n",
              "    </tr>\n",
              "    <tr>\n",
              "      <th>209</th>\n",
              "      <td>Lambeth</td>\n",
              "      <td>St. Leonard's</td>\n",
              "      <td>POLYGON ((-0.13750 51.44015, -0.13744 51.44014...</td>\n",
              "      <td>London</td>\n",
              "    </tr>\n",
              "    <tr>\n",
              "      <th>210</th>\n",
              "      <td>Lambeth</td>\n",
              "      <td>Streatham Wells</td>\n",
              "      <td>POLYGON ((-0.11461 51.42347, -0.11488 51.42353...</td>\n",
              "      <td>London</td>\n",
              "    </tr>\n",
              "    <tr>\n",
              "      <th>211</th>\n",
              "      <td>Lambeth</td>\n",
              "      <td>Knight's Hill</td>\n",
              "      <td>POLYGON ((-0.09691 51.42267, -0.09724 51.42263...</td>\n",
              "      <td>London</td>\n",
              "    </tr>\n",
              "    <tr>\n",
              "      <th>212</th>\n",
              "      <td>Lambeth</td>\n",
              "      <td>Thornton</td>\n",
              "      <td>POLYGON ((-0.14362 51.44184, -0.14382 51.44230...</td>\n",
              "      <td>London</td>\n",
              "    </tr>\n",
              "  </tbody>\n",
              "</table>\n",
              "</div>"
            ],
            "text/plain": [
              "     Borough  ...    city\n",
              "208  Lambeth  ...  London\n",
              "209  Lambeth  ...  London\n",
              "210  Lambeth  ...  London\n",
              "211  Lambeth  ...  London\n",
              "212  Lambeth  ...  London\n",
              "\n",
              "[5 rows x 4 columns]"
            ]
          },
          "metadata": {
            "tags": []
          },
          "execution_count": 108
        }
      ]
    },
    {
      "cell_type": "code",
      "metadata": {
        "id": "gVY5euAFpNe5",
        "colab_type": "code",
        "colab": {}
      },
      "source": [
        "def getXY(pt):\n",
        "    return (pt.x, pt.y)\n",
        "centroidseries = gdf_cities['geometry'].centroid\n",
        "x, y = [list(t) for t in zip(*map(getXY, centroidseries))]"
      ],
      "execution_count": 0,
      "outputs": []
    },
    {
      "cell_type": "code",
      "metadata": {
        "id": "u5cafzURpctO",
        "colab_type": "code",
        "colab": {}
      },
      "source": [
        "gdf_cities['Longitude'] = x\n",
        "gdf_cities['Latitude'] = y"
      ],
      "execution_count": 0,
      "outputs": []
    },
    {
      "cell_type": "code",
      "metadata": {
        "id": "Sd6Sxm_8pNbW",
        "colab_type": "code",
        "outputId": "8685164e-8ce7-4141-a60f-9fafd66f709e",
        "colab": {
          "base_uri": "https://localhost:8080/",
          "height": 189
        }
      },
      "source": [
        "gdf_cities.head()"
      ],
      "execution_count": 0,
      "outputs": [
        {
          "output_type": "execute_result",
          "data": {
            "text/html": [
              "<div>\n",
              "<style scoped>\n",
              "    .dataframe tbody tr th:only-of-type {\n",
              "        vertical-align: middle;\n",
              "    }\n",
              "\n",
              "    .dataframe tbody tr th {\n",
              "        vertical-align: top;\n",
              "    }\n",
              "\n",
              "    .dataframe thead th {\n",
              "        text-align: right;\n",
              "    }\n",
              "</style>\n",
              "<table border=\"1\" class=\"dataframe\">\n",
              "  <thead>\n",
              "    <tr style=\"text-align: right;\">\n",
              "      <th></th>\n",
              "      <th>Borough</th>\n",
              "      <th>Neighborhood</th>\n",
              "      <th>geometry</th>\n",
              "      <th>city</th>\n",
              "      <th>Longitude</th>\n",
              "      <th>Latitude</th>\n",
              "    </tr>\n",
              "  </thead>\n",
              "  <tbody>\n",
              "    <tr>\n",
              "      <th>208</th>\n",
              "      <td>Lambeth</td>\n",
              "      <td>Streatham South</td>\n",
              "      <td>POLYGON ((-0.13785 51.42111, -0.13758 51.42057...</td>\n",
              "      <td>London</td>\n",
              "      <td>-0.130382</td>\n",
              "      <td>51.417380</td>\n",
              "    </tr>\n",
              "    <tr>\n",
              "      <th>209</th>\n",
              "      <td>Lambeth</td>\n",
              "      <td>St. Leonard's</td>\n",
              "      <td>POLYGON ((-0.13750 51.44015, -0.13744 51.44014...</td>\n",
              "      <td>London</td>\n",
              "      <td>-0.133502</td>\n",
              "      <td>51.429830</td>\n",
              "    </tr>\n",
              "    <tr>\n",
              "      <th>210</th>\n",
              "      <td>Lambeth</td>\n",
              "      <td>Streatham Wells</td>\n",
              "      <td>POLYGON ((-0.11461 51.42347, -0.11488 51.42353...</td>\n",
              "      <td>London</td>\n",
              "      <td>-0.121877</td>\n",
              "      <td>51.429980</td>\n",
              "    </tr>\n",
              "    <tr>\n",
              "      <th>211</th>\n",
              "      <td>Lambeth</td>\n",
              "      <td>Knight's Hill</td>\n",
              "      <td>POLYGON ((-0.09691 51.42267, -0.09724 51.42263...</td>\n",
              "      <td>London</td>\n",
              "      <td>-0.107899</td>\n",
              "      <td>51.429287</td>\n",
              "    </tr>\n",
              "    <tr>\n",
              "      <th>212</th>\n",
              "      <td>Lambeth</td>\n",
              "      <td>Thornton</td>\n",
              "      <td>POLYGON ((-0.14362 51.44184, -0.14382 51.44230...</td>\n",
              "      <td>London</td>\n",
              "      <td>-0.136736</td>\n",
              "      <td>51.447030</td>\n",
              "    </tr>\n",
              "  </tbody>\n",
              "</table>\n",
              "</div>"
            ],
            "text/plain": [
              "     Borough     Neighborhood  ... Longitude   Latitude\n",
              "208  Lambeth  Streatham South  ... -0.130382  51.417380\n",
              "209  Lambeth    St. Leonard's  ... -0.133502  51.429830\n",
              "210  Lambeth  Streatham Wells  ... -0.121877  51.429980\n",
              "211  Lambeth    Knight's Hill  ... -0.107899  51.429287\n",
              "212  Lambeth         Thornton  ... -0.136736  51.447030\n",
              "\n",
              "[5 rows x 6 columns]"
            ]
          },
          "metadata": {
            "tags": []
          },
          "execution_count": 111
        }
      ]
    },
    {
      "cell_type": "code",
      "metadata": {
        "id": "KiIx1HKsV4HF",
        "colab_type": "code",
        "colab": {}
      },
      "source": [
        "#Join Paris data with London and New York\n",
        "\n",
        "paris = paris.loc[:, ['l_ar', 'l_aroff', 'geometry', 'lat', 'long']]\n",
        "paris.columns = ['Borough',\t'Neighborhood', 'geometry', 'Longitude', 'Latitude']\n",
        "paris['city'] = 'Paris'\n",
        "\n",
        "gdf_cities = pd.concat([paris, gdf_cities])"
      ],
      "execution_count": 0,
      "outputs": []
    },
    {
      "cell_type": "code",
      "metadata": {
        "id": "7M3Hv4sPWSse",
        "colab_type": "code",
        "outputId": "3d143868-027f-4794-930e-7bd09f12103f",
        "colab": {
          "base_uri": "https://localhost:8080/",
          "height": 205
        }
      },
      "source": [
        "print(gdf_cities.shape)\n",
        "gdf_cities.head()"
      ],
      "execution_count": 0,
      "outputs": [
        {
          "output_type": "stream",
          "text": [
            "(516, 6)\n"
          ],
          "name": "stdout"
        },
        {
          "output_type": "execute_result",
          "data": {
            "text/html": [
              "<div>\n",
              "<style scoped>\n",
              "    .dataframe tbody tr th:only-of-type {\n",
              "        vertical-align: middle;\n",
              "    }\n",
              "\n",
              "    .dataframe tbody tr th {\n",
              "        vertical-align: top;\n",
              "    }\n",
              "\n",
              "    .dataframe thead th {\n",
              "        text-align: right;\n",
              "    }\n",
              "</style>\n",
              "<table border=\"1\" class=\"dataframe\">\n",
              "  <thead>\n",
              "    <tr style=\"text-align: right;\">\n",
              "      <th></th>\n",
              "      <th>Borough</th>\n",
              "      <th>Neighborhood</th>\n",
              "      <th>geometry</th>\n",
              "      <th>Longitude</th>\n",
              "      <th>Latitude</th>\n",
              "      <th>city</th>\n",
              "    </tr>\n",
              "  </thead>\n",
              "  <tbody>\n",
              "    <tr>\n",
              "      <th>0</th>\n",
              "      <td>1er Ardt</td>\n",
              "      <td>Louvre</td>\n",
              "      <td>POLYGON ((2.32801 48.86992, 2.32997 48.86851, ...</td>\n",
              "      <td>2.339</td>\n",
              "      <td>48.861</td>\n",
              "      <td>Paris</td>\n",
              "    </tr>\n",
              "    <tr>\n",
              "      <th>1</th>\n",
              "      <td>1er Ardt</td>\n",
              "      <td>Louvre</td>\n",
              "      <td>POLYGON ((2.32801 48.86992, 2.32997 48.86851, ...</td>\n",
              "      <td>2.338</td>\n",
              "      <td>48.862</td>\n",
              "      <td>Paris</td>\n",
              "    </tr>\n",
              "    <tr>\n",
              "      <th>2</th>\n",
              "      <td>1er Ardt</td>\n",
              "      <td>Louvre</td>\n",
              "      <td>POLYGON ((2.32801 48.86992, 2.32997 48.86851, ...</td>\n",
              "      <td>2.342</td>\n",
              "      <td>48.858</td>\n",
              "      <td>Paris</td>\n",
              "    </tr>\n",
              "    <tr>\n",
              "      <th>3</th>\n",
              "      <td>1er Ardt</td>\n",
              "      <td>Louvre</td>\n",
              "      <td>POLYGON ((2.32801 48.86992, 2.32997 48.86851, ...</td>\n",
              "      <td>2.340</td>\n",
              "      <td>48.859</td>\n",
              "      <td>Paris</td>\n",
              "    </tr>\n",
              "    <tr>\n",
              "      <th>4</th>\n",
              "      <td>1er Ardt</td>\n",
              "      <td>Louvre</td>\n",
              "      <td>POLYGON ((2.32801 48.86992, 2.32997 48.86851, ...</td>\n",
              "      <td>2.333</td>\n",
              "      <td>48.864</td>\n",
              "      <td>Paris</td>\n",
              "    </tr>\n",
              "  </tbody>\n",
              "</table>\n",
              "</div>"
            ],
            "text/plain": [
              "    Borough Neighborhood  ... Latitude   city\n",
              "0  1er Ardt       Louvre  ...   48.861  Paris\n",
              "1  1er Ardt       Louvre  ...   48.862  Paris\n",
              "2  1er Ardt       Louvre  ...   48.858  Paris\n",
              "3  1er Ardt       Louvre  ...   48.859  Paris\n",
              "4  1er Ardt       Louvre  ...   48.864  Paris\n",
              "\n",
              "[5 rows x 6 columns]"
            ]
          },
          "metadata": {
            "tags": []
          },
          "execution_count": 114
        }
      ]
    },
    {
      "cell_type": "code",
      "metadata": {
        "id": "l9DpN0xhWSot",
        "colab_type": "code",
        "outputId": "f80ac5f1-dead-4374-c2a5-83eba96b9b8d",
        "colab": {
          "base_uri": "https://localhost:8080/",
          "height": 82
        }
      },
      "source": [
        "gdf_cities.city.value_counts()"
      ],
      "execution_count": 0,
      "outputs": [
        {
          "output_type": "execute_result",
          "data": {
            "text/plain": [
              "London      221\n",
              "New York    195\n",
              "Paris       100\n",
              "Name: city, dtype: int64"
            ]
          },
          "metadata": {
            "tags": []
          },
          "execution_count": 115
        }
      ]
    },
    {
      "cell_type": "markdown",
      "metadata": {
        "colab_type": "text",
        "id": "WjI8mJJq5thl"
      },
      "source": [
        "#### save neighbourhood centroid coordinates"
      ]
    },
    {
      "cell_type": "code",
      "metadata": {
        "id": "gR_6gAnyXbI7",
        "colab_type": "code",
        "outputId": "4567f261-53e1-49ff-aee7-ccefa2d94fc6",
        "colab": {
          "base_uri": "https://localhost:8080/",
          "height": 66
        }
      },
      "source": [
        "gdf_cities.to_csv('fashion_week_cities_location_search_Q2_2020.csv')\n",
        "# !gsutil cp \"fashion_week_cities_location_search_Q2_2020.csv\" gs://public-data-data_viz-2"
      ],
      "execution_count": 0,
      "outputs": [
        {
          "output_type": "stream",
          "text": [
            "Copying file://fashion_week_cities_location_search_Q2_2020.csv [Content-Type=text/csv]...\n",
            "/ [1 files][  6.1 MiB/  6.1 MiB]                                                \n",
            "Operation completed over 1 objects/6.1 MiB.                                      \n"
          ],
          "name": "stdout"
        }
      ]
    },
    {
      "cell_type": "markdown",
      "metadata": {
        "colab_type": "text",
        "id": "feEKuOrssFs0"
      },
      "source": [
        "### Step 1 - Get Location Data GoogleAPI "
      ]
    },
    {
      "cell_type": "markdown",
      "metadata": {
        "colab_type": "text",
        "id": "fU2HHRG6sRVq"
      },
      "source": [
        "#### GoogleAPI Key - Get Google Adresse"
      ]
    },
    {
      "cell_type": "code",
      "metadata": {
        "colab_type": "code",
        "id": "LzOF4s58sRVq",
        "colab": {}
      },
      "source": [
        "gdf_osm.head(3)"
      ],
      "execution_count": 0,
      "outputs": []
    },
    {
      "cell_type": "code",
      "metadata": {
        "colab_type": "code",
        "id": "NU4yEFkcsRVu",
        "colab": {}
      },
      "source": [
        "import urllib\n",
        "import requests\n",
        "import json\n",
        "import time\n",
        "from tqdm import tqdm\n",
        "\n",
        "# Google Maps API Key\n",
        "API_key = '' # your API Key here\n",
        "\n",
        "## Request with JSON output! \n",
        "## https://developers.google.com/places/web-service/search\n",
        "\n",
        "def Get_PlaceRating(row):\n",
        "\n",
        "    for i in tqdm(range(10)):\n",
        "      time.sleep(6)\n",
        "  \n",
        "    try:\n",
        "        url = 'https://maps.googleapis.com/maps/api/place/nearbysearch/json?location='+str(row['Latitude'])+','+str(row['Longitude'])+'&radius=500&type=art_gallery,clothing_store,tourist_attraction,night_club,museum&key='+str(API_key)         \n",
        "        response = (requests.get(url).text)\n",
        "        response_json = json.loads(response)\n",
        "        return response_json  \n",
        "    except Exception as error:\n",
        "        raise error"
      ],
      "execution_count": 0,
      "outputs": []
    },
    {
      "cell_type": "markdown",
      "metadata": {
        "colab_type": "text",
        "id": "_fkUM_LYsRVx"
      },
      "source": [
        "#### API Response in Google Bucket"
      ]
    },
    {
      "cell_type": "code",
      "metadata": {
        "colab_type": "code",
        "id": "1O1VDXK4zEvA",
        "colab": {}
      },
      "source": [
        "# run the google API\n",
        "gdf_cities['API_response'] = gdf_cities.apply(Get_PlaceRating, axis=1)\n",
        "\n",
        "# save the data into google bucket!\n",
        "gdf_cities.to_csv('new.csv')\n",
        "!gsutil cp  'new.csv' gs://public-data-data_viz-2/"
      ],
      "execution_count": 0,
      "outputs": []
    },
    {
      "cell_type": "markdown",
      "metadata": {
        "colab_type": "text",
        "id": "QNpH_D1GR6hW"
      },
      "source": [
        "### Step 2 - Clean OSM API Response"
      ]
    },
    {
      "cell_type": "markdown",
      "metadata": {
        "colab_type": "text",
        "id": "hqPK_vKOR6hX"
      },
      "source": [
        "#### Read data "
      ]
    },
    {
      "cell_type": "code",
      "metadata": {
        "colab_type": "code",
        "id": "2VyzlAHiR6hY",
        "outputId": "0e24d7c6-0852-4f04-b25e-91cd5bc05c33",
        "colab": {
          "base_uri": "https://localhost:8080/",
          "height": 66
        }
      },
      "source": [
        "#pull data from GCP bucket\n",
        "!gsutil cp gs://public-data-data_viz-2/fw19_placesapi_reponse.csv fw19_placesapi_reponse.csv"
      ],
      "execution_count": 0,
      "outputs": [
        {
          "output_type": "stream",
          "text": [
            "Copying gs://public-data-data_viz-2/fw19_placesapi_reponse.csv...\n",
            "/ [1 files][ 16.0 MiB/ 16.0 MiB]                                                \n",
            "Operation completed over 1 objects/16.0 MiB.                                     \n"
          ],
          "name": "stdout"
        }
      ]
    },
    {
      "cell_type": "code",
      "metadata": {
        "colab_type": "code",
        "id": "lZd0ObLTR6hc",
        "colab": {}
      },
      "source": [
        "data = pd.read_csv('fw19_placesapi_reponse.csv')\n",
        "data = data.drop(columns='Unnamed: 0')"
      ],
      "execution_count": 0,
      "outputs": []
    },
    {
      "cell_type": "code",
      "metadata": {
        "colab_type": "code",
        "id": "4CGsa4f-R6hf",
        "outputId": "7faa00ab-e28b-45cb-d09b-6ad2ce138572",
        "colab": {
          "base_uri": "https://localhost:8080/",
          "height": 103
        }
      },
      "source": [
        "data.head(2)"
      ],
      "execution_count": 0,
      "outputs": [
        {
          "output_type": "execute_result",
          "data": {
            "text/html": [
              "<div>\n",
              "<style scoped>\n",
              "    .dataframe tbody tr th:only-of-type {\n",
              "        vertical-align: middle;\n",
              "    }\n",
              "\n",
              "    .dataframe tbody tr th {\n",
              "        vertical-align: top;\n",
              "    }\n",
              "\n",
              "    .dataframe thead th {\n",
              "        text-align: right;\n",
              "    }\n",
              "</style>\n",
              "<table border=\"1\" class=\"dataframe\">\n",
              "  <thead>\n",
              "    <tr style=\"text-align: right;\">\n",
              "      <th></th>\n",
              "      <th>Borough</th>\n",
              "      <th>Neighborhood</th>\n",
              "      <th>geometry</th>\n",
              "      <th>Longitude</th>\n",
              "      <th>Latitude</th>\n",
              "      <th>city</th>\n",
              "      <th>API_response</th>\n",
              "    </tr>\n",
              "  </thead>\n",
              "  <tbody>\n",
              "    <tr>\n",
              "      <th>0</th>\n",
              "      <td>1er Ardt</td>\n",
              "      <td>Louvre</td>\n",
              "      <td>POLYGON ((2.328007329038849 48.86991742140716,...</td>\n",
              "      <td>2.339</td>\n",
              "      <td>48.861</td>\n",
              "      <td>Paris</td>\n",
              "      <td>{'html_attributions': [], 'next_page_token': '...</td>\n",
              "    </tr>\n",
              "    <tr>\n",
              "      <th>1</th>\n",
              "      <td>1er Ardt</td>\n",
              "      <td>Louvre</td>\n",
              "      <td>POLYGON ((2.328007329038849 48.86991742140716,...</td>\n",
              "      <td>2.338</td>\n",
              "      <td>48.862</td>\n",
              "      <td>Paris</td>\n",
              "      <td>{'html_attributions': [], 'next_page_token': '...</td>\n",
              "    </tr>\n",
              "  </tbody>\n",
              "</table>\n",
              "</div>"
            ],
            "text/plain": [
              "    Borough  ...                                       API_response\n",
              "0  1er Ardt  ...  {'html_attributions': [], 'next_page_token': '...\n",
              "1  1er Ardt  ...  {'html_attributions': [], 'next_page_token': '...\n",
              "\n",
              "[2 rows x 7 columns]"
            ]
          },
          "metadata": {
            "tags": []
          },
          "execution_count": 9
        }
      ]
    },
    {
      "cell_type": "markdown",
      "metadata": {
        "colab_type": "text",
        "id": "zrwPel0mR6hh"
      },
      "source": [
        "#### Get the Ratings (Parse Json API_response)"
      ]
    },
    {
      "cell_type": "markdown",
      "metadata": {
        "colab_type": "text",
        "id": "Qe04Iw-4R6hk"
      },
      "source": [
        "###### step1 - get non-empty api_response"
      ]
    },
    {
      "cell_type": "code",
      "metadata": {
        "colab_type": "code",
        "id": "5-5W4TpTaGAo",
        "colab": {}
      },
      "source": [
        "def Get_EmptyReponse(dataframe):\n",
        "  \n",
        "  api_replist = []\n",
        "\n",
        "  for row in range(len(dataframe)): \n",
        "          # get inside the api reponse\n",
        "          api_rep = ast.literal_eval(dataframe['API_response'][row])\n",
        "          # check if list is empty? if yes - nan, if no - api_rep\n",
        "          if len(api_rep['place_id']) == 0:\n",
        "            api_rep = 'NaN'\n",
        "          else:\n",
        "            api_rep = api_rep['place_id']\n",
        "\n",
        "          api_replist.append(api_rep)\n",
        "\n",
        "  dataframe['api_rep'] = api_replist\n",
        "  return dataframe"
      ],
      "execution_count": 0,
      "outputs": []
    },
    {
      "cell_type": "code",
      "metadata": {
        "colab_type": "code",
        "id": "dLYz-UeBbKGC",
        "colab": {}
      },
      "source": [
        "# data = Get_EmptyReponse(data)\n",
        "# data.head(1)\n",
        "\n",
        "# data_notempty = data[data['api_rep'] != 'NaN']\n",
        "# print('Length of data: '+str(len(data)))\n",
        "# print('Length of data with an API reponse: '+str(len(data_notempty)))"
      ],
      "execution_count": 0,
      "outputs": []
    },
    {
      "cell_type": "markdown",
      "metadata": {
        "id": "6MxPEcRjE2E-",
        "colab_type": "text"
      },
      "source": [
        "###### step2 - access api_response data"
      ]
    },
    {
      "cell_type": "code",
      "metadata": {
        "colab_type": "code",
        "id": "5rL0Bq7bSZLE",
        "colab": {}
      },
      "source": [
        "import pprint\n",
        "\n",
        "def Get_APIresponse_df(dataframe):\n",
        "\n",
        "  allindex_list = []\n",
        "  allname_list = []\n",
        "  alladdress_list = []\n",
        "  alllatitude_list = []\n",
        "  alllongitude_list = []\n",
        "  allrating_list = []\n",
        "  alluser_ratings_list = []\n",
        "  alltypes_list = []\n",
        "\n",
        "  apirep_list = []\n",
        "  apiisrep_list = []\n",
        "\n",
        "  for row in range(len(dataframe)):  \n",
        "      # get inside the api reponse\n",
        "      api_rep = ast.literal_eval(dataframe['API_response'][row])\n",
        "      results = api_rep['results']\n",
        "      if len(results) == 0:\n",
        "        results_new = 'False'\n",
        "      else:\n",
        "        results_new = 'True'\n",
        "\n",
        "      #properties\n",
        "      index_list = []\n",
        "      name_list = []\n",
        "      address_list = []\n",
        "      latitude_list = []\n",
        "      longitude_list = []\n",
        "      rating_list = []\n",
        "      user_ratings_list = []\n",
        "      types_list = []\n",
        "\n",
        "      for i in range(len(results)):\n",
        "        # get the index from the dataframe - merge, join for later\n",
        "         data_index = row\n",
        "         index_list.append(data_index)\n",
        "         try:\n",
        "           name = results[i]['name']\n",
        "           name_list.append(name)\n",
        "\n",
        "           address = results[i]['vicinity']\n",
        "           address_list.append(address)\n",
        "\n",
        "           latitude = results[i]['geometry']['location']['lat']\n",
        "           latitude_list.append(latitude)\n",
        "\n",
        "           longitude = results[i]['geometry']['location']['lng']\n",
        "           longitude_list.append(longitude)\n",
        "\n",
        "           rating = results[i]['rating']\n",
        "           rating_list.append(rating)\n",
        "\n",
        "           user_ratings = results[i]['user_ratings_total']\n",
        "           user_ratings_list.append(user_ratings)\n",
        "\n",
        "           types = results[i]['types']\n",
        "           types_list.append(types)\n",
        "\n",
        "         except:\n",
        "           name = 'NaN'\n",
        "           name_list.append(name)\n",
        "\n",
        "           address = 'NaN'\n",
        "           address_list.append(address)\n",
        "\n",
        "           latitude = 'NaN'\n",
        "           latitude_list.append(latitude)\n",
        "\n",
        "           longitude = 'NaN'\n",
        "           longitude_list.append(longitude)\n",
        "\n",
        "           rating = 'NaN'\n",
        "           rating_list.append(rating)\n",
        "\n",
        "           user_ratings = 'NaN'\n",
        "           user_ratings_list.append(user_ratings)\n",
        "\n",
        "      #append all result to final list\n",
        "      allindex_list.append(index_list)\n",
        "      allname_list.append(name_list)\n",
        "      alladdress_list.append(address_list)\n",
        "      alllatitude_list.append(latitude_list)\n",
        "      alllongitude_list.append(longitude_list)\n",
        "      allrating_list.append(rating_list)\n",
        "      alluser_ratings_list.append(user_ratings_list)\n",
        "      alltypes_list.append(types_list)\n",
        "      \n",
        "      apiisrep_list.append(results_new)\n",
        "      apirep_list.append(results)\n",
        "\n",
        "  dict_df = {'data_index':allindex_list,\n",
        "             'name':allname_list,\n",
        "             'address':alladdress_list,\n",
        "             'lat':alllatitude_list,\n",
        "             'long':alllongitude_list,\n",
        "             'rating':allrating_list,\n",
        "             'user_ratings_total': alluser_ratings_list,\n",
        "             'types': alltypes_list,\n",
        "\n",
        "             'is_apirep':apiisrep_list,\n",
        "             'api_rep':apirep_list}\n",
        "\n",
        "  apirep_df = pd.DataFrame(dict_df)\n",
        "  return apirep_df"
      ],
      "execution_count": 0,
      "outputs": []
    },
    {
      "cell_type": "code",
      "metadata": {
        "id": "zJHIGaWq5y3U",
        "colab_type": "code",
        "colab": {}
      },
      "source": [
        "apirep_df = Get_APIresponse_df(data)"
      ],
      "execution_count": 0,
      "outputs": []
    },
    {
      "cell_type": "code",
      "metadata": {
        "id": "K0Ix8QGW-V0U",
        "colab_type": "code",
        "outputId": "e9787ae3-b084-42e2-b704-ec91b6340b5b",
        "colab": {
          "base_uri": "https://localhost:8080/",
          "height": 202
        }
      },
      "source": [
        "apirep_df.head(2)"
      ],
      "execution_count": 0,
      "outputs": [
        {
          "output_type": "execute_result",
          "data": {
            "text/html": [
              "<div>\n",
              "<style scoped>\n",
              "    .dataframe tbody tr th:only-of-type {\n",
              "        vertical-align: middle;\n",
              "    }\n",
              "\n",
              "    .dataframe tbody tr th {\n",
              "        vertical-align: top;\n",
              "    }\n",
              "\n",
              "    .dataframe thead th {\n",
              "        text-align: right;\n",
              "    }\n",
              "</style>\n",
              "<table border=\"1\" class=\"dataframe\">\n",
              "  <thead>\n",
              "    <tr style=\"text-align: right;\">\n",
              "      <th></th>\n",
              "      <th>data_index</th>\n",
              "      <th>name</th>\n",
              "      <th>address</th>\n",
              "      <th>lat</th>\n",
              "      <th>long</th>\n",
              "      <th>rating</th>\n",
              "      <th>user_ratings_total</th>\n",
              "      <th>types</th>\n",
              "      <th>is_apirep</th>\n",
              "      <th>api_rep</th>\n",
              "    </tr>\n",
              "  </thead>\n",
              "  <tbody>\n",
              "    <tr>\n",
              "      <th>0</th>\n",
              "      <td>[0, 0, 0, 0, 0, 0, 0, 0, 0, 0, 0, 0, 0, 0, 0, ...</td>\n",
              "      <td>[Paris, NaN, Hôtel Ducs de Bourgogne, Hotel Re...</td>\n",
              "      <td>[Paris, NaN, 19 Rue du Pont Neuf, Paris, 19 Ru...</td>\n",
              "      <td>[48.85661400000001, NaN, 48.86034799999999, 48...</td>\n",
              "      <td>[2.3522219, NaN, 2.344054, 2.341004799999999, ...</td>\n",
              "      <td>[NaN, 4.5, 4.6, 4.2, 4.5, 4, 3.8, 3.6, 4.5, 4....</td>\n",
              "      <td>[NaN, 264, 104, 329, 111, 233, 168, 324, 282, ...</td>\n",
              "      <td>[[lodging, point_of_interest, establishment], ...</td>\n",
              "      <td>True</td>\n",
              "      <td>[{'geometry': {'location': {'lat': 48.85661400...</td>\n",
              "    </tr>\n",
              "    <tr>\n",
              "      <th>1</th>\n",
              "      <td>[1, 1, 1, 1, 1, 1, 1, 1, 1, 1, 1, 1, 1, 1, 1, ...</td>\n",
              "      <td>[Paris, NaN, Hotel Regina Louvre, Hôtel Ducs d...</td>\n",
              "      <td>[Paris, NaN, 2 Place des Pyramides, Paris, 19 ...</td>\n",
              "      <td>[48.85661400000001, NaN, 48.86386539999999, 48...</td>\n",
              "      <td>[2.3522219, NaN, 2.3325488, 2.344054, 2.342582...</td>\n",
              "      <td>[NaN, 4.5, 4.5, 4.2, 4.6, 3.2, 4.5, 3.3, 4, 4....</td>\n",
              "      <td>[NaN, 493, 264, 329, 104, 215, 111, 892, 233, ...</td>\n",
              "      <td>[[lodging, bar, restaurant, food, point_of_int...</td>\n",
              "      <td>True</td>\n",
              "      <td>[{'geometry': {'location': {'lat': 48.85661400...</td>\n",
              "    </tr>\n",
              "  </tbody>\n",
              "</table>\n",
              "</div>"
            ],
            "text/plain": [
              "                                          data_index  ...                                            api_rep\n",
              "0  [0, 0, 0, 0, 0, 0, 0, 0, 0, 0, 0, 0, 0, 0, 0, ...  ...  [{'geometry': {'location': {'lat': 48.85661400...\n",
              "1  [1, 1, 1, 1, 1, 1, 1, 1, 1, 1, 1, 1, 1, 1, 1, ...  ...  [{'geometry': {'location': {'lat': 48.85661400...\n",
              "\n",
              "[2 rows x 10 columns]"
            ]
          },
          "metadata": {
            "tags": []
          },
          "execution_count": 12
        }
      ]
    },
    {
      "cell_type": "code",
      "metadata": {
        "id": "QqdnET_kBcRK",
        "colab_type": "code",
        "colab": {}
      },
      "source": [
        "apirep_df = apirep_df.iloc[:,:8]"
      ],
      "execution_count": 0,
      "outputs": []
    },
    {
      "cell_type": "code",
      "metadata": {
        "id": "1wGiBAQgJPHp",
        "colab_type": "code",
        "outputId": "1f3cc2e4-158f-448c-d79c-9205e820d560",
        "colab": {
          "base_uri": "https://localhost:8080/",
          "height": 33
        }
      },
      "source": [
        "print(data.shape, apirep_df.shape)"
      ],
      "execution_count": 0,
      "outputs": [
        {
          "output_type": "stream",
          "text": [
            "(516, 7) (516, 8)\n"
          ],
          "name": "stdout"
        }
      ]
    },
    {
      "cell_type": "markdown",
      "metadata": {
        "id": "qPjJPd_tE7yf",
        "colab_type": "text"
      },
      "source": [
        "###### step3 - join api_response data on index"
      ]
    },
    {
      "cell_type": "code",
      "metadata": {
        "id": "OH5tDHkvC5sR",
        "colab_type": "code",
        "colab": {}
      },
      "source": [
        "#make a new dataframe by concatinating the Ward dataframe and the API repsonse dataframe on the same index\n",
        "new_data = pd.concat([data, apirep_df], axis=1)"
      ],
      "execution_count": 0,
      "outputs": []
    },
    {
      "cell_type": "code",
      "metadata": {
        "id": "7mT2ACCBc1F2",
        "colab_type": "code",
        "outputId": "8daacd2e-3706-407e-b89a-43cfb296af79",
        "colab": {
          "base_uri": "https://localhost:8080/",
          "height": 169
        }
      },
      "source": [
        "new_data.head(2)"
      ],
      "execution_count": 0,
      "outputs": [
        {
          "output_type": "execute_result",
          "data": {
            "text/html": [
              "<div>\n",
              "<style scoped>\n",
              "    .dataframe tbody tr th:only-of-type {\n",
              "        vertical-align: middle;\n",
              "    }\n",
              "\n",
              "    .dataframe tbody tr th {\n",
              "        vertical-align: top;\n",
              "    }\n",
              "\n",
              "    .dataframe thead th {\n",
              "        text-align: right;\n",
              "    }\n",
              "</style>\n",
              "<table border=\"1\" class=\"dataframe\">\n",
              "  <thead>\n",
              "    <tr style=\"text-align: right;\">\n",
              "      <th></th>\n",
              "      <th>Neighborhood</th>\n",
              "      <th>name</th>\n",
              "      <th>address</th>\n",
              "      <th>rating</th>\n",
              "      <th>user_ratings_total</th>\n",
              "      <th>types</th>\n",
              "      <th>lat</th>\n",
              "      <th>long</th>\n",
              "    </tr>\n",
              "  </thead>\n",
              "  <tbody>\n",
              "    <tr>\n",
              "      <th>0</th>\n",
              "      <td>Louvre</td>\n",
              "      <td>[Paris, NaN, Hôtel Ducs de Bourgogne, Hotel Re...</td>\n",
              "      <td>[Paris, NaN, 19 Rue du Pont Neuf, Paris, 19 Ru...</td>\n",
              "      <td>[NaN, 4.5, 4.6, 4.2, 4.5, 4, 3.8, 3.6, 4.5, 4....</td>\n",
              "      <td>[NaN, 264, 104, 329, 111, 233, 168, 324, 282, ...</td>\n",
              "      <td>[[lodging, point_of_interest, establishment], ...</td>\n",
              "      <td>[48.85661400000001, NaN, 48.86034799999999, 48...</td>\n",
              "      <td>[2.3522219, NaN, 2.344054, 2.341004799999999, ...</td>\n",
              "    </tr>\n",
              "    <tr>\n",
              "      <th>1</th>\n",
              "      <td>Bourse</td>\n",
              "      <td>[Paris, NaN, Hotel Royal Aboukir, Hotel Des Bo...</td>\n",
              "      <td>[Paris, NaN, 106 Rue d'Aboukir, Paris, 10 Rue ...</td>\n",
              "      <td>[NaN, 3, 4.5, 3.6, 2.6, 3.8, 3.7, 3.4, 3.4, 4,...</td>\n",
              "      <td>[NaN, 262, 23, 236, 202, 141, 118, 90, 176, 13...</td>\n",
              "      <td>[[lodging, point_of_interest, establishment], ...</td>\n",
              "      <td>[48.85661400000001, NaN, 48.86856479999999, 48...</td>\n",
              "      <td>[2.3522219, NaN, 2.349895800000001, 2.3486459,...</td>\n",
              "    </tr>\n",
              "  </tbody>\n",
              "</table>\n",
              "</div>"
            ],
            "text/plain": [
              "  Neighborhood  ...                                               long\n",
              "0       Louvre  ...  [2.3522219, NaN, 2.344054, 2.341004799999999, ...\n",
              "1       Bourse  ...  [2.3522219, NaN, 2.349895800000001, 2.3486459,...\n",
              "\n",
              "[2 rows x 8 columns]"
            ]
          },
          "metadata": {
            "tags": []
          },
          "execution_count": 43
        }
      ]
    },
    {
      "cell_type": "code",
      "metadata": {
        "id": "Ll9h-M02GAsQ",
        "colab_type": "code",
        "colab": {}
      },
      "source": [
        "#drop all duplicate rows by the NAME column in the Ward dataframe\n",
        "new_data = new_data.drop_duplicates(subset='Neighborhood')"
      ],
      "execution_count": 0,
      "outputs": []
    },
    {
      "cell_type": "code",
      "metadata": {
        "id": "5IGZhMe_C-0r",
        "colab_type": "code",
        "outputId": "919d6b97-c1d0-4122-b2a0-1bb67a2a6032",
        "colab": {
          "base_uri": "https://localhost:8080/",
          "height": 387
        }
      },
      "source": [
        "new_data.head(2)"
      ],
      "execution_count": 0,
      "outputs": [
        {
          "output_type": "execute_result",
          "data": {
            "text/html": [
              "<div>\n",
              "<style scoped>\n",
              "    .dataframe tbody tr th:only-of-type {\n",
              "        vertical-align: middle;\n",
              "    }\n",
              "\n",
              "    .dataframe tbody tr th {\n",
              "        vertical-align: top;\n",
              "    }\n",
              "\n",
              "    .dataframe thead th {\n",
              "        text-align: right;\n",
              "    }\n",
              "</style>\n",
              "<table border=\"1\" class=\"dataframe\">\n",
              "  <thead>\n",
              "    <tr style=\"text-align: right;\">\n",
              "      <th></th>\n",
              "      <th>Borough</th>\n",
              "      <th>Neighborhood</th>\n",
              "      <th>geometry</th>\n",
              "      <th>Longitude</th>\n",
              "      <th>Latitude</th>\n",
              "      <th>city</th>\n",
              "      <th>API_response</th>\n",
              "      <th>data_index</th>\n",
              "      <th>name</th>\n",
              "      <th>address</th>\n",
              "      <th>lat</th>\n",
              "      <th>long</th>\n",
              "      <th>rating</th>\n",
              "      <th>user_ratings_total</th>\n",
              "      <th>types</th>\n",
              "    </tr>\n",
              "  </thead>\n",
              "  <tbody>\n",
              "    <tr>\n",
              "      <th>0</th>\n",
              "      <td>1er Ardt</td>\n",
              "      <td>Louvre</td>\n",
              "      <td>POLYGON ((2.328007329038849 48.86991742140716,...</td>\n",
              "      <td>2.339</td>\n",
              "      <td>48.861</td>\n",
              "      <td>Paris</td>\n",
              "      <td>{'html_attributions': [], 'next_page_token': '...</td>\n",
              "      <td>[0, 0, 0, 0, 0, 0, 0, 0, 0, 0, 0, 0, 0, 0, 0, ...</td>\n",
              "      <td>[Paris, NaN, Hôtel Ducs de Bourgogne, Hotel Re...</td>\n",
              "      <td>[Paris, NaN, 19 Rue du Pont Neuf, Paris, 19 Ru...</td>\n",
              "      <td>[48.85661400000001, NaN, 48.86034799999999, 48...</td>\n",
              "      <td>[2.3522219, NaN, 2.344054, 2.341004799999999, ...</td>\n",
              "      <td>[NaN, 4.5, 4.6, 4.2, 4.5, 4, 3.8, 3.6, 4.5, 4....</td>\n",
              "      <td>[NaN, 264, 104, 329, 111, 233, 168, 324, 282, ...</td>\n",
              "      <td>[[lodging, point_of_interest, establishment], ...</td>\n",
              "    </tr>\n",
              "    <tr>\n",
              "      <th>5</th>\n",
              "      <td>2ème Ardt</td>\n",
              "      <td>Bourse</td>\n",
              "      <td>POLYGON ((2.351518483670822 48.8644258050741, ...</td>\n",
              "      <td>2.346</td>\n",
              "      <td>48.867</td>\n",
              "      <td>Paris</td>\n",
              "      <td>{'html_attributions': [], 'next_page_token': '...</td>\n",
              "      <td>[5, 5, 5, 5, 5, 5, 5, 5, 5, 5, 5, 5, 5, 5, 5, ...</td>\n",
              "      <td>[Paris, NaN, Hotel Royal Aboukir, Hotel Des Bo...</td>\n",
              "      <td>[Paris, NaN, 106 Rue d'Aboukir, Paris, 10 Rue ...</td>\n",
              "      <td>[48.85661400000001, NaN, 48.86856479999999, 48...</td>\n",
              "      <td>[2.3522219, NaN, 2.349895800000001, 2.3486459,...</td>\n",
              "      <td>[NaN, 3, 4.5, 3.6, 2.6, 3.8, 3.7, 3.4, 3.4, 4,...</td>\n",
              "      <td>[NaN, 262, 23, 236, 202, 141, 118, 90, 176, 13...</td>\n",
              "      <td>[[lodging, point_of_interest, establishment], ...</td>\n",
              "    </tr>\n",
              "  </tbody>\n",
              "</table>\n",
              "</div>"
            ],
            "text/plain": [
              "     Borough  ...                                              types\n",
              "0   1er Ardt  ...  [[lodging, point_of_interest, establishment], ...\n",
              "5  2ème Ardt  ...  [[lodging, point_of_interest, establishment], ...\n",
              "\n",
              "[2 rows x 15 columns]"
            ]
          },
          "metadata": {
            "tags": []
          },
          "execution_count": 18
        }
      ]
    },
    {
      "cell_type": "code",
      "metadata": {
        "id": "LO0Y_368D35r",
        "colab_type": "code",
        "colab": {}
      },
      "source": [
        "new_data.drop('API_response', axis=1, inplace=True)\n",
        "new_data.reset_index(inplace=True)"
      ],
      "execution_count": 0,
      "outputs": []
    },
    {
      "cell_type": "code",
      "metadata": {
        "id": "oVoxzrVBDood",
        "colab_type": "code",
        "outputId": "1898261d-34af-45d2-e2a7-0beaf081e284",
        "colab": {
          "base_uri": "https://localhost:8080/",
          "height": 82
        }
      },
      "source": [
        "new_data.columns"
      ],
      "execution_count": 0,
      "outputs": [
        {
          "output_type": "execute_result",
          "data": {
            "text/plain": [
              "Index(['index', 'Borough', 'Neighborhood', 'geometry', 'Longitude', 'Latitude',\n",
              "       'city', 'data_index', 'name', 'address', 'lat', 'long', 'rating',\n",
              "       'user_ratings_total', 'types'],\n",
              "      dtype='object')"
            ]
          },
          "metadata": {
            "tags": []
          },
          "execution_count": 20
        }
      ]
    },
    {
      "cell_type": "code",
      "metadata": {
        "id": "SEYEYggiD-XW",
        "colab_type": "code",
        "colab": {}
      },
      "source": [
        "new_data = new_data.loc[:, ['Neighborhood', 'name',\n",
        "                            'address', 'rating', \n",
        "                            'user_ratings_total', 'types', \n",
        "                            'lat', 'long',]]"
      ],
      "execution_count": 0,
      "outputs": []
    },
    {
      "cell_type": "code",
      "metadata": {
        "id": "mEoKAPPAFPMg",
        "colab_type": "code",
        "colab": {}
      },
      "source": [
        "# new_data.reset_index(inplace=True)"
      ],
      "execution_count": 0,
      "outputs": []
    },
    {
      "cell_type": "code",
      "metadata": {
        "id": "ENs_vhh7ETDd",
        "colab_type": "code",
        "outputId": "431593af-02d4-4d08-efd8-8888bd031350",
        "colab": {
          "base_uri": "https://localhost:8080/",
          "height": 354
        }
      },
      "source": [
        "new_data.head()"
      ],
      "execution_count": 0,
      "outputs": [
        {
          "output_type": "execute_result",
          "data": {
            "text/html": [
              "<div>\n",
              "<style scoped>\n",
              "    .dataframe tbody tr th:only-of-type {\n",
              "        vertical-align: middle;\n",
              "    }\n",
              "\n",
              "    .dataframe tbody tr th {\n",
              "        vertical-align: top;\n",
              "    }\n",
              "\n",
              "    .dataframe thead th {\n",
              "        text-align: right;\n",
              "    }\n",
              "</style>\n",
              "<table border=\"1\" class=\"dataframe\">\n",
              "  <thead>\n",
              "    <tr style=\"text-align: right;\">\n",
              "      <th></th>\n",
              "      <th>Neighborhood</th>\n",
              "      <th>name</th>\n",
              "      <th>address</th>\n",
              "      <th>rating</th>\n",
              "      <th>user_ratings_total</th>\n",
              "      <th>types</th>\n",
              "      <th>lat</th>\n",
              "      <th>long</th>\n",
              "    </tr>\n",
              "  </thead>\n",
              "  <tbody>\n",
              "    <tr>\n",
              "      <th>0</th>\n",
              "      <td>Louvre</td>\n",
              "      <td>[Paris, NaN, Hôtel Ducs de Bourgogne, Hotel Re...</td>\n",
              "      <td>[Paris, NaN, 19 Rue du Pont Neuf, Paris, 19 Ru...</td>\n",
              "      <td>[NaN, 4.5, 4.6, 4.2, 4.5, 4, 3.8, 3.6, 4.5, 4....</td>\n",
              "      <td>[NaN, 264, 104, 329, 111, 233, 168, 324, 282, ...</td>\n",
              "      <td>[[lodging, point_of_interest, establishment], ...</td>\n",
              "      <td>[48.85661400000001, NaN, 48.86034799999999, 48...</td>\n",
              "      <td>[2.3522219, NaN, 2.344054, 2.341004799999999, ...</td>\n",
              "    </tr>\n",
              "    <tr>\n",
              "      <th>1</th>\n",
              "      <td>Bourse</td>\n",
              "      <td>[Paris, NaN, Hotel Royal Aboukir, Hotel Des Bo...</td>\n",
              "      <td>[Paris, NaN, 106 Rue d'Aboukir, Paris, 10 Rue ...</td>\n",
              "      <td>[NaN, 3, 4.5, 3.6, 2.6, 3.8, 3.7, 3.4, 3.4, 4,...</td>\n",
              "      <td>[NaN, 262, 23, 236, 202, 141, 118, 90, 176, 13...</td>\n",
              "      <td>[[lodging, point_of_interest, establishment], ...</td>\n",
              "      <td>[48.85661400000001, NaN, 48.86856479999999, 48...</td>\n",
              "      <td>[2.3522219, NaN, 2.349895800000001, 2.3486459,...</td>\n",
              "    </tr>\n",
              "    <tr>\n",
              "      <th>2</th>\n",
              "      <td>Batignolles-Monceau</td>\n",
              "      <td>[Paris, NaN, Hôtel De Nantes, Art Hôtel Congrè...</td>\n",
              "      <td>[Paris, NaN, 3 Rue Boulay, Paris, 44 Rue Gauth...</td>\n",
              "      <td>[NaN, 2.7, 3.9, 2.6, 4.2, NaN, 3.8, 4.1, 3.3, ...</td>\n",
              "      <td>[NaN, 241, 275, 116, 66, NaN, 96, 23, 41, 368,...</td>\n",
              "      <td>[[lodging, point_of_interest, establishment], ...</td>\n",
              "      <td>[48.85661400000001, NaN, 48.89300189999999, 48...</td>\n",
              "      <td>[2.3522219, NaN, 2.3167206, 2.321625, 2.317733...</td>\n",
              "    </tr>\n",
              "    <tr>\n",
              "      <th>3</th>\n",
              "      <td>Observatoire</td>\n",
              "      <td>[Paris, NaN, Hôtel du Parc Montsouris, ibis bu...</td>\n",
              "      <td>[Paris, NaN, 4 Rue du Parc de Montsouris, Pari...</td>\n",
              "      <td>[NaN, 3.6, 3.6, 3.8, 3.9, 4.4, 4.3, 4.8, 4.5, ...</td>\n",
              "      <td>[NaN, 177, 1244, 298, 360, 2659, 7, 11, 453, 2...</td>\n",
              "      <td>[[lodging, point_of_interest, establishment], ...</td>\n",
              "      <td>[48.85661400000001, NaN, 48.8224155, 48.819484...</td>\n",
              "      <td>[2.3522219, NaN, 2.3345877, 2.3263139, 2.33069...</td>\n",
              "    </tr>\n",
              "    <tr>\n",
              "      <th>4</th>\n",
              "      <td>Ménilmontant</td>\n",
              "      <td>[Paris, NaN, Crêche Sainte Amélie, Bonjour Par...</td>\n",
              "      <td>[Paris, NaN, 7 Rue de Noisy-le-Sec, Paris, 21 ...</td>\n",
              "      <td>[NaN, 5, 5, 4.9, 4, 4.6, 3.4, 5, 2.4, 5, 5, 3....</td>\n",
              "      <td>[NaN, 1, 2, 10, 20, 69, 110, 1, 10, 1, 2, 19, ...</td>\n",
              "      <td>[[point_of_interest, establishment], [lodging,...</td>\n",
              "      <td>[48.85661400000001, NaN, 48.8719349, 48.866505...</td>\n",
              "      <td>[2.3522219, NaN, 2.4114796, 2.4079531, 2.41511...</td>\n",
              "    </tr>\n",
              "  </tbody>\n",
              "</table>\n",
              "</div>"
            ],
            "text/plain": [
              "          Neighborhood  ...                                               long\n",
              "0               Louvre  ...  [2.3522219, NaN, 2.344054, 2.341004799999999, ...\n",
              "1               Bourse  ...  [2.3522219, NaN, 2.349895800000001, 2.3486459,...\n",
              "2  Batignolles-Monceau  ...  [2.3522219, NaN, 2.3167206, 2.321625, 2.317733...\n",
              "3         Observatoire  ...  [2.3522219, NaN, 2.3345877, 2.3263139, 2.33069...\n",
              "4         Ménilmontant  ...  [2.3522219, NaN, 2.4114796, 2.4079531, 2.41511...\n",
              "\n",
              "[5 rows x 8 columns]"
            ]
          },
          "metadata": {
            "tags": []
          },
          "execution_count": 22
        }
      ]
    },
    {
      "cell_type": "code",
      "metadata": {
        "id": "6zEaKSQ9FT2m",
        "colab_type": "code",
        "outputId": "c6522cce-5894-4a05-9549-2f803290d370",
        "colab": {
          "base_uri": "https://localhost:8080/",
          "height": 46
        }
      },
      "source": [
        "new_data[new_data.index.duplicated()]"
      ],
      "execution_count": 0,
      "outputs": [
        {
          "output_type": "execute_result",
          "data": {
            "text/html": [
              "<div>\n",
              "<style scoped>\n",
              "    .dataframe tbody tr th:only-of-type {\n",
              "        vertical-align: middle;\n",
              "    }\n",
              "\n",
              "    .dataframe tbody tr th {\n",
              "        vertical-align: top;\n",
              "    }\n",
              "\n",
              "    .dataframe thead th {\n",
              "        text-align: right;\n",
              "    }\n",
              "</style>\n",
              "<table border=\"1\" class=\"dataframe\">\n",
              "  <thead>\n",
              "    <tr style=\"text-align: right;\">\n",
              "      <th></th>\n",
              "      <th>Neighborhood</th>\n",
              "      <th>name</th>\n",
              "      <th>address</th>\n",
              "      <th>rating</th>\n",
              "      <th>user_ratings_total</th>\n",
              "      <th>types</th>\n",
              "      <th>lat</th>\n",
              "      <th>long</th>\n",
              "    </tr>\n",
              "  </thead>\n",
              "  <tbody>\n",
              "  </tbody>\n",
              "</table>\n",
              "</div>"
            ],
            "text/plain": [
              "Empty DataFrame\n",
              "Columns: [Neighborhood, name, address, rating, user_ratings_total, types, lat, long]\n",
              "Index: []"
            ]
          },
          "metadata": {
            "tags": []
          },
          "execution_count": 23
        }
      ]
    },
    {
      "cell_type": "markdown",
      "metadata": {
        "id": "YLR7zxqTFDnN",
        "colab_type": "text"
      },
      "source": [
        "###### step4 - explode list-like columns by Neighbourhood"
      ]
    },
    {
      "cell_type": "code",
      "metadata": {
        "id": "iUnsngg8BFy4",
        "colab_type": "code",
        "colab": {}
      },
      "source": [
        "# How to explode multiple list-like columns\n",
        "# https://stackoverflow.com/questions/45846765/efficient-way-to-unnest-explode-multiple-list-columns-in-a-pandas-dataframe\n",
        "\n",
        "x = (new_data.set_index('Neighborhood')\n",
        "   .apply(lambda x: x.apply(pd.Series).stack())\n",
        "   .reset_index()\n",
        "   .drop('level_1', 1))"
      ],
      "execution_count": 0,
      "outputs": []
    },
    {
      "cell_type": "code",
      "metadata": {
        "id": "kCB7nefKGP1q",
        "colab_type": "code",
        "outputId": "2ab16f9d-98b6-4972-fba3-ee1d4e74d416",
        "colab": {
          "base_uri": "https://localhost:8080/",
          "height": 847
        }
      },
      "source": [
        "x.sample(20)"
      ],
      "execution_count": 0,
      "outputs": [
        {
          "output_type": "execute_result",
          "data": {
            "text/html": [
              "<div>\n",
              "<style scoped>\n",
              "    .dataframe tbody tr th:only-of-type {\n",
              "        vertical-align: middle;\n",
              "    }\n",
              "\n",
              "    .dataframe tbody tr th {\n",
              "        vertical-align: top;\n",
              "    }\n",
              "\n",
              "    .dataframe thead th {\n",
              "        text-align: right;\n",
              "    }\n",
              "</style>\n",
              "<table border=\"1\" class=\"dataframe\">\n",
              "  <thead>\n",
              "    <tr style=\"text-align: right;\">\n",
              "      <th></th>\n",
              "      <th>Neighborhood</th>\n",
              "      <th>name</th>\n",
              "      <th>address</th>\n",
              "      <th>rating</th>\n",
              "      <th>user_ratings_total</th>\n",
              "      <th>types</th>\n",
              "      <th>lat</th>\n",
              "      <th>long</th>\n",
              "    </tr>\n",
              "  </thead>\n",
              "  <tbody>\n",
              "    <tr>\n",
              "      <th>7004</th>\n",
              "      <td>Northcote</td>\n",
              "      <td>Palmer</td>\n",
              "      <td>125B, 125C Northcote Road, London</td>\n",
              "      <td>4.3</td>\n",
              "      <td>527</td>\n",
              "      <td>[real_estate_agency, finance, general_contract...</td>\n",
              "      <td>51.4563</td>\n",
              "      <td>-0.165187</td>\n",
              "    </tr>\n",
              "    <tr>\n",
              "      <th>5887</th>\n",
              "      <td>Livesey</td>\n",
              "      <td>NaN</td>\n",
              "      <td>NaN</td>\n",
              "      <td>NaN</td>\n",
              "      <td>NaN</td>\n",
              "      <td>NaN</td>\n",
              "      <td>NaN</td>\n",
              "      <td>NaN</td>\n",
              "    </tr>\n",
              "    <tr>\n",
              "      <th>8188</th>\n",
              "      <td>Rego Park</td>\n",
              "      <td>AT&amp;T</td>\n",
              "      <td>96-14 Queens Boulevard, Rego Park</td>\n",
              "      <td>4.3</td>\n",
              "      <td>572</td>\n",
              "      <td>[pharmacy, drugstore, convenience_store, food,...</td>\n",
              "      <td>40.7296</td>\n",
              "      <td>-73.8621</td>\n",
              "    </tr>\n",
              "    <tr>\n",
              "      <th>1018</th>\n",
              "      <td>Bow West</td>\n",
              "      <td>Scootech</td>\n",
              "      <td>425-427 Roman Road, London</td>\n",
              "      <td>3.8</td>\n",
              "      <td>36</td>\n",
              "      <td>[cafe, bakery, restaurant, food, point_of_inte...</td>\n",
              "      <td>51.5318</td>\n",
              "      <td>-0.0361959</td>\n",
              "    </tr>\n",
              "    <tr>\n",
              "      <th>6155</th>\n",
              "      <td>Mariner's Harbor-Arlington-Port Ivory-Granitev...</td>\n",
              "      <td>American Rolling Door Ltd</td>\n",
              "      <td>40 Dolson Place, Staten Island</td>\n",
              "      <td>NaN</td>\n",
              "      <td>NaN</td>\n",
              "      <td>NaN</td>\n",
              "      <td>40.629</td>\n",
              "      <td>-74.1698</td>\n",
              "    </tr>\n",
              "    <tr>\n",
              "      <th>333</th>\n",
              "      <td>Baisley Park</td>\n",
              "      <td>Stealth Productions, LLC</td>\n",
              "      <td>153-28 122nd Avenue, Jamaica</td>\n",
              "      <td>NaN</td>\n",
              "      <td>NaN</td>\n",
              "      <td>NaN</td>\n",
              "      <td>40.677</td>\n",
              "      <td>-73.7874</td>\n",
              "    </tr>\n",
              "    <tr>\n",
              "      <th>1677</th>\n",
              "      <td>Cantelowes</td>\n",
              "      <td>York Way Spacious Apartments</td>\n",
              "      <td>69 York Way, London</td>\n",
              "      <td>4.9</td>\n",
              "      <td>50</td>\n",
              "      <td>[gas_station, point_of_interest, establishment]</td>\n",
              "      <td>51.5448</td>\n",
              "      <td>-0.126479</td>\n",
              "    </tr>\n",
              "    <tr>\n",
              "      <th>8191</th>\n",
              "      <td>Rego Park</td>\n",
              "      <td>Subway</td>\n",
              "      <td>95-58 Queens Boulevard, Queens</td>\n",
              "      <td>4.1</td>\n",
              "      <td>21</td>\n",
              "      <td>[bar, night_club, point_of_interest, establish...</td>\n",
              "      <td>40.73</td>\n",
              "      <td>-73.8629</td>\n",
              "    </tr>\n",
              "    <tr>\n",
              "      <th>419</th>\n",
              "      <td>Batignolles-Monceau</td>\n",
              "      <td>TOTAL</td>\n",
              "      <td>190 Avenue de Clichy, Paris</td>\n",
              "      <td>4.5</td>\n",
              "      <td>54</td>\n",
              "      <td>[bank, atm, finance, point_of_interest, establ...</td>\n",
              "      <td>48.8936</td>\n",
              "      <td>2.31526</td>\n",
              "    </tr>\n",
              "    <tr>\n",
              "      <th>4267</th>\n",
              "      <td>Gravesend</td>\n",
              "      <td>Horizon Christian Fellowship</td>\n",
              "      <td>2585 West 13th Street, Brooklyn</td>\n",
              "      <td>3.5</td>\n",
              "      <td>202</td>\n",
              "      <td>[school, point_of_interest, establishment]</td>\n",
              "      <td>40.5851</td>\n",
              "      <td>-73.9816</td>\n",
              "    </tr>\n",
              "    <tr>\n",
              "      <th>8159</th>\n",
              "      <td>Regent's Park</td>\n",
              "      <td>The Regent's Park</td>\n",
              "      <td>Chester Road, London</td>\n",
              "      <td>4.7</td>\n",
              "      <td>241</td>\n",
              "      <td>[doctor, health, point_of_interest, establishm...</td>\n",
              "      <td>51.5313</td>\n",
              "      <td>-0.156969</td>\n",
              "    </tr>\n",
              "    <tr>\n",
              "      <th>7403</th>\n",
              "      <td>Palace Riverside</td>\n",
              "      <td>Palace Pharmacy</td>\n",
              "      <td>331 Fulham Palace Road, London</td>\n",
              "      <td>4.9</td>\n",
              "      <td>193</td>\n",
              "      <td>[dentist, doctor, health, point_of_interest, e...</td>\n",
              "      <td>51.476</td>\n",
              "      <td>-0.215063</td>\n",
              "    </tr>\n",
              "    <tr>\n",
              "      <th>9666</th>\n",
              "      <td>Sunset Park East</td>\n",
              "      <td>NaN</td>\n",
              "      <td>NaN</td>\n",
              "      <td>NaN</td>\n",
              "      <td>NaN</td>\n",
              "      <td>NaN</td>\n",
              "      <td>NaN</td>\n",
              "      <td>NaN</td>\n",
              "    </tr>\n",
              "    <tr>\n",
              "      <th>5199</th>\n",
              "      <td>Jamaica Estates-Holliswood</td>\n",
              "      <td>NaN</td>\n",
              "      <td>NaN</td>\n",
              "      <td>NaN</td>\n",
              "      <td>NaN</td>\n",
              "      <td>NaN</td>\n",
              "      <td>NaN</td>\n",
              "      <td>NaN</td>\n",
              "    </tr>\n",
              "    <tr>\n",
              "      <th>1439</th>\n",
              "      <td>Buttes-Chaumont</td>\n",
              "      <td>L'Ecuyer Orfèvre Paris</td>\n",
              "      <td>18 Rue Manin, Paris</td>\n",
              "      <td>3.1</td>\n",
              "      <td>188</td>\n",
              "      <td>[lodging, restaurant, food, point_of_interest,...</td>\n",
              "      <td>48.883</td>\n",
              "      <td>2.3871</td>\n",
              "    </tr>\n",
              "    <tr>\n",
              "      <th>11069</th>\n",
              "      <td>Windsor Terrace</td>\n",
              "      <td>Biren Singh Walia, MD</td>\n",
              "      <td>577 Prospect Avenue, Brooklyn</td>\n",
              "      <td>NaN</td>\n",
              "      <td>NaN</td>\n",
              "      <td>NaN</td>\n",
              "      <td>40.657</td>\n",
              "      <td>-73.9782</td>\n",
              "    </tr>\n",
              "    <tr>\n",
              "      <th>522</th>\n",
              "      <td>Bayswater</td>\n",
              "      <td>JoJo Maman Bébé</td>\n",
              "      <td>101 Westbourne Grove, London</td>\n",
              "      <td>NaN</td>\n",
              "      <td>NaN</td>\n",
              "      <td>[restaurant, food, point_of_interest, establis...</td>\n",
              "      <td>51.5152</td>\n",
              "      <td>-0.193236</td>\n",
              "    </tr>\n",
              "    <tr>\n",
              "      <th>7671</th>\n",
              "      <td>Peninsula</td>\n",
              "      <td>B&amp;Q</td>\n",
              "      <td>59 Bugsby's Way, London</td>\n",
              "      <td>2.3</td>\n",
              "      <td>68</td>\n",
              "      <td>[point_of_interest, establishment]</td>\n",
              "      <td>51.4902</td>\n",
              "      <td>0.0137755</td>\n",
              "    </tr>\n",
              "    <tr>\n",
              "      <th>10552</th>\n",
              "      <td>West Brighton</td>\n",
              "      <td>Warbasse Cares for Seniors NORC</td>\n",
              "      <td>2844 Ocean Parkway, Brooklyn</td>\n",
              "      <td>1</td>\n",
              "      <td>2</td>\n",
              "      <td>[health, point_of_interest, establishment]</td>\n",
              "      <td>40.5809</td>\n",
              "      <td>-73.9683</td>\n",
              "    </tr>\n",
              "    <tr>\n",
              "      <th>9801</th>\n",
              "      <td>Tachbrook</td>\n",
              "      <td>NaN</td>\n",
              "      <td>NaN</td>\n",
              "      <td>NaN</td>\n",
              "      <td>NaN</td>\n",
              "      <td>NaN</td>\n",
              "      <td>NaN</td>\n",
              "      <td>NaN</td>\n",
              "    </tr>\n",
              "  </tbody>\n",
              "</table>\n",
              "</div>"
            ],
            "text/plain": [
              "                                            Neighborhood  ...       long\n",
              "7004                                           Northcote  ...  -0.165187\n",
              "5887                                             Livesey  ...        NaN\n",
              "8188                                           Rego Park  ...   -73.8621\n",
              "1018                                            Bow West  ... -0.0361959\n",
              "6155   Mariner's Harbor-Arlington-Port Ivory-Granitev...  ...   -74.1698\n",
              "333                                         Baisley Park  ...   -73.7874\n",
              "1677                                          Cantelowes  ...  -0.126479\n",
              "8191                                           Rego Park  ...   -73.8629\n",
              "419                                  Batignolles-Monceau  ...    2.31526\n",
              "4267                                           Gravesend  ...   -73.9816\n",
              "8159                                       Regent's Park  ...  -0.156969\n",
              "7403                                    Palace Riverside  ...  -0.215063\n",
              "9666                                    Sunset Park East  ...        NaN\n",
              "5199                          Jamaica Estates-Holliswood  ...        NaN\n",
              "1439                                     Buttes-Chaumont  ...     2.3871\n",
              "11069                                    Windsor Terrace  ...   -73.9782\n",
              "522                                            Bayswater  ...  -0.193236\n",
              "7671                                           Peninsula  ...  0.0137755\n",
              "10552                                      West Brighton  ...   -73.9683\n",
              "9801                                           Tachbrook  ...        NaN\n",
              "\n",
              "[20 rows x 8 columns]"
            ]
          },
          "metadata": {
            "tags": []
          },
          "execution_count": 25
        }
      ]
    },
    {
      "cell_type": "code",
      "metadata": {
        "id": "Tq79DLu821gZ",
        "colab_type": "code",
        "outputId": "3127fe80-7547-42d8-d198-66a61cb8aab3",
        "colab": {
          "base_uri": "https://localhost:8080/",
          "height": 33
        }
      },
      "source": [
        "x.shape"
      ],
      "execution_count": 0,
      "outputs": [
        {
          "output_type": "execute_result",
          "data": {
            "text/plain": [
              "(11411, 8)"
            ]
          },
          "metadata": {
            "tags": []
          },
          "execution_count": 28
        }
      ]
    },
    {
      "cell_type": "markdown",
      "metadata": {
        "id": "D1oCxv7XFYIe",
        "colab_type": "text"
      },
      "source": [
        "###### step5 - clean data and push to GCP"
      ]
    },
    {
      "cell_type": "code",
      "metadata": {
        "id": "ReZkIsle2mE2",
        "colab_type": "code",
        "outputId": "16b46a6d-e465-485d-cc4e-4e3a7bb5bb50",
        "colab": {
          "base_uri": "https://localhost:8080/",
          "height": 33
        }
      },
      "source": [
        "x.lat.isna().sum()"
      ],
      "execution_count": 0,
      "outputs": [
        {
          "output_type": "execute_result",
          "data": {
            "text/plain": [
              "159"
            ]
          },
          "metadata": {
            "tags": []
          },
          "execution_count": 31
        }
      ]
    },
    {
      "cell_type": "code",
      "metadata": {
        "id": "9-UKPoAv2l_w",
        "colab_type": "code",
        "colab": {}
      },
      "source": [
        "#remove data when latitude is NaN\n",
        "x = x[x.lat !='NaN']"
      ],
      "execution_count": 0,
      "outputs": []
    },
    {
      "cell_type": "code",
      "metadata": {
        "id": "YclNUhPC2l8a",
        "colab_type": "code",
        "outputId": "c549c179-ac44-4af5-c51b-2cf9c53a43d8",
        "colab": {
          "base_uri": "https://localhost:8080/",
          "height": 847
        }
      },
      "source": [
        "x.sample(20)"
      ],
      "execution_count": 0,
      "outputs": [
        {
          "output_type": "execute_result",
          "data": {
            "text/html": [
              "<div>\n",
              "<style scoped>\n",
              "    .dataframe tbody tr th:only-of-type {\n",
              "        vertical-align: middle;\n",
              "    }\n",
              "\n",
              "    .dataframe tbody tr th {\n",
              "        vertical-align: top;\n",
              "    }\n",
              "\n",
              "    .dataframe thead th {\n",
              "        text-align: right;\n",
              "    }\n",
              "</style>\n",
              "<table border=\"1\" class=\"dataframe\">\n",
              "  <thead>\n",
              "    <tr style=\"text-align: right;\">\n",
              "      <th></th>\n",
              "      <th>Neighborhood</th>\n",
              "      <th>name</th>\n",
              "      <th>address</th>\n",
              "      <th>rating</th>\n",
              "      <th>user_ratings_total</th>\n",
              "      <th>types</th>\n",
              "      <th>lat</th>\n",
              "      <th>long</th>\n",
              "    </tr>\n",
              "  </thead>\n",
              "  <tbody>\n",
              "    <tr>\n",
              "      <th>10363</th>\n",
              "      <td>Village</td>\n",
              "      <td>Dulwich Vintners</td>\n",
              "      <td>85-87 Dulwich Village, London</td>\n",
              "      <td>NaN</td>\n",
              "      <td>NaN</td>\n",
              "      <td>[health, point_of_interest, establishment]</td>\n",
              "      <td>51.4491</td>\n",
              "      <td>-0.085066</td>\n",
              "    </tr>\n",
              "    <tr>\n",
              "      <th>4966</th>\n",
              "      <td>Homecrest</td>\n",
              "      <td>Ezphonerepairs of brooklyn , ny</td>\n",
              "      <td>2020 East 7th Street, Brooklyn</td>\n",
              "      <td>NaN</td>\n",
              "      <td>NaN</td>\n",
              "      <td>NaN</td>\n",
              "      <td>40.6013</td>\n",
              "      <td>-73.965</td>\n",
              "    </tr>\n",
              "    <tr>\n",
              "      <th>1126</th>\n",
              "      <td>Brockley</td>\n",
              "      <td>Saxophone tutor</td>\n",
              "      <td>21 Wickham Road, London</td>\n",
              "      <td>NaN</td>\n",
              "      <td>NaN</td>\n",
              "      <td>[park, point_of_interest, establishment]</td>\n",
              "      <td>51.4677</td>\n",
              "      <td>-0.0291841</td>\n",
              "    </tr>\n",
              "    <tr>\n",
              "      <th>10722</th>\n",
              "      <td>West New Brighton-New Brighton-St. George</td>\n",
              "      <td>Dr. Vittorio E. Rotella Jr, MD</td>\n",
              "      <td>355 Bard Avenue, Staten Island</td>\n",
              "      <td>NaN</td>\n",
              "      <td>NaN</td>\n",
              "      <td>NaN</td>\n",
              "      <td>40.6357</td>\n",
              "      <td>-74.106</td>\n",
              "    </tr>\n",
              "    <tr>\n",
              "      <th>213</th>\n",
              "      <td>Askew</td>\n",
              "      <td>Sufi Restaurant</td>\n",
              "      <td>70 Askew Road, London</td>\n",
              "      <td>4.2</td>\n",
              "      <td>21</td>\n",
              "      <td>[library, point_of_interest, establishment]</td>\n",
              "      <td>51.5041</td>\n",
              "      <td>-0.243725</td>\n",
              "    </tr>\n",
              "    <tr>\n",
              "      <th>10084</th>\n",
              "      <td>Town</td>\n",
              "      <td>National Federation Of Womens Institutes</td>\n",
              "      <td>104 New King's Road, London</td>\n",
              "      <td>4.6</td>\n",
              "      <td>26</td>\n",
              "      <td>[point_of_interest, establishment]</td>\n",
              "      <td>51.4723</td>\n",
              "      <td>-0.204246</td>\n",
              "    </tr>\n",
              "    <tr>\n",
              "      <th>10069</th>\n",
              "      <td>Town</td>\n",
              "      <td>London</td>\n",
              "      <td>London</td>\n",
              "      <td>NaN</td>\n",
              "      <td>NaN</td>\n",
              "      <td>[point_of_interest, clothing_store, store, est...</td>\n",
              "      <td>51.5074</td>\n",
              "      <td>-0.127758</td>\n",
              "    </tr>\n",
              "    <tr>\n",
              "      <th>9505</th>\n",
              "      <td>Streatham Hill</td>\n",
              "      <td>London</td>\n",
              "      <td>London</td>\n",
              "      <td>NaN</td>\n",
              "      <td>NaN</td>\n",
              "      <td>[point_of_interest, establishment]</td>\n",
              "      <td>51.5074</td>\n",
              "      <td>-0.127758</td>\n",
              "    </tr>\n",
              "    <tr>\n",
              "      <th>1680</th>\n",
              "      <td>Cantelowes</td>\n",
              "      <td>Ben Nevis Clothing</td>\n",
              "      <td>237 Royal College Street, London</td>\n",
              "      <td>3.9</td>\n",
              "      <td>212</td>\n",
              "      <td>NaN</td>\n",
              "      <td>51.5424</td>\n",
              "      <td>-0.139097</td>\n",
              "    </tr>\n",
              "    <tr>\n",
              "      <th>6191</th>\n",
              "      <td>Maspeth</td>\n",
              "      <td>Mount Olivet Cemetery</td>\n",
              "      <td>6540 Grand Avenue, Maspeth</td>\n",
              "      <td>4.2</td>\n",
              "      <td>13</td>\n",
              "      <td>[point_of_interest, establishment]</td>\n",
              "      <td>40.723</td>\n",
              "      <td>-73.8993</td>\n",
              "    </tr>\n",
              "    <tr>\n",
              "      <th>11053</th>\n",
              "      <td>Williamsburg</td>\n",
              "      <td>Brooklyn</td>\n",
              "      <td>Brooklyn</td>\n",
              "      <td>NaN</td>\n",
              "      <td>NaN</td>\n",
              "      <td>NaN</td>\n",
              "      <td>40.6782</td>\n",
              "      <td>-73.9442</td>\n",
              "    </tr>\n",
              "    <tr>\n",
              "      <th>3880</th>\n",
              "      <td>Fulham Broadway</td>\n",
              "      <td>NHS Dentist</td>\n",
              "      <td>355 North End Road, London</td>\n",
              "      <td>3.4</td>\n",
              "      <td>13</td>\n",
              "      <td>[cafe, food, point_of_interest, store, establi...</td>\n",
              "      <td>51.4843</td>\n",
              "      <td>-0.20145</td>\n",
              "    </tr>\n",
              "    <tr>\n",
              "      <th>5233</th>\n",
              "      <td>Kensington-Ocean Parkway</td>\n",
              "      <td>New York Medical Associates</td>\n",
              "      <td>635 East 3rd Street, Brooklyn</td>\n",
              "      <td>3.9</td>\n",
              "      <td>52</td>\n",
              "      <td>[dentist, health, point_of_interest, establish...</td>\n",
              "      <td>40.6366</td>\n",
              "      <td>-73.9761</td>\n",
              "    </tr>\n",
              "    <tr>\n",
              "      <th>1891</th>\n",
              "      <td>Charlton</td>\n",
              "      <td>Yellow Gloves Cleaners</td>\n",
              "      <td>14 The Village, London</td>\n",
              "      <td>NaN</td>\n",
              "      <td>NaN</td>\n",
              "      <td>NaN</td>\n",
              "      <td>51.4818</td>\n",
              "      <td>0.0370204</td>\n",
              "    </tr>\n",
              "    <tr>\n",
              "      <th>6172</th>\n",
              "      <td>Marylebone High Street</td>\n",
              "      <td>Blandford Hotel</td>\n",
              "      <td>80 Chiltern Street, London</td>\n",
              "      <td>4.2</td>\n",
              "      <td>124</td>\n",
              "      <td>[lodging, point_of_interest, establishment]</td>\n",
              "      <td>51.5212</td>\n",
              "      <td>-0.15586</td>\n",
              "    </tr>\n",
              "    <tr>\n",
              "      <th>7736</th>\n",
              "      <td>Plumstead</td>\n",
              "      <td>Smith News</td>\n",
              "      <td>264 Plumstead High Street, London</td>\n",
              "      <td>4</td>\n",
              "      <td>1</td>\n",
              "      <td>NaN</td>\n",
              "      <td>51.4859</td>\n",
              "      <td>0.0984713</td>\n",
              "    </tr>\n",
              "    <tr>\n",
              "      <th>9054</th>\n",
              "      <td>Spuyten Duyvil-Kingsbridge</td>\n",
              "      <td>Liebman’s Deli</td>\n",
              "      <td>552 West 235th Street, The Bronx</td>\n",
              "      <td>5</td>\n",
              "      <td>100</td>\n",
              "      <td>[doctor, health, point_of_interest, establishm...</td>\n",
              "      <td>40.8855</td>\n",
              "      <td>-73.9096</td>\n",
              "    </tr>\n",
              "    <tr>\n",
              "      <th>10393</th>\n",
              "      <td>Vincent Square</td>\n",
              "      <td>Luxury Apartments in Westminster</td>\n",
              "      <td>Monck Street, London</td>\n",
              "      <td>3.9</td>\n",
              "      <td>451</td>\n",
              "      <td>[point_of_interest, establishment]</td>\n",
              "      <td>51.4959</td>\n",
              "      <td>-0.130781</td>\n",
              "    </tr>\n",
              "    <tr>\n",
              "      <th>8255</th>\n",
              "      <td>Richmond Hill</td>\n",
              "      <td>Bagh Deli Grocery</td>\n",
              "      <td>11822 Atlantic Avenue, Jamaica</td>\n",
              "      <td>NaN</td>\n",
              "      <td>NaN</td>\n",
              "      <td>[point_of_interest, store, establishment]</td>\n",
              "      <td>40.6939</td>\n",
              "      <td>-73.8281</td>\n",
              "    </tr>\n",
              "    <tr>\n",
              "      <th>3397</th>\n",
              "      <td>Erasmus</td>\n",
              "      <td>Dr. Marie F. Conde, MD</td>\n",
              "      <td>391 Linden Boulevard, Brooklyn</td>\n",
              "      <td>2</td>\n",
              "      <td>4</td>\n",
              "      <td>NaN</td>\n",
              "      <td>40.6471</td>\n",
              "      <td>-73.9536</td>\n",
              "    </tr>\n",
              "  </tbody>\n",
              "</table>\n",
              "</div>"
            ],
            "text/plain": [
              "                                    Neighborhood  ...       long\n",
              "10363                                    Village  ...  -0.085066\n",
              "4966                                   Homecrest  ...    -73.965\n",
              "1126                                    Brockley  ... -0.0291841\n",
              "10722  West New Brighton-New Brighton-St. George  ...    -74.106\n",
              "213                                        Askew  ...  -0.243725\n",
              "10084                                       Town  ...  -0.204246\n",
              "10069                                       Town  ...  -0.127758\n",
              "9505                              Streatham Hill  ...  -0.127758\n",
              "1680                                  Cantelowes  ...  -0.139097\n",
              "6191                                     Maspeth  ...   -73.8993\n",
              "11053                               Williamsburg  ...   -73.9442\n",
              "3880                             Fulham Broadway  ...   -0.20145\n",
              "5233                    Kensington-Ocean Parkway  ...   -73.9761\n",
              "1891                                    Charlton  ...  0.0370204\n",
              "6172                      Marylebone High Street  ...   -0.15586\n",
              "7736                                   Plumstead  ...  0.0984713\n",
              "9054                  Spuyten Duyvil-Kingsbridge  ...   -73.9096\n",
              "10393                             Vincent Square  ...  -0.130781\n",
              "8255                               Richmond Hill  ...   -73.8281\n",
              "3397                                     Erasmus  ...   -73.9536\n",
              "\n",
              "[20 rows x 8 columns]"
            ]
          },
          "metadata": {
            "tags": []
          },
          "execution_count": 42
        }
      ]
    },
    {
      "cell_type": "code",
      "metadata": {
        "id": "r9sS_OkP7ePx",
        "colab_type": "code",
        "outputId": "3b365056-6730-4de0-a3d7-0a6bcbc710df",
        "colab": {
          "base_uri": "https://localhost:8080/",
          "height": 189
        }
      },
      "source": [
        "data.head()"
      ],
      "execution_count": 0,
      "outputs": [
        {
          "output_type": "execute_result",
          "data": {
            "text/html": [
              "<div>\n",
              "<style scoped>\n",
              "    .dataframe tbody tr th:only-of-type {\n",
              "        vertical-align: middle;\n",
              "    }\n",
              "\n",
              "    .dataframe tbody tr th {\n",
              "        vertical-align: top;\n",
              "    }\n",
              "\n",
              "    .dataframe thead th {\n",
              "        text-align: right;\n",
              "    }\n",
              "</style>\n",
              "<table border=\"1\" class=\"dataframe\">\n",
              "  <thead>\n",
              "    <tr style=\"text-align: right;\">\n",
              "      <th></th>\n",
              "      <th>Borough</th>\n",
              "      <th>Neighborhood</th>\n",
              "      <th>geometry</th>\n",
              "      <th>Longitude</th>\n",
              "      <th>Latitude</th>\n",
              "      <th>city</th>\n",
              "      <th>API_response</th>\n",
              "    </tr>\n",
              "  </thead>\n",
              "  <tbody>\n",
              "    <tr>\n",
              "      <th>0</th>\n",
              "      <td>1er Ardt</td>\n",
              "      <td>Louvre</td>\n",
              "      <td>POLYGON ((2.328007329038849 48.86991742140716,...</td>\n",
              "      <td>2.339</td>\n",
              "      <td>48.861</td>\n",
              "      <td>Paris</td>\n",
              "      <td>{'html_attributions': [], 'next_page_token': '...</td>\n",
              "    </tr>\n",
              "    <tr>\n",
              "      <th>1</th>\n",
              "      <td>1er Ardt</td>\n",
              "      <td>Louvre</td>\n",
              "      <td>POLYGON ((2.328007329038849 48.86991742140716,...</td>\n",
              "      <td>2.338</td>\n",
              "      <td>48.862</td>\n",
              "      <td>Paris</td>\n",
              "      <td>{'html_attributions': [], 'next_page_token': '...</td>\n",
              "    </tr>\n",
              "    <tr>\n",
              "      <th>2</th>\n",
              "      <td>1er Ardt</td>\n",
              "      <td>Louvre</td>\n",
              "      <td>POLYGON ((2.328007329038849 48.86991742140716,...</td>\n",
              "      <td>2.342</td>\n",
              "      <td>48.858</td>\n",
              "      <td>Paris</td>\n",
              "      <td>{'html_attributions': [], 'next_page_token': '...</td>\n",
              "    </tr>\n",
              "    <tr>\n",
              "      <th>3</th>\n",
              "      <td>1er Ardt</td>\n",
              "      <td>Louvre</td>\n",
              "      <td>POLYGON ((2.328007329038849 48.86991742140716,...</td>\n",
              "      <td>2.340</td>\n",
              "      <td>48.859</td>\n",
              "      <td>Paris</td>\n",
              "      <td>{'html_attributions': [], 'next_page_token': '...</td>\n",
              "    </tr>\n",
              "    <tr>\n",
              "      <th>4</th>\n",
              "      <td>1er Ardt</td>\n",
              "      <td>Louvre</td>\n",
              "      <td>POLYGON ((2.328007329038849 48.86991742140716,...</td>\n",
              "      <td>2.333</td>\n",
              "      <td>48.864</td>\n",
              "      <td>Paris</td>\n",
              "      <td>{'html_attributions': [], 'next_page_token': '...</td>\n",
              "    </tr>\n",
              "  </tbody>\n",
              "</table>\n",
              "</div>"
            ],
            "text/plain": [
              "    Borough  ...                                       API_response\n",
              "0  1er Ardt  ...  {'html_attributions': [], 'next_page_token': '...\n",
              "1  1er Ardt  ...  {'html_attributions': [], 'next_page_token': '...\n",
              "2  1er Ardt  ...  {'html_attributions': [], 'next_page_token': '...\n",
              "3  1er Ardt  ...  {'html_attributions': [], 'next_page_token': '...\n",
              "4  1er Ardt  ...  {'html_attributions': [], 'next_page_token': '...\n",
              "\n",
              "[5 rows x 7 columns]"
            ]
          },
          "metadata": {
            "tags": []
          },
          "execution_count": 46
        }
      ]
    },
    {
      "cell_type": "code",
      "metadata": {
        "id": "NyUnWr5T7e9U",
        "colab_type": "code",
        "colab": {}
      },
      "source": [
        "city_data = data.loc[:, ['Neighborhood', 'city']].merge(x, on='Neighborhood', how='inner')"
      ],
      "execution_count": 0,
      "outputs": []
    },
    {
      "cell_type": "code",
      "metadata": {
        "id": "QiKGPOIw7e51",
        "colab_type": "code",
        "outputId": "2f1f8c9a-3d1e-4d0f-eda6-659ae846518f",
        "colab": {
          "base_uri": "https://localhost:8080/",
          "height": 33
        }
      },
      "source": [
        "print(city_data.shape, x.shape)"
      ],
      "execution_count": 0,
      "outputs": [
        {
          "output_type": "stream",
          "text": [
            "(10092, 9) (8454, 8)\n"
          ],
          "name": "stdout"
        }
      ]
    },
    {
      "cell_type": "code",
      "metadata": {
        "id": "HpaYVXRO9YyN",
        "colab_type": "code",
        "outputId": "7ba928c7-3840-4b44-ed9a-84baeab675c8",
        "colab": {
          "base_uri": "https://localhost:8080/",
          "height": 271
        }
      },
      "source": [
        "city_data.head()"
      ],
      "execution_count": 0,
      "outputs": [
        {
          "output_type": "execute_result",
          "data": {
            "text/html": [
              "<div>\n",
              "<style scoped>\n",
              "    .dataframe tbody tr th:only-of-type {\n",
              "        vertical-align: middle;\n",
              "    }\n",
              "\n",
              "    .dataframe tbody tr th {\n",
              "        vertical-align: top;\n",
              "    }\n",
              "\n",
              "    .dataframe thead th {\n",
              "        text-align: right;\n",
              "    }\n",
              "</style>\n",
              "<table border=\"1\" class=\"dataframe\">\n",
              "  <thead>\n",
              "    <tr style=\"text-align: right;\">\n",
              "      <th></th>\n",
              "      <th>Neighborhood</th>\n",
              "      <th>city</th>\n",
              "      <th>name</th>\n",
              "      <th>address</th>\n",
              "      <th>rating</th>\n",
              "      <th>user_ratings_total</th>\n",
              "      <th>types</th>\n",
              "      <th>lat</th>\n",
              "      <th>long</th>\n",
              "    </tr>\n",
              "  </thead>\n",
              "  <tbody>\n",
              "    <tr>\n",
              "      <th>0</th>\n",
              "      <td>Louvre</td>\n",
              "      <td>Paris</td>\n",
              "      <td>Paris</td>\n",
              "      <td>Paris</td>\n",
              "      <td>NaN</td>\n",
              "      <td>NaN</td>\n",
              "      <td>[lodging, point_of_interest, establishment]</td>\n",
              "      <td>48.8566</td>\n",
              "      <td>2.35222</td>\n",
              "    </tr>\n",
              "    <tr>\n",
              "      <th>1</th>\n",
              "      <td>Louvre</td>\n",
              "      <td>Paris</td>\n",
              "      <td>Hôtel Ducs de Bourgogne</td>\n",
              "      <td>19 Rue du Pont Neuf, Paris</td>\n",
              "      <td>4.6</td>\n",
              "      <td>104</td>\n",
              "      <td>[lodging, point_of_interest, establishment]</td>\n",
              "      <td>48.8603</td>\n",
              "      <td>2.34405</td>\n",
              "    </tr>\n",
              "    <tr>\n",
              "      <th>2</th>\n",
              "      <td>Louvre</td>\n",
              "      <td>Paris</td>\n",
              "      <td>Hotel Relais Du Louvre</td>\n",
              "      <td>19 Rue des Prêtres Saint-Germain l'Auxerrois, ...</td>\n",
              "      <td>4.2</td>\n",
              "      <td>329</td>\n",
              "      <td>[lodging, point_of_interest, establishment]</td>\n",
              "      <td>48.8592</td>\n",
              "      <td>2.341</td>\n",
              "    </tr>\n",
              "    <tr>\n",
              "      <th>3</th>\n",
              "      <td>Louvre</td>\n",
              "      <td>Paris</td>\n",
              "      <td>L'Empire Paris</td>\n",
              "      <td>48 Rue de l'Arbre Sec, Paris</td>\n",
              "      <td>4.5</td>\n",
              "      <td>111</td>\n",
              "      <td>[lodging, point_of_interest, establishment]</td>\n",
              "      <td>48.8607</td>\n",
              "      <td>2.34258</td>\n",
              "    </tr>\n",
              "    <tr>\n",
              "      <th>4</th>\n",
              "      <td>Louvre</td>\n",
              "      <td>Paris</td>\n",
              "      <td>Hôtel 3 étoiles de la Place du Louvre Paris 1e...</td>\n",
              "      <td>21 Rue des Prêtres Saint-Germain l'Auxerrois, ...</td>\n",
              "      <td>4</td>\n",
              "      <td>233</td>\n",
              "      <td>[lodging, point_of_interest, establishment]</td>\n",
              "      <td>48.8592</td>\n",
              "      <td>2.3409</td>\n",
              "    </tr>\n",
              "  </tbody>\n",
              "</table>\n",
              "</div>"
            ],
            "text/plain": [
              "  Neighborhood   city  ...      lat     long\n",
              "0       Louvre  Paris  ...  48.8566  2.35222\n",
              "1       Louvre  Paris  ...  48.8603  2.34405\n",
              "2       Louvre  Paris  ...  48.8592    2.341\n",
              "3       Louvre  Paris  ...  48.8607  2.34258\n",
              "4       Louvre  Paris  ...  48.8592   2.3409\n",
              "\n",
              "[5 rows x 9 columns]"
            ]
          },
          "metadata": {
            "tags": []
          },
          "execution_count": 50
        }
      ]
    },
    {
      "cell_type": "code",
      "metadata": {
        "id": "Cv4QeXFM9YtF",
        "colab_type": "code",
        "outputId": "d7068a89-21b2-4669-f303-9eb07e14b4e2",
        "colab": {
          "base_uri": "https://localhost:8080/",
          "height": 33
        }
      },
      "source": [
        "city_data.drop_duplicates(subset=['Neighborhood', 'city', 'name'], inplace=True)\n",
        "\n",
        "print(city_data.shape)"
      ],
      "execution_count": 0,
      "outputs": [
        {
          "output_type": "stream",
          "text": [
            "(8456, 9)\n"
          ],
          "name": "stdout"
        }
      ]
    },
    {
      "cell_type": "code",
      "metadata": {
        "id": "EIU9RFhy68ZL",
        "colab_type": "code",
        "outputId": "997c54e9-8d28-4e4c-a671-663fc73bf517",
        "colab": {
          "base_uri": "https://localhost:8080/",
          "height": 66
        }
      },
      "source": [
        "# save the data into google bucket!\n",
        "city_data.to_csv('new.csv')\n",
        "!gsutil cp  'new.csv' gs://public-data-data_viz-2/"
      ],
      "execution_count": 0,
      "outputs": [
        {
          "output_type": "stream",
          "text": [
            "Copying file://fw19_placesapi_reponse_clean.csv [Content-Type=text/csv]...\n",
            "/ [1 files][  1.2 MiB/  1.2 MiB]                                                \n",
            "Operation completed over 1 objects/1.2 MiB.                                      \n"
          ],
          "name": "stdout"
        }
      ]
    }
  ]
}