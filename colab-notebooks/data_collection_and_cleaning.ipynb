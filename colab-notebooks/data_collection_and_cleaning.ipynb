{
  "nbformat": 4,
  "nbformat_minor": 0,
  "metadata": {
    "colab": {
      "name": "data_collection_and_cleaning.ipynb",
      "provenance": [],
      "collapsed_sections": [],
      "include_colab_link": true
    },
    "kernelspec": {
      "name": "python3",
      "display_name": "Python 3",
      "language": "python"
    }
  },
  "cells": [
    {
      "cell_type": "markdown",
      "metadata": {
        "id": "view-in-github",
        "colab_type": "text"
      },
      "source": [
        "<a href=\"https://colab.research.google.com/github/vishalkumarlondon/data-viz-coursework-group-2/blob/master/data_collection_and_cleaning.ipynb\" target=\"_parent\"><img src=\"https://colab.research.google.com/assets/colab-badge.svg\" alt=\"Open In Colab\"/></a>"
      ]
    },
    {
      "cell_type": "code",
      "metadata": {
        "id": "xz32eAgujlVR",
        "colab_type": "code",
        "outputId": "a6fd453f-d8ae-415b-840f-9ac05e9e27b1",
        "trusted": true,
        "colab": {
          "base_uri": "https://localhost:8080/",
          "height": 198
        }
      },
      "source": [
        "!wget https://storage.googleapis.com/public-data-data_viz-2/fashionweeks-2019-instagram-geospatial-clean.csv"
      ],
      "execution_count": 1,
      "outputs": [
        {
          "output_type": "stream",
          "text": [
            "--2020-04-09 13:57:56--  https://storage.googleapis.com/public-data-data_viz-2/fashionweeks-2019-instagram-geospatial-clean.csv\n",
            "Resolving storage.googleapis.com (storage.googleapis.com)... 173.194.217.128, 2607:f8b0:400c:c07::80\n",
            "Connecting to storage.googleapis.com (storage.googleapis.com)|173.194.217.128|:443... connected.\n",
            "HTTP request sent, awaiting response... 200 OK\n",
            "Length: 3254549 (3.1M) [text/csv]\n",
            "Saving to: ‘fashionweeks-2019-instagram-geospatial-clean.csv’\n",
            "\n",
            "\r          fashionwe   0%[                    ]       0  --.-KB/s               \rfashionweeks-2019-i 100%[===================>]   3.10M  --.-KB/s    in 0.02s   \n",
            "\n",
            "2020-04-09 13:57:57 (204 MB/s) - ‘fashionweeks-2019-instagram-geospatial-clean.csv’ saved [3254549/3254549]\n",
            "\n"
          ],
          "name": "stdout"
        }
      ]
    },
    {
      "cell_type": "code",
      "metadata": {
        "id": "G09hAXm5ln_-",
        "colab_type": "code",
        "outputId": "98f582ed-382a-431b-ccc0-2565f13e4f48",
        "trusted": true,
        "colab": {
          "base_uri": "https://localhost:8080/",
          "height": 33
        }
      },
      "source": [
        "import pandas as pd\n",
        "\n",
        "fashion_weeks_19 = pd.read_csv('fashionweeks-2019-instagram-geospatial-clean.csv')\n",
        "print(fashion_weeks_19.shape)"
      ],
      "execution_count": 2,
      "outputs": [
        {
          "output_type": "stream",
          "text": [
            "(22752, 16)\n"
          ],
          "name": "stdout"
        }
      ]
    },
    {
      "cell_type": "code",
      "metadata": {
        "id": "zgtEu_ejlzMX",
        "colab_type": "code",
        "outputId": "b2bef111-3573-4abd-db27-70d34fa4a6a7",
        "trusted": true,
        "colab": {
          "base_uri": "https://localhost:8080/",
          "height": 271
        }
      },
      "source": [
        "#show the fashion week 2019 dataframe\n",
        "fashion_weeks_19.head()"
      ],
      "execution_count": 3,
      "outputs": [
        {
          "output_type": "execute_result",
          "data": {
            "text/html": [
              "<div>\n",
              "<style scoped>\n",
              "    .dataframe tbody tr th:only-of-type {\n",
              "        vertical-align: middle;\n",
              "    }\n",
              "\n",
              "    .dataframe tbody tr th {\n",
              "        vertical-align: top;\n",
              "    }\n",
              "\n",
              "    .dataframe thead th {\n",
              "        text-align: right;\n",
              "    }\n",
              "</style>\n",
              "<table border=\"1\" class=\"dataframe\">\n",
              "  <thead>\n",
              "    <tr style=\"text-align: right;\">\n",
              "      <th></th>\n",
              "      <th>date</th>\n",
              "      <th>time</th>\n",
              "      <th>year</th>\n",
              "      <th>month</th>\n",
              "      <th>day</th>\n",
              "      <th>hour</th>\n",
              "      <th>minute</th>\n",
              "      <th>second</th>\n",
              "      <th>from_user</th>\n",
              "      <th>filename</th>\n",
              "      <th>compound_sentiment</th>\n",
              "      <th>city_name</th>\n",
              "      <th>zipcode</th>\n",
              "      <th>streetaddress</th>\n",
              "      <th>latitude</th>\n",
              "      <th>longitude</th>\n",
              "    </tr>\n",
              "  </thead>\n",
              "  <tbody>\n",
              "    <tr>\n",
              "      <th>0</th>\n",
              "      <td>2019-09-16</td>\n",
              "      <td>2019-09-16 13:39:38</td>\n",
              "      <td>2019</td>\n",
              "      <td>9</td>\n",
              "      <td>16</td>\n",
              "      <td>13</td>\n",
              "      <td>39</td>\n",
              "      <td>38</td>\n",
              "      <td>3074052310</td>\n",
              "      <td>nyfw2019</td>\n",
              "      <td>0.0000</td>\n",
              "      <td>New York, New York</td>\n",
              "      <td>11201</td>\n",
              "      <td>60 Furman St</td>\n",
              "      <td>40.702285</td>\n",
              "      <td>-73.995583</td>\n",
              "    </tr>\n",
              "    <tr>\n",
              "      <th>1</th>\n",
              "      <td>2019-01-06</td>\n",
              "      <td>2019-01-06 18:12:42</td>\n",
              "      <td>2019</td>\n",
              "      <td>1</td>\n",
              "      <td>6</td>\n",
              "      <td>18</td>\n",
              "      <td>12</td>\n",
              "      <td>42</td>\n",
              "      <td>4351091948</td>\n",
              "      <td>nyfw2019</td>\n",
              "      <td>0.2732</td>\n",
              "      <td>New York, New York</td>\n",
              "      <td>10001</td>\n",
              "      <td>401 7th  33rd St</td>\n",
              "      <td>40.749904</td>\n",
              "      <td>-73.991040</td>\n",
              "    </tr>\n",
              "    <tr>\n",
              "      <th>2</th>\n",
              "      <td>2019-09-05</td>\n",
              "      <td>2019-09-05 15:40:45</td>\n",
              "      <td>2019</td>\n",
              "      <td>9</td>\n",
              "      <td>5</td>\n",
              "      <td>15</td>\n",
              "      <td>40</td>\n",
              "      <td>45</td>\n",
              "      <td>1389389979</td>\n",
              "      <td>nyfw2019</td>\n",
              "      <td>0.0000</td>\n",
              "      <td>New York, New York</td>\n",
              "      <td>10013</td>\n",
              "      <td>Spring Studios</td>\n",
              "      <td>40.720873</td>\n",
              "      <td>-74.006004</td>\n",
              "    </tr>\n",
              "    <tr>\n",
              "      <th>3</th>\n",
              "      <td>2019-12-31</td>\n",
              "      <td>2019-12-31 12:56:12</td>\n",
              "      <td>2019</td>\n",
              "      <td>12</td>\n",
              "      <td>31</td>\n",
              "      <td>12</td>\n",
              "      <td>56</td>\n",
              "      <td>12</td>\n",
              "      <td>11041582436</td>\n",
              "      <td>nyfw2019</td>\n",
              "      <td>0.0000</td>\n",
              "      <td>New York, New York</td>\n",
              "      <td>10013</td>\n",
              "      <td>Spring Studios</td>\n",
              "      <td>40.720873</td>\n",
              "      <td>-74.006004</td>\n",
              "    </tr>\n",
              "    <tr>\n",
              "      <th>4</th>\n",
              "      <td>2019-12-31</td>\n",
              "      <td>2019-12-31 03:37:39</td>\n",
              "      <td>2019</td>\n",
              "      <td>12</td>\n",
              "      <td>31</td>\n",
              "      <td>3</td>\n",
              "      <td>37</td>\n",
              "      <td>39</td>\n",
              "      <td>13338516028</td>\n",
              "      <td>nyfw2019</td>\n",
              "      <td>0.0000</td>\n",
              "      <td>New York, New York</td>\n",
              "      <td>10013</td>\n",
              "      <td>6 St Johns Lane</td>\n",
              "      <td>40.720839</td>\n",
              "      <td>-74.005973</td>\n",
              "    </tr>\n",
              "  </tbody>\n",
              "</table>\n",
              "</div>"
            ],
            "text/plain": [
              "         date                 time  ...   latitude  longitude\n",
              "0  2019-09-16  2019-09-16 13:39:38  ...  40.702285 -73.995583\n",
              "1  2019-01-06  2019-01-06 18:12:42  ...  40.749904 -73.991040\n",
              "2  2019-09-05  2019-09-05 15:40:45  ...  40.720873 -74.006004\n",
              "3  2019-12-31  2019-12-31 12:56:12  ...  40.720873 -74.006004\n",
              "4  2019-12-31  2019-12-31 03:37:39  ...  40.720839 -74.005973\n",
              "\n",
              "[5 rows x 16 columns]"
            ]
          },
          "metadata": {
            "tags": []
          },
          "execution_count": 3
        }
      ]
    },
    {
      "cell_type": "code",
      "metadata": {
        "id": "mhCnpWNRl1tv",
        "colab_type": "code",
        "outputId": "7e9544aa-08d7-45ad-aa6b-a788015356db",
        "trusted": true,
        "colab": {
          "base_uri": "https://localhost:8080/",
          "height": 82
        }
      },
      "source": [
        "#show the number of posts per city\n",
        "fashion_weeks_19.filename.value_counts()"
      ],
      "execution_count": 4,
      "outputs": [
        {
          "output_type": "execute_result",
          "data": {
            "text/plain": [
              "nyfw2019    18918\n",
              "pfw2019      2052\n",
              "lfw2019      1782\n",
              "Name: filename, dtype: int64"
            ]
          },
          "metadata": {
            "tags": []
          },
          "execution_count": 4
        }
      ]
    },
    {
      "cell_type": "code",
      "metadata": {
        "id": "PlAgkbtwl3_s",
        "colab_type": "code",
        "trusted": false,
        "colab": {
          "base_uri": "https://localhost:8080/",
          "height": 561
        },
        "outputId": "40911b62-9945-46f1-e366-a23fed2802ab"
      },
      "source": [
        "#airbnb data\n",
        "!wget https://storage.googleapis.com/public-data-data_viz-2/london-listings-master-2019.csv\n",
        "!wget https://storage.googleapis.com/public-data-data_viz-2/newyork-listings-master-2019.csv\n",
        "!wget https://storage.googleapis.com/public-data-data_viz-2/paris-listings-master-2019.csv"
      ],
      "execution_count": 7,
      "outputs": [
        {
          "output_type": "stream",
          "text": [
            "--2020-04-09 13:59:14--  https://storage.googleapis.com/public-data-data_viz-2/london-listings-master-2019.csv\n",
            "Resolving storage.googleapis.com (storage.googleapis.com)... 172.217.193.128, 2607:f8b0:400c:c02::80\n",
            "Connecting to storage.googleapis.com (storage.googleapis.com)|172.217.193.128|:443... connected.\n",
            "HTTP request sent, awaiting response... 200 OK\n",
            "Length: 114143909 (109M) [text/csv]\n",
            "Saving to: ‘london-listings-master-2019.csv’\n",
            "\n",
            "london-listings-mas 100%[===================>] 108.86M   178MB/s    in 0.6s    \n",
            "\n",
            "2020-04-09 13:59:15 (178 MB/s) - ‘london-listings-master-2019.csv’ saved [114143909/114143909]\n",
            "\n",
            "--2020-04-09 13:59:16--  https://storage.googleapis.com/public-data-data_viz-2/newyork-listings-master-2019.csv\n",
            "Resolving storage.googleapis.com (storage.googleapis.com)... 172.217.193.128, 2607:f8b0:400c:c15::80\n",
            "Connecting to storage.googleapis.com (storage.googleapis.com)|172.217.193.128|:443... connected.\n",
            "HTTP request sent, awaiting response... 200 OK\n",
            "Length: 79185159 (76M) [text/csv]\n",
            "Saving to: ‘newyork-listings-master-2019.csv’\n",
            "\n",
            "newyork-listings-ma 100%[===================>]  75.52M   151MB/s    in 0.5s    \n",
            "\n",
            "2020-04-09 13:59:16 (151 MB/s) - ‘newyork-listings-master-2019.csv’ saved [79185159/79185159]\n",
            "\n",
            "--2020-04-09 13:59:17--  https://storage.googleapis.com/public-data-data_viz-2/paris-listings-master-2019.csv\n",
            "Resolving storage.googleapis.com (storage.googleapis.com)... 173.194.214.128, 2607:f8b0:400c:c07::80\n",
            "Connecting to storage.googleapis.com (storage.googleapis.com)|173.194.214.128|:443... connected.\n",
            "HTTP request sent, awaiting response... 200 OK\n",
            "Length: 102189583 (97M) [text/csv]\n",
            "Saving to: ‘paris-listings-master-2019.csv’\n",
            "\n",
            "paris-listings-mast 100%[===================>]  97.46M   193MB/s    in 0.5s    \n",
            "\n",
            "2020-04-09 13:59:18 (193 MB/s) - ‘paris-listings-master-2019.csv’ saved [102189583/102189583]\n",
            "\n"
          ],
          "name": "stdout"
        }
      ]
    },
    {
      "cell_type": "code",
      "metadata": {
        "id": "NPOu6uUzOtA8",
        "colab_type": "code",
        "colab": {
          "base_uri": "https://localhost:8080/",
          "height": 69
        },
        "outputId": "c527521c-dbd2-480c-c456-e2033b1545af"
      },
      "source": [
        "london_airbnb = pd.read_csv('london-listings-master-2019.csv')\n",
        "newyork_airbnb = pd.read_csv('newyork-listings-master-2019.csv')\n",
        "paris_airbnb = pd.read_csv('paris-listings-master-2019.csv')"
      ],
      "execution_count": 10,
      "outputs": [
        {
          "output_type": "stream",
          "text": [
            "/usr/local/lib/python3.6/dist-packages/IPython/core/interactiveshell.py:2718: DtypeWarning: Columns (4) have mixed types.Specify dtype option on import or set low_memory=False.\n",
            "  interactivity=interactivity, compiler=compiler, result=result)\n"
          ],
          "name": "stderr"
        }
      ]
    },
    {
      "cell_type": "code",
      "metadata": {
        "id": "XwHIdiN4O4WZ",
        "colab_type": "code",
        "colab": {
          "base_uri": "https://localhost:8080/",
          "height": 33
        },
        "outputId": "208c8aa3-db42-4a23-83fb-d6ed42448ff6"
      },
      "source": [
        "print(london_airbnb.shape, newyork_airbnb.shape, paris_airbnb.shape)"
      ],
      "execution_count": 11,
      "outputs": [
        {
          "output_type": "stream",
          "text": [
            "(840212, 16) (592519, 16) (744575, 16)\n"
          ],
          "name": "stdout"
        }
      ]
    },
    {
      "cell_type": "code",
      "metadata": {
        "id": "oGFq6bXAPX4z",
        "colab_type": "code",
        "colab": {}
      },
      "source": [
        ""
      ],
      "execution_count": 0,
      "outputs": []
    }
  ]
}